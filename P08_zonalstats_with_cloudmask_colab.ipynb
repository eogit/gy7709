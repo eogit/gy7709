{
  "nbformat": 4,
  "nbformat_minor": 0,
  "metadata": {
    "kernelspec": {
      "name": "python3",
      "display_name": "Python 3"
    },
    "language_info": {
      "codemirror_mode": {
        "name": "ipython",
        "version": 3
      },
      "file_extension": ".py",
      "mimetype": "text/x-python",
      "name": "python",
      "nbconvert_exporter": "python",
      "pygments_lexer": "ipython3",
      "version": "3.7.6"
    },
    "colab": {
      "name": "P08_zonalstats_with_cloudmask_colab.ipynb",
      "provenance": [],
      "collapsed_sections": [],
      "include_colab_link": true
    },
    "accelerator": "GPU"
  },
  "cells": [
    {
      "cell_type": "markdown",
      "metadata": {
        "id": "view-in-github",
        "colab_type": "text"
      },
      "source": [
        "<a href=\"https://colab.research.google.com/github/eogit/gy7709/blob/master/P08_zonalstats_with_cloudmask_colab.ipynb\" target=\"_parent\"><img src=\"https://colab.research.google.com/assets/colab-badge.svg\" alt=\"Open In Colab\"/></a>"
      ]
    },
    {
      "cell_type": "markdown",
      "metadata": {
        "id": "Fcro81WxTf4_",
        "colab_type": "text"
      },
      "source": [
        "# Analysing Sentinel-2 images and extracting time-series statistics\n",
        "\n",
        "Workflow for the practical:\n",
        "1. Search the ESA Copernicus Sentinel Data Hub for all available images over a region within a defined time period and low cloud cover\n",
        "2. Download all selected images into a data directory\n",
        "3. Convert all images into Geotiff files (retain only the 10 m resolution bands)\n",
        "4. Save quicklooks of all images\n",
        "5. Extract polygon statistics of the selected bands as a time series from all acquisition dates\n"
      ]
    },
    {
      "cell_type": "markdown",
      "metadata": {
        "id": "kmx17s7RvTG9",
        "colab_type": "text"
      },
      "source": [
        "The following code will ask you for authorisation to access Google Drive."
      ]
    },
    {
      "cell_type": "code",
      "metadata": {
        "colab_type": "code",
        "id": "wzmlF4GQD1ji",
        "outputId": "8dc02a40-3f48-4604-fc22-3e0091f17b12",
        "colab": {
          "base_uri": "https://localhost:8080/",
          "height": 139
        }
      },
      "source": [
        "# BEFORE YOU RUN THIS BLOCK, EDIT THE VARIABLE wd BELOW TO POINT TO YOUR DIRECTORY ON GOOGLE DRIVE\n",
        "\n",
        "# Load the Drive helper and mount your Google Drive as a drive in the virtual machine\n",
        "from google.colab import drive\n",
        "drive.mount('/content/drive')\n",
        "\n",
        "# path to your Google Drive\n",
        "# EDIT THIS LINE (/content/drive/My Drive is the top directory on Google Drive):\n",
        "wd = \"/content/drive/My Drive/practicals/p08\"\n",
        "print(\"Connected to data directory: \" + wd)\n",
        "\n",
        "# path to your temporary drive on the Colab Virtual Machine\n",
        "cd = \"/content/work\"\n",
        "\n",
        "# set plotting option for notebook\n",
        "%matplotlib inline "
      ],
      "execution_count": 1,
      "outputs": [
        {
          "output_type": "stream",
          "text": [
            "Go to this URL in a browser: https://accounts.google.com/o/oauth2/auth?client_id=947318989803-6bn6qk8qdgf4n4g3pfee6491hc0brc4i.apps.googleusercontent.com&redirect_uri=urn%3aietf%3awg%3aoauth%3a2.0%3aoob&response_type=code&scope=email%20https%3a%2f%2fwww.googleapis.com%2fauth%2fdocs.test%20https%3a%2f%2fwww.googleapis.com%2fauth%2fdrive%20https%3a%2f%2fwww.googleapis.com%2fauth%2fdrive.photos.readonly%20https%3a%2f%2fwww.googleapis.com%2fauth%2fpeopleapi.readonly\n",
            "\n",
            "Enter your authorization code:\n",
            "··········\n",
            "Mounted at /content/drive\n",
            "Connected to data directory: /content/drive/My Drive/practicals/p08\n"
          ],
          "name": "stdout"
        }
      ]
    },
    {
      "cell_type": "code",
      "metadata": {
        "id": "4n6eL_6vTf5C",
        "colab_type": "code",
        "outputId": "ca8da81d-75a4-44dd-bca3-fca0cb166737",
        "colab": {
          "base_uri": "https://localhost:8080/",
          "height": 323
        }
      },
      "source": [
        "# import packages\n",
        "from collections import OrderedDict\n",
        "from copy import copy\n",
        "import gdal\n",
        "import json\n",
        "import matplotlib.pyplot as plt\n",
        "import numpy as np\n",
        "import ogr\n",
        "import os\n",
        "from os import listdir\n",
        "from os.path import isfile, isdir, join\n",
        "import osr\n",
        "import shutil\n",
        "from skimage import exposure, io\n",
        "from skimage.morphology import binary_erosion, binary_dilation\n",
        "import subprocess\n",
        "import sys\n",
        "import zipfile\n",
        "\n",
        "# install and import those packages not known to Colab by default\n",
        "!pip install sentinelsat\n",
        "from sentinelsat.sentinel import SentinelAPI, read_geojson, geojson_to_wkt\n",
        "\n",
        "#gdal.UseExceptions()\n",
        "#io.use_plugin('matplotlib')"
      ],
      "execution_count": 2,
      "outputs": [
        {
          "output_type": "stream",
          "text": [
            "Collecting sentinelsat\n",
            "  Downloading https://files.pythonhosted.org/packages/5c/79/c2ac7b71dd13db95a9b83865bbbc7f1e4359c2b141bedad21b0e181fa06e/sentinelsat-0.13-py2.py3-none-any.whl\n",
            "Requirement already satisfied: click in /usr/local/lib/python3.6/dist-packages (from sentinelsat) (7.1.1)\n",
            "Collecting geojson>=2\n",
            "  Downloading https://files.pythonhosted.org/packages/e4/8d/9e28e9af95739e6d2d2f8d4bef0b3432da40b7c3588fbad4298c1be09e48/geojson-2.5.0-py2.py3-none-any.whl\n",
            "Requirement already satisfied: requests in /usr/local/lib/python3.6/dist-packages (from sentinelsat) (2.21.0)\n",
            "Requirement already satisfied: tqdm in /usr/local/lib/python3.6/dist-packages (from sentinelsat) (4.38.0)\n",
            "Collecting html2text\n",
            "  Downloading https://files.pythonhosted.org/packages/ae/88/14655f727f66b3e3199f4467bafcc88283e6c31b562686bf606264e09181/html2text-2020.1.16-py3-none-any.whl\n",
            "Collecting geomet\n",
            "  Downloading https://files.pythonhosted.org/packages/c9/81/156ca48f950f833ddc392f8e3677ca50a18cb9d5db38ccb4ecea55a9303f/geomet-0.2.1.post1-py3-none-any.whl\n",
            "Requirement already satisfied: six in /usr/local/lib/python3.6/dist-packages (from sentinelsat) (1.12.0)\n",
            "Requirement already satisfied: idna<2.9,>=2.5 in /usr/local/lib/python3.6/dist-packages (from requests->sentinelsat) (2.8)\n",
            "Requirement already satisfied: chardet<3.1.0,>=3.0.2 in /usr/local/lib/python3.6/dist-packages (from requests->sentinelsat) (3.0.4)\n",
            "Requirement already satisfied: urllib3<1.25,>=1.21.1 in /usr/local/lib/python3.6/dist-packages (from requests->sentinelsat) (1.24.3)\n",
            "Requirement already satisfied: certifi>=2017.4.17 in /usr/local/lib/python3.6/dist-packages (from requests->sentinelsat) (2019.11.28)\n",
            "Installing collected packages: geojson, html2text, geomet, sentinelsat\n",
            "Successfully installed geojson-2.5.0 geomet-0.2.1.post1 html2text-2020.1.16 sentinelsat-0.13\n"
          ],
          "name": "stdout"
        }
      ]
    },
    {
      "cell_type": "markdown",
      "metadata": {
        "id": "H0-BMbjnTf5K",
        "colab_type": "text"
      },
      "source": [
        "Set up some directory names. \n",
        "\n",
        "Modify these to match your data directory structure."
      ]
    },
    {
      "cell_type": "code",
      "metadata": {
        "id": "ms9KLrhyTf5L",
        "colab_type": "code",
        "outputId": "1523c3cd-c692-4bee-e3d9-60f3c38bd47c",
        "colab": {
          "base_uri": "https://localhost:8080/",
          "height": 459
        }
      },
      "source": [
        "# set up your directories for the satellite data\n",
        "# Note that we do all the downloading and data analysis on the temporary drive\n",
        "#    on Colab. We will copy the output directory to our Google Drive at the end.\n",
        "#    Colab has more disk space (about 40 GB free space) than Google Drive (15 GB).\n",
        "\n",
        "# directory for downloading the Sentinel-2 granules\n",
        "downloaddir = join(cd, 'download') \n",
        "# directory for the image tiff files we will make\n",
        "tiffdir = join(cd, 'tiff') \n",
        "# directory for the SCL tiff files we will make\n",
        "scltiffdir = join(cd, 'tiffscl') \n",
        "# quicklook directory\n",
        "quickdir = join(cd, 'quicklooks') \n",
        "# output directory for statistics file and search results\n",
        "outdir = join(cd, 'outputs') \n",
        "\n",
        "# CAREFUL: This code removes the named directories and everything inside them to free up space\n",
        "try:\n",
        "  shutil.rmtree(downloaddir)\n",
        "except:\n",
        "  print(downloaddir + \" not found.\")\n",
        "\n",
        "try:\n",
        "  shutil.rmtree(tiffdir)\n",
        "except:\n",
        "  print(tiffdir + \" not found.\")\n",
        "\n",
        "try:\n",
        "  shutil.rmtree(scltiffdir)\n",
        "except:\n",
        "  print(scltiffdir + \" not found.\")\n",
        "\n",
        "try:\n",
        "  shutil.rmtree(quickdir)\n",
        "except:\n",
        "  print(quickdir + \" not found.\")\n",
        "\n",
        "try:\n",
        "  shutil.rmtree(outdir)\n",
        "except:\n",
        "  print(outdir + \" not found.\")\n",
        "\n",
        "# create the new directories, unless they already exist\n",
        "os.makedirs(cd, exist_ok=True)\n",
        "print(\"Connected to temporary data directory: \" + cd)\n",
        "os.makedirs(downloaddir, exist_ok=True)\n",
        "os.makedirs(tiffdir, exist_ok=True)\n",
        "os.makedirs(quickdir, exist_ok=True)\n",
        "os.makedirs(outdir, exist_ok=True)\n",
        "\n",
        "print(\"\\nList of contents of \" + wd)\n",
        "for f in sorted(os.listdir(wd)):\n",
        "  print(f)"
      ],
      "execution_count": 3,
      "outputs": [
        {
          "output_type": "stream",
          "text": [
            "/content/work/download not found.\n",
            "/content/work/tiff not found.\n",
            "/content/work/tiffscl not found.\n",
            "/content/work/quicklooks not found.\n",
            "/content/work/outputs not found.\n",
            "Connected to temporary data directory: /content/work\n",
            "\n",
            "List of contents of /content/drive/My Drive/practicals/p08\n",
            ".ipynb_checkpoints\n",
            "P08_zonalstats_with_cloudmask_colab.ipynb\n",
            "field.dbf\n",
            "field.prj\n",
            "field.qpj\n",
            "field.shp\n",
            "field.shx\n",
            "p8area.cpg\n",
            "p8area.dbf\n",
            "p8area.geojson\n",
            "p8area.geojson.tmp\n",
            "p8area.prj\n",
            "p8area.qpj\n",
            "p8area.shp\n",
            "p8area.shx\n",
            "p8area.zip\n",
            "sencredentials-blank.txt\n",
            "sencredentials.txt\n"
          ],
          "name": "stdout"
        }
      ]
    },
    {
      "cell_type": "markdown",
      "metadata": {
        "id": "7MWM3wcwTf5P",
        "colab_type": "text"
      },
      "source": [
        "Before proceeding, you have to make a text file called \"sencredentials.txt\" with your login details for the ESA Copernicus Sentinel Hub. The file has two lines of text.\n",
        "Line 1: Your username\n",
        "Line 2: Your password\n"
      ]
    },
    {
      "cell_type": "code",
      "metadata": {
        "id": "jy8PKeYGTf5Q",
        "colab_type": "code",
        "colab": {}
      },
      "source": [
        "# BEFORE YOU RUN THIS BLOCK, YOU NEED A USER ACCOUNT ON THE ESA SENTINEL HUB\n",
        "# In a browser, go to https://scihub.copernicus.eu/dhus/#/home\n",
        "# Click on the user symbol in the top right and then on 'sign up'\n",
        "# Follow the instructions.\n",
        "# When you have your account, create a .txt file in Word that contains two lines:\n",
        "#   line 1 - your username\n",
        "#   line 2 - your password\n",
        "# save it under the name \"sencredentials.txt\"\n",
        "# upload it to the same directory as the Jupyter Notebook on your Google Drive.\n",
        "# This will allow the notebook to connect to your account on the ESA Data Archive.\n",
        "\n",
        "# Download options and Data Hub search parameters\n",
        "# EDIT THE OPTIONS BELOW TO CHANGE THE PROCESSING RUN:\n",
        "ndown = 3 # number of scenes to be downloaded (in order of least cloud cover), should be less than 11 on Colab due to space\n",
        "# YOU CAN PLACE A DIFFERENT SHAPEFILE ONTO YOUR GOOGLE DRIVE BUT MAKE SURE THAT\n",
        "#    THE VARIABLE shapefile BELOW POINTS TO THE CORRECT FILE:\n",
        "shapefile = join(wd, 'field.shp') # ESRI Shapefile of the study area\n",
        "datefrom = '20190301' # start date for imagery search\n",
        "dateto   = '20191231' # end date for imagery search\n",
        "clouds = '[0 TO 10]' # range of acceptable cloud cover % for imagery search\n",
        "    # Note that later versions of the Sentinelsat package require this in the format: clouds = (0, 10) \n",
        "credentials = join(wd, 'sencredentials.txt')  # contains two lines of text with username and password\n",
        "\n",
        "# Filename options\n",
        "# temporary VRT virtual raster stack of all image files\n",
        "vrtfile = \"mosaic_tmp_63782476532615387421.vrt\""
      ],
      "execution_count": 0,
      "outputs": []
    },
    {
      "cell_type": "markdown",
      "metadata": {
        "id": "ymlBzn9sTf5V",
        "colab_type": "text"
      },
      "source": [
        "Declare a function for converting all Sentinel-2 images in a directory into tiff files. Retain only the 10 m resolution bands."
      ]
    },
    {
      "cell_type": "code",
      "metadata": {
        "id": "l_kG2R-STf5W",
        "colab_type": "code",
        "colab": {}
      },
      "source": [
        "# The next block of code is a function that reads in the Sentinel-2 L2A (Level 2A) image obtained \n",
        "#     from the Copernicus Sentinel Data Hub.\n",
        "# It also changes the file to a new projection if defined\n",
        "# Sentinel images can be obtained for free from this web site: \n",
        "#     https://scihub.copernicus.eu/dhus/#/home\n",
        "# NOTE: The function deletes the original downloaded Sentinel-2 directory and all its contents\n",
        "#     after processing it to TIFF format.\n",
        "\n",
        "def s2tiff(indir, scldir, outdir, outscldir, ID, proj):\n",
        "    '''\n",
        "    indir = directory where the input band files are located - \n",
        "    scldir = directory where the input SCL cloud classification file is located\n",
        "    outdir = directory where the image tiff file will be written if it does not already exist\n",
        "    outscldir = directory where the SCL tiff file will be written if it does not already exist\n",
        "    ID = a string giving the filename without file extension\n",
        "    proj = output projection\n",
        "    '''\n",
        "    # list all files in input directory    \n",
        "    print('Files in directory ' + indir)\n",
        "    allfiles = sorted([f for f in listdir(indir) if isfile(join(indir, f))])\n",
        "    for f in allfiles:\n",
        "        print(f)\n",
        "\n",
        "    # make a band selection\n",
        "    print('Band files to be included in tiff file:')    \n",
        "    bands = allfiles[1:5]\n",
        "    for b in bands:\n",
        "        print(b)\n",
        "\n",
        "    # build a command line command for GDAL to convert the files into 10 m resolution VRT format\n",
        "    vrtfile = join(outdir, ID + '_16Bit.vrt')\n",
        "    cmd = ['gdalbuildvrt', '-resolution', 'user', '-tr' ,'10', '10', '-separate', vrtfile]\n",
        "    for band in bands:\n",
        "        cmd.append(join(indir, band))\n",
        "\n",
        "    if not os.path.exists(vrtfile): # skip if the output file already exists\n",
        "        print('\\n')\n",
        "        print(' '.join(cmd))\n",
        "        print('\\n')\n",
        "        subprocess.run(cmd) # execute the command in the command line\n",
        "    else:\n",
        "        print(vrtfile,' already exists.\\n')\n",
        "    \n",
        "    # check whether the output directory already exists and create it if not\n",
        "    os.makedirs(outdir, exist_ok=True)\n",
        "    os.makedirs(outscldir, exist_ok=True)\n",
        "\n",
        "    # define output file names\n",
        "    tiffile = join(outdir, ID + '_16Bit.tif')\n",
        "    projtiffile = join(outdir, ID + '_16Bit_proj.tif')\n",
        "\n",
        "    if not os.path.exists(projtiffile): # skip if the output file already exists\n",
        "        # build a command to translate the four band raster files into one geotiff file with 4 bands\n",
        "        cmd = ['gdal_translate', '-of' ,'GTiff', vrtfile, tiffile]\n",
        "        print(' '.join(cmd))\n",
        "        print('\\n')\n",
        "        # execute the GDAL command\n",
        "        subprocess.run(cmd) \n",
        "\n",
        "        # build a command to reproject the single Geotiff image to a new projection\n",
        "        cmd = ['gdalwarp', tiffile, projtiffile, '-t_srs', proj]\n",
        "        print(' '.join(cmd))\n",
        "        print('\\n')\n",
        "        # execute the GDAL command\n",
        "        subprocess.run(cmd) \n",
        "\n",
        "        os.remove(vrtfile) # delete the vrt file\n",
        "        os.remove(tiffile) # delete the tiffile in the old projection\n",
        "\n",
        "    else:\n",
        "        print(projtiffile,' already exists.\\n')\n",
        "\n",
        "    # build a command line command for GDAL to convert the SCL file into 10 m resolution VRT format\n",
        "    vrtfile = join(outscldir, ID + '_SCL16Bit.vrt')\n",
        "    cmd = ['gdalbuildvrt', '-resolution', 'user', '-tr' ,'10', '10', '-separate', vrtfile]\n",
        "    # find SCL file\n",
        "    allfiles = [f for f in listdir(scldir) if isfile(join(scldir, f))]\n",
        "    sclfile = [f for f in allfiles if \"SCL\" in f.split(\"_\")[2]]\n",
        "    print(type(sclfile))\n",
        "    for item in sclfile:\n",
        "        print('SCL file: ' + item)\n",
        "        cmd.append(join(scldir, item))\n",
        "    \n",
        "    if not os.path.exists(vrtfile): # skip if the output file already exists\n",
        "        print('\\n')\n",
        "        print(' '.join(cmd))\n",
        "        print('\\n')\n",
        "        subprocess.run(cmd) # execute the command in the command line\n",
        "    else:\n",
        "        print(vrtfile,' already exists.\\n')\n",
        "    \n",
        "    # define output file names\n",
        "    scltiffile = join(outscldir, ID + '_SCL16Bit.tif')\n",
        "    projscltiffile = join(outscldir, ID + '_SCL16Bit_proj.tif')\n",
        "\n",
        "    if not os.path.exists(projscltiffile): # skip if the output file already exists\n",
        "        # build a command to translate the cloud mask band raster file into a geotiff file\n",
        "        cmd = ['gdal_translate', '-of' ,'GTiff', vrtfile, scltiffile]\n",
        "        print(' '.join(cmd))\n",
        "        print('\\n')\n",
        "        # execute the GDAL command\n",
        "        subprocess.run(cmd) \n",
        "\n",
        "        # build a command to reproject the Geotiff to a new projection\n",
        "        cmd = ['gdalwarp', scltiffile, projscltiffile, '-t_srs', proj]\n",
        "        print(' '.join(cmd))\n",
        "        print('\\n')\n",
        "        # execute the GDAL command\n",
        "        subprocess.run(cmd) \n",
        "\n",
        "        print(\"Created file: \" + projscltiffile)\n",
        "        os.remove(vrtfile) # delete the vrt file\n",
        "        os.remove(scltiffile) # delete the tiffile in the old projection\n",
        "\n",
        "    else:\n",
        "        print(projscltiffile,' already exists.\\n')"
      ],
      "execution_count": 0,
      "outputs": []
    },
    {
      "cell_type": "markdown",
      "metadata": {
        "id": "Q27Ot9UUTf5a",
        "colab_type": "text"
      },
      "source": [
        "Declare a function for making one quicklook image in PNG format out of one or many TIFF files. The output file is smaller than the originals, i.e. not full resolution.\n"
      ]
    },
    {
      "cell_type": "code",
      "metadata": {
        "id": "q3W-IDyATf5c",
        "colab_type": "code",
        "colab": {}
      },
      "source": [
        "# This function makes one PNG quicklook file by mosaicking all tiff files in a list of filenames\n",
        "# Note: the files must all the in the same projection\n",
        "\n",
        "def quicklooks(tiffdir, infilelist, outdir, mosaicID, outsize):\n",
        "    '''\n",
        "    tiffdir = directory in which the files in infilelist are located\n",
        "    infilelist = list of filenames (full path not included) to be processed\n",
        "    outdir = directory where the PNG quicklook files will be saved\n",
        "    mosaicID = beginning of the file name of the output files to be created (full path)\n",
        "    outsize = percentage downscaling factor, e.g. 10 means 10% of xsize and 10% of ysize\n",
        "    '''\n",
        "\n",
        "    # make output filenames\n",
        "    vrtfile = join(outdir, mosaicID + \".vrt\")\n",
        "    quicklookfile = join(outdir, mosaicID + \".png\")\n",
        "\n",
        "    print(vrtfile)\n",
        "    print(quicklookfile)\n",
        "    \n",
        "    # save the list of file names to a text file for use in the GDAL command\n",
        "    filelist = join(outdir, \"filelist.txt\") # make a file name\n",
        "    \n",
        "    print(filelist)\n",
        "\n",
        "    file1 = open(filelist,\"w\") # open file in write mode \n",
        "\n",
        "    for f in infilelist:\n",
        "        file1.write(join(tiffdir, f)) \n",
        "        file1.write(\"\\n\")\n",
        "        print(join(tiffdir, f))\n",
        "        print(os.path.exists(join(tiffdir, f)))\n",
        "    file1.close() \n",
        "\n",
        "    # make a quicklook classification mosaic of all granules in PNG format using GDAL\n",
        "    com = \"gdalbuildvrt -overwrite -input_file_list \" + filelist + \" \"+ vrtfile\n",
        "    print(com)\n",
        "    flag = os.system(com)\n",
        "    if flag == 0:\n",
        "        print('Created VRT file: ' + vrtfile)\n",
        "    else:\n",
        "        print('Error creating VRT file')\n",
        "\n",
        "    # Create a PNG quicklook, scaled from 0 - 255\n",
        "    com = \"gdal_translate -of PNG -ot Byte -scale -outsize \" + str(outsize) + \"% \" + \\\n",
        "        str(outsize) + \"% \" + vrtfile + \" \" + quicklookfile\n",
        "    print(com)\n",
        "    flag = os.system(com)\n",
        "    if flag == 0:\n",
        "        print('Created quicklook mosaic file: ' + quicklookfile)\n",
        "    else:\n",
        "        print('Error creating quicklook mosaic file')"
      ],
      "execution_count": 0,
      "outputs": []
    },
    {
      "cell_type": "markdown",
      "metadata": {
        "id": "CsjOj8jHTf5h",
        "colab_type": "text"
      },
      "source": [
        "Declare a function to read in the Sentinel 2 Level 2A product cloud mask and mask out cloudy pixels from the data."
      ]
    },
    {
      "cell_type": "code",
      "metadata": {
        "id": "63uHPCDXTf5i",
        "colab_type": "code",
        "colab": {}
      },
      "source": [
        "def sentinel2_cloud_removal(imgfile, sclfile, outfile, maskfile, kernel_dil=(3, 3), kernel_ero=(7, 7), classes = [0, 1, 2, 3, 7, 8, 9, 10, 11]):\n",
        "    \"\"\"Motivated by the geospatial_learn package by Ciaran Robb. A further image erosion function\n",
        "    is applied to reduce the area around clouds missed by the sen2cor algorithm.\n",
        "\n",
        "    Removes clouds using the sen2cor scene classification. This is found in the .scl file of the L2A image folder.\n",
        "\n",
        "    Sen2cor Scene Classification Legend:\n",
        "    0 - NO_DATA (black)\n",
        "    1 - SATURATED_OR_DEFECTIVE (red)\n",
        "    2 - DARK_AREA_PIXELS (dark grey)\n",
        "    3 - CLOUD_SHADOWS (brown)\n",
        "    4 - VEGETATION (bright green)\n",
        "    5 - BARE_SOILS (yellow)\n",
        "    6 - WATER (blue)\n",
        "    7 - CLOUD_LOW_PROBILITY (grey)\n",
        "    8 - CLOUD_MEDIUM_PROBABILITY (light grey)\n",
        "    9 - CLOUD_HIGH_PROBABILITY (white)\n",
        "    10 - THIN_CIRRUS (light blue)\n",
        "    11 - SNOW (pink)\n",
        "\n",
        "    Based on this legend a reclassification will be carried out to generate a\n",
        "    cloud & QC mask. The identified mask classes will become 0 and the others will become 1.\n",
        "\n",
        "    imgfile: String indicating the input file name.\n",
        "    sclfile: String pointing to the respective sen2cor scene classification (SCL).\n",
        "    outfile: String containing the path and file name of the output file for the masked image\n",
        "    maskfile: String containing the path and file name of the mask file\n",
        "    kernel_dil: A tuple defining the dilation window applied to get rid of small cloud detections (often false classifications). Must be a pair of uneven numbers.\n",
        "    kernel_ero: A tuple defining the erosion window applied to reduced cloud fringes. Must be a pair of uneven numbers.\n",
        "    Returns nothing.\n",
        "    \"\"\"\n",
        "    \n",
        "    # split scl file paths\n",
        "    path_scl_new, fn_new = os.path.split(sclfile)\n",
        "\n",
        "    # split raster names\n",
        "    name_new, fmt_new = fn_new.split(\".\", 2)\n",
        "\n",
        "    # scl output names\n",
        "    scl_rcl_new_out = join(path_scl_new, name_new + '_rcl.' + fmt_new)\n",
        "\n",
        "    # read scl raster data and reclassify\n",
        "    ds_new = gdal.Open(sclfile, gdal.GA_ReadOnly)\n",
        "    bnd_new = ds_new.GetRasterBand(1)\n",
        "    array_new = bnd_new.ReadAsArray()\n",
        "\n",
        "    # recode the cloud mask to 0 (cloud and other masked areas) and 1 (good values)\n",
        "    array_new[np.isin(array_new, classes)] = 0\n",
        "    array_new[array_new != 0] = 1\n",
        "\n",
        "    # erode cloudmask using skimage.morphology module\n",
        "    #sieved_new = remove_small_objects(array_new, 10)\n",
        "    dilated_new = binary_dilation(array_new, np.ones(kernel_dil, dtype=np.int))\n",
        "    eroded_new = binary_erosion(dilated_new, np.ones(kernel_ero, dtype=np.int))\n",
        "\n",
        "    # read image raster data and apply the mask to all bands\n",
        "    img = gdal.Open(imgfile, gdal.GA_ReadOnly)\n",
        "    print(\"Raster band count: \", img.RasterCount)\n",
        "    \n",
        "    # save the cloud mask raster layer to file\n",
        "    print(maskfile)\n",
        "    print(img.RasterXSize)\n",
        "    print(img.RasterYSize)\n",
        "    print(ds_new.RasterCount)\n",
        "\n",
        "    output_raster = gdal.GetDriverByName('GTiff').Create(maskfile, img.RasterXSize, img.RasterYSize, ds_new.RasterCount, gdal.GDT_Int16) # Open the output file\n",
        "    output_raster.SetGeoTransform(img.GetGeoTransform()) # use the same Geotransform and projection as for the input file\n",
        "    output_raster.SetProjection(img.GetProjection())\n",
        "    output_raster.GetRasterBand(1).WriteArray(eroded_new) # Write the mask layer to the Geotiff file\n",
        "    output_raster.FlushCache()\n",
        "    # Close raster files\n",
        "    output_raster = None\n",
        "    ds_new = None\n",
        "    \n",
        "    # create an empty numpy array filled with zeros to hold all masked bands\n",
        "    img_masked = np.zeros((img.RasterCount, img.RasterYSize, img.RasterXSize)) # bands, rows, columns as in GDAL\n",
        "\n",
        "    # iterate over all image bands to apply the mask\n",
        "    for band in range(img.RasterCount):\n",
        "        # the range function starts at 0 but GDAL starts numbering at 1\n",
        "        print(\"Getting band \", band + 1)\n",
        "        bnd_new = img.GetRasterBand(band + 1)\n",
        "        bnd_array_new = bnd_new.ReadAsArray()\n",
        "        # mask out clouds from band image and save to file\n",
        "        img_masked[band,:,:] = np.where(eroded_new, bnd_array_new, 0) # apply the mask\n",
        "        \n",
        "    # Write raster dataset with all bands to a Geotiff file\n",
        "    output_raster = gdal.GetDriverByName('GTiff').Create(outfile, img.RasterXSize, img.RasterYSize, img.RasterCount, \\\n",
        "                                                         gdal.GDT_Int16)  # Open the file\n",
        "    output_raster.SetGeoTransform(img.GetGeoTransform()) # use the same Geotransform and projection as for the input file\n",
        "    output_raster.SetProjection(img.GetProjection())\n",
        "    for band in range(img.RasterCount):\n",
        "        output_raster.GetRasterBand(band+1).WriteArray(img_masked[band,:,:]) # Write each masked image band to the Geotiff file\n",
        "    output_raster.FlushCache()\n",
        "\n",
        "    # Close raster files\n",
        "    output_raster = None\n",
        "    img = None"
      ],
      "execution_count": 0,
      "outputs": []
    },
    {
      "cell_type": "markdown",
      "metadata": {
        "id": "NRTXwiJQTf5o",
        "colab_type": "text"
      },
      "source": [
        "#######################################################################\n",
        "# MAIN SCRIPT\n",
        "#######################################################################"
      ]
    },
    {
      "cell_type": "code",
      "metadata": {
        "id": "3ObLYYUITf5p",
        "colab_type": "code",
        "colab": {}
      },
      "source": [
        "#######################################################################\n",
        "# 1. Search the ESA Copernicus Sentinel Data Hub for all available images \n",
        "#    over a region within a defined time period and low cloud cover\n",
        "#######################################################################\n",
        "\n",
        "os.chdir(wd) # go to working directory\n",
        "\n",
        "# load user credentials for Sentinel Data Hub at ESA, i.e. read two lines of text with username and password\n",
        "with open(join(wd, credentials)) as f:\n",
        "    lines = f.readlines()\n",
        "username = lines[0].strip()\n",
        "password = lines[1].strip()\n",
        "f.close()\n",
        "\n",
        "# Define the API\n",
        "api = SentinelAPI(username, password, 'https://scihub.copernicus.eu/dhus')"
      ],
      "execution_count": 0,
      "outputs": []
    },
    {
      "cell_type": "markdown",
      "metadata": {
        "id": "nMwZ5lDQTf5s",
        "colab_type": "text"
      },
      "source": [
        "Convert the shapefile into GeoJSON if not already done."
      ]
    },
    {
      "cell_type": "code",
      "metadata": {
        "id": "bNPhP-VmTf5u",
        "colab_type": "code",
        "outputId": "ef806576-b991-434c-ab32-0c277b6b5ab3",
        "colab": {
          "base_uri": "https://localhost:8080/",
          "height": 68
        }
      },
      "source": [
        "# convert the shapefile to geojson as required by the Sentinel Hub\n",
        "gjfile = shapefile.split(\".\")[0]+\".geojson\"\n",
        "\n",
        "# check whether it exists already, e.g. from a previous run, in that case skip this step\n",
        "if not os.path.exists(gjfile):\n",
        "    # check that shapefile exists\n",
        "    if not os.path.exists(shapefile):\n",
        "        print('Error: Shapefile not found: ' + shapefile)\n",
        "    else:\n",
        "        print('Shapefile found: ' + shapefile)\n",
        "        # convert it\n",
        "        com = \"ogr2ogr -f GeoJSON -t_srs crs:84 \\'\" + gjfile + \"\\' \\'\" + shapefile + \"\\'\"\n",
        "        print(com)\n",
        "        flag = os.system(com)\n",
        "        if flag == 0:\n",
        "            print('Shapefile converted to Geojson format: ' + gjfile)\n",
        "        else:\n",
        "            print('Error converting shapefile to Geojson')\n",
        "else:\n",
        "    print('Geojson file already exists: ' + gjfile)\n",
        "\n",
        "# NOTE: The search is limited by the length of the search string, as explained below:\n",
        "#   <geographic type>=POLYGON((P1Lon P1Lat, P2Lon P2Lat, …, PnLon PnLat, P1Lon P1Lat))\n",
        "#   where P1Lon and P1Lat are the Longitude and Latitude coordinates of the first point \n",
        "#   of the polygon in decimal degrees (DDD) format (e.g. 2.17403, 41.40338) and so on.\n",
        "#   The coordinates of the last point of the polygon must coincide with the coordinates \n",
        "#   of the first point of the polygon.\n",
        "#   There is not a fixed limit for the maximum number of points to be used to define \n",
        "#   the Area of Interest (AOI). The limit is related to the maximum number of characters \n",
        "#   for the GUI search (i.e 8000). The maximum footprint extent possible is defined by \n",
        "#   the Mercator projection used on DHuS, i.e. LAT [-180, + 180] and LONG [-85.05, +85.05].\n",
        "\n",
        "# To prevent errors due to the length of the search string, we want to use the bounding\n",
        "#    box coordinates of the polygon layer for the image search.\n",
        "# get the bounding box of the geojson layer as a closed polygon in wkt format\n",
        "def bbox(coord_list):\n",
        "     box = []\n",
        "     for i in (0,1):\n",
        "         res = sorted(coord_list, key=lambda x:x[i])\n",
        "         box.append((res[0][i],res[-1][i]))\n",
        "     ret = \"POLYGON(\" + f\"({box[0][0]}  {box[1][0]}, {box[0][1]} {box[1][0]}, {box[0][1]} {box[1][1]}, {box[0][0]} {box[1][1]}, {box[0][0]}  {box[1][0]}))\"\n",
        "     return ret\n",
        "\n",
        "extent = bbox(list(geojson.utils.coords(read_geojson(gjfile))))\n",
        "\n",
        "# convert the geojson to wkt for the API search on the Sentinel Hub\n",
        "footprint = geojson_to_wkt(read_geojson(gjfile))\n",
        "print(\"Footprint from the Geojson file:\")\n",
        "print(footprint)\n",
        "print(\"Footprint from the bounding box of the Geojson file used in image search:\")\n",
        "print(extent)\n",
        "\n",
        "\n",
        "# get projection information from the shapefile to serve as output projection for the mosaic\n",
        "driver = ogr.GetDriverByName('ESRI Shapefile')\n",
        "shp = driver.Open(shapefile)\n",
        "layer = shp.GetLayer()\n",
        "outSpatialRef = layer.GetSpatialRef().ExportToWkt()\n",
        "shp = None # close file"
      ],
      "execution_count": 9,
      "outputs": [
        {
          "output_type": "stream",
          "text": [
            "Shapefile found: /content/drive/My Drive/practicals/p08/field.shp\n",
            "ogr2ogr -f GeoJSON -t_srs crs:84 '/content/drive/My Drive/practicals/p08/field.geojson' '/content/drive/My Drive/practicals/p08/field.shp'\n",
            "Shapefile converted to Geojson format: /content/drive/My Drive/practicals/p08/field.geojson\n"
          ],
          "name": "stdout"
        }
      ]
    },
    {
      "cell_type": "markdown",
      "metadata": {
        "id": "oYn1WnBTTf5z",
        "colab_type": "text"
      },
      "source": [
        "Search the ESA Sentinel data hub."
      ]
    },
    {
      "cell_type": "code",
      "metadata": {
        "id": "iC78b6POTf50",
        "colab_type": "code",
        "colab": {}
      },
      "source": [
        "# set query parameters and search the Sentinel data hub\n",
        "query_kwargs = {\n",
        "        'area': extent,\n",
        "        'date': (datefrom, dateto),\n",
        "        'platformname': 'Sentinel-2',\n",
        "        'processinglevel': 'Level-2A',\n",
        "        'cloudcoverpercentage': clouds\n",
        "        }\n",
        "\n",
        "# search the Sentinel data hub API\n",
        "products = api.query(**query_kwargs)"
      ],
      "execution_count": 0,
      "outputs": []
    },
    {
      "cell_type": "code",
      "metadata": {
        "id": "nT1Dg1fGTf54",
        "colab_type": "code",
        "outputId": "1ce2d778-0982-492e-991b-acb4349c773d",
        "colab": {
          "base_uri": "https://localhost:8080/",
          "height": 85
        }
      },
      "source": [
        "# convert list of products to Pandas DataFrame\n",
        "products_df = api.to_dataframe(products)\n",
        "print('Search resulted in '+str(products_df.shape[0])+' satellite images with '+\n",
        "      str(products_df.shape[1])+' attributes.')\n",
        "\n",
        "os.chdir(outdir) # set working direcory to directory for our text file outputs\n",
        "\n",
        "# sort the search results\n",
        "products_df_sorted = products_df.sort_values(['cloudcoverpercentage', 'ingestiondate'], ascending=[True, True])\n",
        "#print(products_df_sorted)\n",
        "outfile = 'searchresults_full.csv'\n",
        "products_df_sorted.to_csv(outfile)\n",
        "print(\"Search results saved: \" + outfile)\n",
        "\n",
        "# limit to first Ndown products sorted by lowest cloud cover and earliest acquisition date\n",
        "products_df_n = products_df_sorted.head(ndown)\n",
        "outfile = 'searchresults4download.csv'\n",
        "products_df_n.to_csv(outfile)\n",
        "print(\"Download list saved: \" + outfile)\n",
        "\n",
        "# get the footprints of the selected scenes\n",
        "s2footprints = products_df_n.footprint\n",
        "outfile = 'searchresultsfootprints.csv'\n",
        "s2footprints.to_csv(outfile, header = False)\n",
        "print(\"Granule footprints saved: \" + outfile)"
      ],
      "execution_count": 11,
      "outputs": [
        {
          "output_type": "stream",
          "text": [
            "Search resulted in 10 satellite images with 36 attributes.\n",
            "Search results saved: searchresults_full.csv\n",
            "Download list saved: searchresults4download.csv\n",
            "Granule footprints saved: searchresultsfootprints.csv\n"
          ],
          "name": "stdout"
        }
      ]
    },
    {
      "cell_type": "markdown",
      "metadata": {
        "id": "6EEPt8cWTf58",
        "colab_type": "text"
      },
      "source": [
        "Download data. This takes a long time if many images are selected."
      ]
    },
    {
      "cell_type": "code",
      "metadata": {
        "id": "WKHKknH8Tf59",
        "colab_type": "code",
        "outputId": "374e0c9e-bf91-4c85-ae5c-2caeb16b5603",
        "colab": {
          "base_uri": "https://localhost:8080/",
          "height": 836
        }
      },
      "source": [
        "#######################################################################\n",
        "# 2. Download all selected images into a data directory\n",
        "#######################################################################\n",
        "\n",
        "os.chdir(downloaddir) # set working direcory to download directory\n",
        "\n",
        "# download sorted and reduced products in order\n",
        "api.download_all(products_df_n['uuid'])"
      ],
      "execution_count": 12,
      "outputs": [
        {
          "output_type": "stream",
          "text": [
            "Downloading: 100%|██████████| 1.19G/1.19G [01:43<00:00, 11.5MB/s]\n",
            "MD5 checksumming: 100%|██████████| 1.19G/1.19G [00:02<00:00, 471MB/s]\n",
            "Downloading: 100%|██████████| 810M/810M [01:10<00:00, 11.6MB/s]\n",
            "MD5 checksumming: 100%|██████████| 810M/810M [00:01<00:00, 458MB/s]\n",
            "Downloading: 100%|██████████| 818M/818M [01:10<00:00, 11.5MB/s]\n",
            "MD5 checksumming: 100%|██████████| 818M/818M [00:01<00:00, 471MB/s]\n"
          ],
          "name": "stderr"
        },
        {
          "output_type": "execute_result",
          "data": {
            "text/plain": [
              "(OrderedDict([('7a8fd8e8-cdfc-46f5-907a-21c0b1ac0a7f',\n",
              "               {'Creation Date': datetime.datetime(2019, 9, 19, 23, 20, 20, 975000),\n",
              "                'Ingestion Date': datetime.datetime(2019, 9, 19, 23, 19, 37, 691000),\n",
              "                'Online': True,\n",
              "                'date': datetime.datetime(2019, 9, 19, 11, 7, 21, 24000),\n",
              "                'downloaded_bytes': 1190327688,\n",
              "                'footprint': 'POLYGON((-1.5015259 53.24020834947074,0.141769904481162 53.20820137275637,0.071678487044592 52.22256603361336,-1.5350342 52.25345680664421,-1.5015259 53.24020834947074))',\n",
              "                'id': '7a8fd8e8-cdfc-46f5-907a-21c0b1ac0a7f',\n",
              "                'md5': '21886E4A826F8627B2F8653206E16CA3',\n",
              "                'path': './S2A_MSIL2A_20190919T110721_N0213_R137_T30UXD_20190919T140654.zip',\n",
              "                'size': 1190327688,\n",
              "                'title': 'S2A_MSIL2A_20190919T110721_N0213_R137_T30UXD_20190919T140654',\n",
              "                'url': \"https://scihub.copernicus.eu/dhus/odata/v1/Products('7a8fd8e8-cdfc-46f5-907a-21c0b1ac0a7f')/$value\"}),\n",
              "              ('35dc5311-271f-4d7c-808f-8ff8cc30fd5c',\n",
              "               {'Creation Date': datetime.datetime(2019, 6, 30, 5, 9, 1, 120000),\n",
              "                'Ingestion Date': datetime.datetime(2019, 6, 30, 5, 7, 55, 799000),\n",
              "                'Online': True,\n",
              "                'date': datetime.datetime(2019, 6, 29, 11, 21, 19, 24000),\n",
              "                'downloaded_bytes': 809988569,\n",
              "                'footprint': 'POLYGON((-0.22210693 53.21528885110869,-0.25079346 53.16368684805786,-0.3302307 53.02019569196517,-0.4093933 52.87669140239972,-0.487854 52.7330848972699,-0.56585693 52.58946781128091,-0.62106323 52.48751242432056,-0.64416504 52.444848638522245,-0.6503296 52.43335630481874,-0.7208252 52.30215157257011,-0.75491333 52.23845832671169,-1.5350342 52.25345680664421,-1.5015259 53.24020834947074,-0.22210693 53.21528885110869))',\n",
              "                'id': '35dc5311-271f-4d7c-808f-8ff8cc30fd5c',\n",
              "                'md5': '230F943F754999428AB2CB8DC380C8FD',\n",
              "                'path': './S2B_MSIL2A_20190629T112119_N0212_R037_T30UXD_20190629T132135.zip',\n",
              "                'size': 809988569,\n",
              "                'title': 'S2B_MSIL2A_20190629T112119_N0212_R037_T30UXD_20190629T132135',\n",
              "                'url': \"https://scihub.copernicus.eu/dhus/odata/v1/Products('35dc5311-271f-4d7c-808f-8ff8cc30fd5c')/$value\"}),\n",
              "              ('edd96683-7cb5-426d-b919-c8e03660ff98',\n",
              "               {'Creation Date': datetime.datetime(2019, 10, 27, 17, 9, 28, 323000),\n",
              "                'Ingestion Date': datetime.datetime(2019, 10, 27, 17, 8, 48, 36000),\n",
              "                'Online': True,\n",
              "                'date': datetime.datetime(2019, 10, 27, 11, 21, 19, 24000),\n",
              "                'downloaded_bytes': 818364846,\n",
              "                'footprint': 'POLYGON((-0.21362305 53.21512328221052,-0.28778076 53.082368971792405,-0.3671875 52.93882365798616,-0.4458313 52.79526613020403,-0.5239563 52.65165578047323,-0.58706665 52.53513616319231,-0.60232544 52.50703356549863,-0.61468506 52.4839958287308,-0.67889404 52.36438239432816,-0.7460327 52.238287654997855,-1.5350342 52.25345680664421,-1.5015259 53.24020834947074,-0.21362305 53.21512328221052))',\n",
              "                'id': 'edd96683-7cb5-426d-b919-c8e03660ff98',\n",
              "                'md5': '1CE0EB303C7452D1191E11482CE39BD4',\n",
              "                'path': './S2B_MSIL2A_20191027T112119_N0213_R037_T30UXD_20191027T122034.zip',\n",
              "                'size': 818364846,\n",
              "                'title': 'S2B_MSIL2A_20191027T112119_N0213_R037_T30UXD_20191027T122034',\n",
              "                'url': \"https://scihub.copernicus.eu/dhus/odata/v1/Products('edd96683-7cb5-426d-b919-c8e03660ff98')/$value\"})]),\n",
              " OrderedDict(),\n",
              " set())"
            ]
          },
          "metadata": {
            "tags": []
          },
          "execution_count": 12
        }
      ]
    },
    {
      "cell_type": "code",
      "metadata": {
        "id": "4LC6XapHTf6B",
        "colab_type": "code",
        "outputId": "09f94331-754b-4ef7-970d-2fd4ee9080eb",
        "colab": {
          "base_uri": "https://localhost:8080/",
          "height": 34
        }
      },
      "source": [
        "# save the footprints of the scenes marked for download together with their metadata in a Geojson file\n",
        "# first, run a new query to get the metadata for the selected scenes\n",
        "products_n = OrderedDict()\n",
        "for uuid in products_df_n['uuid']:\n",
        "    kw = query_kwargs.copy()\n",
        "    kw['uuid'] = uuid\n",
        "    pp = api.query(**kw)\n",
        "    products_n.update(pp)\n",
        "\n",
        "# then, write the footprints and metadata to a geojson file\n",
        "outfile = join(outdir, 'footprints.geojson')\n",
        "with open(outfile, 'w') as f:\n",
        "    json.dump(api.to_geojson(products_n), f)\n",
        "print(\"Granule footprints saved as GeoJson: \" + outfile)"
      ],
      "execution_count": 13,
      "outputs": [
        {
          "output_type": "stream",
          "text": [
            "Granule footprints saved as GeoJson: /content/work/outputs/footprints.geojson\n"
          ],
          "name": "stdout"
        }
      ]
    },
    {
      "cell_type": "code",
      "metadata": {
        "scrolled": true,
        "id": "D_yRA41mTf6G",
        "colab_type": "code",
        "cellView": "both",
        "outputId": "c33e03ce-5536-47c1-a6ee-954e357d7569",
        "colab": {
          "base_uri": "https://localhost:8080/",
          "height": 1000
        }
      },
      "source": [
        "#######################################################################\n",
        "# 3. Convert all images into reprojected Geotiff files.\n",
        "#    Retain only the 10 m resolution bands and apply cloud mask.\n",
        "#######################################################################\n",
        "    \n",
        "# set working direcory to download directory\n",
        "os.chdir(downloaddir)\n",
        "\n",
        "# get list of all zip files in the data directory\n",
        "allfiles = [f for f in listdir(downloaddir) if isfile(join(downloaddir, f))]\n",
        "\n",
        "# unzip all these files and convert the 10 m bands to Geotiff\n",
        "for x in range(len(allfiles)):\n",
        "\n",
        "  if allfiles[x].split(\".\")[1] == \"zip\":\n",
        "    print(\"Unzipping file \", x+1, \": \", allfiles[x])\n",
        "\n",
        "    with zipfile.ZipFile(allfiles[x], \"r\") as zipf:\n",
        "      # first extract the files\n",
        "      zipf.extractall(downloaddir)\n",
        "\n",
        "      # then remove the zip file to save disk space\n",
        "      os.remove(join(downloaddir, allfiles[x]))\n",
        "\n",
        "      # in this directory are the Sentinel-2, 10 m resolution band files.\n",
        "      # extract *.SAFE subdirectory path, then GRANULE, then L2A_*, then IMG_DATA, then R10m\n",
        "      sceneID = allfiles[x].split(\".\")[0] # the first part of the directory name is the granule ID\n",
        "\n",
        "      # find *.SAFE subdirectory\n",
        "      dirlist = [d for d in listdir(downloaddir) if isdir(join(downloaddir, d))]\n",
        "      for y in range(len(dirlist)):\n",
        "        if dirlist[y].split(\".\")[1] == \"SAFE\":\n",
        "          s2rootdir = join(downloaddir, dirlist[y])\n",
        "\n",
        "      # find GRANULE subdirectory\n",
        "      thisdir = join(s2rootdir, \"GRANULE\")\n",
        "\n",
        "      # find L2A_* subdirectory\n",
        "      dirlist = [d for d in listdir(thisdir) if isdir(join(thisdir, d))]\n",
        "      for y in range(len(dirlist)):\n",
        "        if dirlist[y].split(\"_\")[0] == \"L2A\":\n",
        "          thisdir = join(thisdir, dirlist[y])\n",
        "\n",
        "      # find IMG_DATA subdirectory\n",
        "      thisdir = join(thisdir, \"IMG_DATA\")\n",
        "      scldir = copy(thisdir) # also find the path to the 20 m resolution SCL file with cloud mask information\n",
        "\n",
        "      # find R10m subdirectory\n",
        "      thisdir = join(thisdir, \"R10m\")\n",
        "\n",
        "      # find R20m subdirectory for SCL file\n",
        "      scldir = join(scldir, \"R20m\")\n",
        "      \n",
        "      # call our function to convert the granule into a reprojected Geotiff file\n",
        "      s2tiff(thisdir, scldir, tiffdir, scltiffdir, sceneID, outSpatialRef)\n",
        "\n",
        "      # apply the cloud masking procedure\n",
        "      imgfile = join(tiffdir, sceneID + '_16Bit_proj.tif')\n",
        "      sclfile = join(scltiffdir, sceneID + '_SCL16Bit_proj.tif')\n",
        "\n",
        "      # define the output file names\n",
        "      outfile = join(outdir, sceneID + '_clmasked.tif') # for the cloud masked image bands\n",
        "      maskfile = join(outdir, sceneID + '_clmask.tif') # for the cloud mask itself\n",
        "      sentinel2_cloud_removal(imgfile, sclfile, outfile, maskfile, kernel_dil=(5, 5), kernel_ero=(15, 15), classes = [0, 1, 2, 3, 6, 8, 9, 10, 11])\n",
        "\n",
        "      # finally, delete the unzipped Sentinel-2 image directory and its contents\n",
        "      #    to free up disk space\n",
        "      shutil.rmtree(s2rootdir)"
      ],
      "execution_count": 14,
      "outputs": [
        {
          "output_type": "stream",
          "text": [
            "Unzipping file  1 :  S2A_MSIL2A_20190919T110721_N0213_R137_T30UXD_20190919T140654.zip\n",
            "Files in directory /content/work/download/S2A_MSIL2A_20190919T110721_N0213_R137_T30UXD_20190919T140654.SAFE/GRANULE/L2A_T30UXD_A022156_20190919T111421/IMG_DATA/R10m\n",
            "T30UXD_20190919T110721_AOT_10m.jp2\n",
            "T30UXD_20190919T110721_B02_10m.jp2\n",
            "T30UXD_20190919T110721_B03_10m.jp2\n",
            "T30UXD_20190919T110721_B04_10m.jp2\n",
            "T30UXD_20190919T110721_B08_10m.jp2\n",
            "T30UXD_20190919T110721_TCI_10m.jp2\n",
            "T30UXD_20190919T110721_WVP_10m.jp2\n",
            "Band files to be included in tiff file:\n",
            "T30UXD_20190919T110721_B02_10m.jp2\n",
            "T30UXD_20190919T110721_B03_10m.jp2\n",
            "T30UXD_20190919T110721_B04_10m.jp2\n",
            "T30UXD_20190919T110721_B08_10m.jp2\n",
            "\n",
            "\n",
            "gdalbuildvrt -resolution user -tr 10 10 -separate /content/work/tiff/S2A_MSIL2A_20190919T110721_N0213_R137_T30UXD_20190919T140654_16Bit.vrt /content/work/download/S2A_MSIL2A_20190919T110721_N0213_R137_T30UXD_20190919T140654.SAFE/GRANULE/L2A_T30UXD_A022156_20190919T111421/IMG_DATA/R10m/T30UXD_20190919T110721_B02_10m.jp2 /content/work/download/S2A_MSIL2A_20190919T110721_N0213_R137_T30UXD_20190919T140654.SAFE/GRANULE/L2A_T30UXD_A022156_20190919T111421/IMG_DATA/R10m/T30UXD_20190919T110721_B03_10m.jp2 /content/work/download/S2A_MSIL2A_20190919T110721_N0213_R137_T30UXD_20190919T140654.SAFE/GRANULE/L2A_T30UXD_A022156_20190919T111421/IMG_DATA/R10m/T30UXD_20190919T110721_B04_10m.jp2 /content/work/download/S2A_MSIL2A_20190919T110721_N0213_R137_T30UXD_20190919T140654.SAFE/GRANULE/L2A_T30UXD_A022156_20190919T111421/IMG_DATA/R10m/T30UXD_20190919T110721_B08_10m.jp2\n",
            "\n",
            "\n",
            "gdal_translate -of GTiff /content/work/tiff/S2A_MSIL2A_20190919T110721_N0213_R137_T30UXD_20190919T140654_16Bit.vrt /content/work/tiff/S2A_MSIL2A_20190919T110721_N0213_R137_T30UXD_20190919T140654_16Bit.tif\n",
            "\n",
            "\n",
            "gdalwarp /content/work/tiff/S2A_MSIL2A_20190919T110721_N0213_R137_T30UXD_20190919T140654_16Bit.tif /content/work/tiff/S2A_MSIL2A_20190919T110721_N0213_R137_T30UXD_20190919T140654_16Bit_proj.tif -t_srs GEOGCS[\"GCS_WGS_1984\",DATUM[\"WGS_1984\",SPHEROID[\"WGS_84\",6378137,298.257223563]],PRIMEM[\"Greenwich\",0],UNIT[\"Degree\",0.017453292519943295],AUTHORITY[\"EPSG\",\"4326\"]]\n",
            "\n",
            "\n",
            "<class 'list'>\n",
            "SCL file: T30UXD_20190919T110721_SCL_20m.jp2\n",
            "\n",
            "\n",
            "gdalbuildvrt -resolution user -tr 10 10 -separate /content/work/tiffscl/S2A_MSIL2A_20190919T110721_N0213_R137_T30UXD_20190919T140654_SCL16Bit.vrt /content/work/download/S2A_MSIL2A_20190919T110721_N0213_R137_T30UXD_20190919T140654.SAFE/GRANULE/L2A_T30UXD_A022156_20190919T111421/IMG_DATA/R20m/T30UXD_20190919T110721_SCL_20m.jp2\n",
            "\n",
            "\n",
            "gdal_translate -of GTiff /content/work/tiffscl/S2A_MSIL2A_20190919T110721_N0213_R137_T30UXD_20190919T140654_SCL16Bit.vrt /content/work/tiffscl/S2A_MSIL2A_20190919T110721_N0213_R137_T30UXD_20190919T140654_SCL16Bit.tif\n",
            "\n",
            "\n",
            "gdalwarp /content/work/tiffscl/S2A_MSIL2A_20190919T110721_N0213_R137_T30UXD_20190919T140654_SCL16Bit.tif /content/work/tiffscl/S2A_MSIL2A_20190919T110721_N0213_R137_T30UXD_20190919T140654_SCL16Bit_proj.tif -t_srs GEOGCS[\"GCS_WGS_1984\",DATUM[\"WGS_1984\",SPHEROID[\"WGS_84\",6378137,298.257223563]],PRIMEM[\"Greenwich\",0],UNIT[\"Degree\",0.017453292519943295],AUTHORITY[\"EPSG\",\"4326\"]]\n",
            "\n",
            "\n",
            "Created file: /content/work/tiffscl/S2A_MSIL2A_20190919T110721_N0213_R137_T30UXD_20190919T140654_SCL16Bit_proj.tif\n",
            "Raster band count:  4\n",
            "/content/work/outputs/S2A_MSIL2A_20190919T110721_N0213_R137_T30UXD_20190919T140654_clmask.tif\n",
            "13896\n",
            "8434\n",
            "1\n",
            "Getting band  1\n",
            "Getting band  2\n",
            "Getting band  3\n",
            "Getting band  4\n",
            "Unzipping file  2 :  S2B_MSIL2A_20191027T112119_N0213_R037_T30UXD_20191027T122034.zip\n",
            "Files in directory /content/work/download/S2B_MSIL2A_20191027T112119_N0213_R037_T30UXD_20191027T122034.SAFE/GRANULE/L2A_T30UXD_A013791_20191027T112505/IMG_DATA/R10m\n",
            "T30UXD_20191027T112119_AOT_10m.jp2\n",
            "T30UXD_20191027T112119_B02_10m.jp2\n",
            "T30UXD_20191027T112119_B03_10m.jp2\n",
            "T30UXD_20191027T112119_B04_10m.jp2\n",
            "T30UXD_20191027T112119_B08_10m.jp2\n",
            "T30UXD_20191027T112119_TCI_10m.jp2\n",
            "T30UXD_20191027T112119_WVP_10m.jp2\n",
            "Band files to be included in tiff file:\n",
            "T30UXD_20191027T112119_B02_10m.jp2\n",
            "T30UXD_20191027T112119_B03_10m.jp2\n",
            "T30UXD_20191027T112119_B04_10m.jp2\n",
            "T30UXD_20191027T112119_B08_10m.jp2\n",
            "\n",
            "\n",
            "gdalbuildvrt -resolution user -tr 10 10 -separate /content/work/tiff/S2B_MSIL2A_20191027T112119_N0213_R037_T30UXD_20191027T122034_16Bit.vrt /content/work/download/S2B_MSIL2A_20191027T112119_N0213_R037_T30UXD_20191027T122034.SAFE/GRANULE/L2A_T30UXD_A013791_20191027T112505/IMG_DATA/R10m/T30UXD_20191027T112119_B02_10m.jp2 /content/work/download/S2B_MSIL2A_20191027T112119_N0213_R037_T30UXD_20191027T122034.SAFE/GRANULE/L2A_T30UXD_A013791_20191027T112505/IMG_DATA/R10m/T30UXD_20191027T112119_B03_10m.jp2 /content/work/download/S2B_MSIL2A_20191027T112119_N0213_R037_T30UXD_20191027T122034.SAFE/GRANULE/L2A_T30UXD_A013791_20191027T112505/IMG_DATA/R10m/T30UXD_20191027T112119_B04_10m.jp2 /content/work/download/S2B_MSIL2A_20191027T112119_N0213_R037_T30UXD_20191027T122034.SAFE/GRANULE/L2A_T30UXD_A013791_20191027T112505/IMG_DATA/R10m/T30UXD_20191027T112119_B08_10m.jp2\n",
            "\n",
            "\n",
            "gdal_translate -of GTiff /content/work/tiff/S2B_MSIL2A_20191027T112119_N0213_R037_T30UXD_20191027T122034_16Bit.vrt /content/work/tiff/S2B_MSIL2A_20191027T112119_N0213_R037_T30UXD_20191027T122034_16Bit.tif\n",
            "\n",
            "\n",
            "gdalwarp /content/work/tiff/S2B_MSIL2A_20191027T112119_N0213_R037_T30UXD_20191027T122034_16Bit.tif /content/work/tiff/S2B_MSIL2A_20191027T112119_N0213_R037_T30UXD_20191027T122034_16Bit_proj.tif -t_srs GEOGCS[\"GCS_WGS_1984\",DATUM[\"WGS_1984\",SPHEROID[\"WGS_84\",6378137,298.257223563]],PRIMEM[\"Greenwich\",0],UNIT[\"Degree\",0.017453292519943295],AUTHORITY[\"EPSG\",\"4326\"]]\n",
            "\n",
            "\n",
            "<class 'list'>\n",
            "SCL file: T30UXD_20191027T112119_SCL_20m.jp2\n",
            "\n",
            "\n",
            "gdalbuildvrt -resolution user -tr 10 10 -separate /content/work/tiffscl/S2B_MSIL2A_20191027T112119_N0213_R037_T30UXD_20191027T122034_SCL16Bit.vrt /content/work/download/S2B_MSIL2A_20191027T112119_N0213_R037_T30UXD_20191027T122034.SAFE/GRANULE/L2A_T30UXD_A013791_20191027T112505/IMG_DATA/R20m/T30UXD_20191027T112119_SCL_20m.jp2\n",
            "\n",
            "\n",
            "gdal_translate -of GTiff /content/work/tiffscl/S2B_MSIL2A_20191027T112119_N0213_R037_T30UXD_20191027T122034_SCL16Bit.vrt /content/work/tiffscl/S2B_MSIL2A_20191027T112119_N0213_R037_T30UXD_20191027T122034_SCL16Bit.tif\n",
            "\n",
            "\n",
            "gdalwarp /content/work/tiffscl/S2B_MSIL2A_20191027T112119_N0213_R037_T30UXD_20191027T122034_SCL16Bit.tif /content/work/tiffscl/S2B_MSIL2A_20191027T112119_N0213_R037_T30UXD_20191027T122034_SCL16Bit_proj.tif -t_srs GEOGCS[\"GCS_WGS_1984\",DATUM[\"WGS_1984\",SPHEROID[\"WGS_84\",6378137,298.257223563]],PRIMEM[\"Greenwich\",0],UNIT[\"Degree\",0.017453292519943295],AUTHORITY[\"EPSG\",\"4326\"]]\n",
            "\n",
            "\n",
            "Created file: /content/work/tiffscl/S2B_MSIL2A_20191027T112119_N0213_R037_T30UXD_20191027T122034_SCL16Bit_proj.tif\n",
            "Raster band count:  4\n",
            "/content/work/outputs/S2B_MSIL2A_20191027T112119_N0213_R037_T30UXD_20191027T122034_clmask.tif\n",
            "13896\n",
            "8434\n",
            "1\n",
            "Getting band  1\n",
            "Getting band  2\n",
            "Getting band  3\n",
            "Getting band  4\n",
            "Unzipping file  3 :  S2B_MSIL2A_20190629T112119_N0212_R037_T30UXD_20190629T132135.zip\n",
            "Files in directory /content/work/download/S2B_MSIL2A_20190629T112119_N0212_R037_T30UXD_20190629T132135.SAFE/GRANULE/L2A_T30UXD_A012075_20190629T112256/IMG_DATA/R10m\n",
            "T30UXD_20190629T112119_AOT_10m.jp2\n",
            "T30UXD_20190629T112119_B02_10m.jp2\n",
            "T30UXD_20190629T112119_B03_10m.jp2\n",
            "T30UXD_20190629T112119_B04_10m.jp2\n",
            "T30UXD_20190629T112119_B08_10m.jp2\n",
            "T30UXD_20190629T112119_TCI_10m.jp2\n",
            "T30UXD_20190629T112119_WVP_10m.jp2\n",
            "Band files to be included in tiff file:\n",
            "T30UXD_20190629T112119_B02_10m.jp2\n",
            "T30UXD_20190629T112119_B03_10m.jp2\n",
            "T30UXD_20190629T112119_B04_10m.jp2\n",
            "T30UXD_20190629T112119_B08_10m.jp2\n",
            "\n",
            "\n",
            "gdalbuildvrt -resolution user -tr 10 10 -separate /content/work/tiff/S2B_MSIL2A_20190629T112119_N0212_R037_T30UXD_20190629T132135_16Bit.vrt /content/work/download/S2B_MSIL2A_20190629T112119_N0212_R037_T30UXD_20190629T132135.SAFE/GRANULE/L2A_T30UXD_A012075_20190629T112256/IMG_DATA/R10m/T30UXD_20190629T112119_B02_10m.jp2 /content/work/download/S2B_MSIL2A_20190629T112119_N0212_R037_T30UXD_20190629T132135.SAFE/GRANULE/L2A_T30UXD_A012075_20190629T112256/IMG_DATA/R10m/T30UXD_20190629T112119_B03_10m.jp2 /content/work/download/S2B_MSIL2A_20190629T112119_N0212_R037_T30UXD_20190629T132135.SAFE/GRANULE/L2A_T30UXD_A012075_20190629T112256/IMG_DATA/R10m/T30UXD_20190629T112119_B04_10m.jp2 /content/work/download/S2B_MSIL2A_20190629T112119_N0212_R037_T30UXD_20190629T132135.SAFE/GRANULE/L2A_T30UXD_A012075_20190629T112256/IMG_DATA/R10m/T30UXD_20190629T112119_B08_10m.jp2\n",
            "\n",
            "\n",
            "gdal_translate -of GTiff /content/work/tiff/S2B_MSIL2A_20190629T112119_N0212_R037_T30UXD_20190629T132135_16Bit.vrt /content/work/tiff/S2B_MSIL2A_20190629T112119_N0212_R037_T30UXD_20190629T132135_16Bit.tif\n",
            "\n",
            "\n",
            "gdalwarp /content/work/tiff/S2B_MSIL2A_20190629T112119_N0212_R037_T30UXD_20190629T132135_16Bit.tif /content/work/tiff/S2B_MSIL2A_20190629T112119_N0212_R037_T30UXD_20190629T132135_16Bit_proj.tif -t_srs GEOGCS[\"GCS_WGS_1984\",DATUM[\"WGS_1984\",SPHEROID[\"WGS_84\",6378137,298.257223563]],PRIMEM[\"Greenwich\",0],UNIT[\"Degree\",0.017453292519943295],AUTHORITY[\"EPSG\",\"4326\"]]\n",
            "\n",
            "\n",
            "<class 'list'>\n",
            "SCL file: T30UXD_20190629T112119_SCL_20m.jp2\n",
            "\n",
            "\n",
            "gdalbuildvrt -resolution user -tr 10 10 -separate /content/work/tiffscl/S2B_MSIL2A_20190629T112119_N0212_R037_T30UXD_20190629T132135_SCL16Bit.vrt /content/work/download/S2B_MSIL2A_20190629T112119_N0212_R037_T30UXD_20190629T132135.SAFE/GRANULE/L2A_T30UXD_A012075_20190629T112256/IMG_DATA/R20m/T30UXD_20190629T112119_SCL_20m.jp2\n",
            "\n",
            "\n",
            "gdal_translate -of GTiff /content/work/tiffscl/S2B_MSIL2A_20190629T112119_N0212_R037_T30UXD_20190629T132135_SCL16Bit.vrt /content/work/tiffscl/S2B_MSIL2A_20190629T112119_N0212_R037_T30UXD_20190629T132135_SCL16Bit.tif\n",
            "\n",
            "\n",
            "gdalwarp /content/work/tiffscl/S2B_MSIL2A_20190629T112119_N0212_R037_T30UXD_20190629T132135_SCL16Bit.tif /content/work/tiffscl/S2B_MSIL2A_20190629T112119_N0212_R037_T30UXD_20190629T132135_SCL16Bit_proj.tif -t_srs GEOGCS[\"GCS_WGS_1984\",DATUM[\"WGS_1984\",SPHEROID[\"WGS_84\",6378137,298.257223563]],PRIMEM[\"Greenwich\",0],UNIT[\"Degree\",0.017453292519943295],AUTHORITY[\"EPSG\",\"4326\"]]\n",
            "\n",
            "\n",
            "Created file: /content/work/tiffscl/S2B_MSIL2A_20190629T112119_N0212_R037_T30UXD_20190629T132135_SCL16Bit_proj.tif\n",
            "Raster band count:  4\n",
            "/content/work/outputs/S2B_MSIL2A_20190629T112119_N0212_R037_T30UXD_20190629T132135_clmask.tif\n",
            "13896\n",
            "8434\n",
            "1\n",
            "Getting band  1\n",
            "Getting band  2\n",
            "Getting band  3\n",
            "Getting band  4\n"
          ],
          "name": "stdout"
        }
      ]
    },
    {
      "cell_type": "code",
      "metadata": {
        "scrolled": false,
        "id": "w5RfxqNmTf6L",
        "colab_type": "code",
        "cellView": "both",
        "outputId": "8777b823-bf17-46d5-eaef-35412bef44c3",
        "colab": {
          "base_uri": "https://localhost:8080/",
          "height": 751
        }
      },
      "source": [
        "#######################################################################\n",
        "# 4. Save quicklooks of all image mosaics for each image acquisition date\n",
        "#######################################################################\n",
        "\n",
        "# declare a function to eliminate duplicate entries in a list by converting to a dictionary and back\n",
        "def remove_duplicates(x):\n",
        "    return list(dict.fromkeys(x))\n",
        "\n",
        "# get list of all tiff files in the data directory\n",
        "allfiles = [f for f in listdir(tiffdir) if (isfile(join(tiffdir, f)) and f.endswith('.tif'))]\n",
        "\n",
        "print(\"\\nAll files:\")\n",
        "print(allfiles)\n",
        "\n",
        "# pull out all acquisition dates from the file names\n",
        "# for the Sentinel-2 naming convention, see \n",
        "#     https://sentinel.esa.int/web/sentinel/user-guides/sentinel-2-msi/naming-convention\n",
        "acqdates = remove_duplicates([f.split(\"_\")[2].split(\"T\")[0] for f in allfiles])\n",
        "\n",
        "print(\"\\nAll acquisition dates (sorted):\")\n",
        "print([f for f in sorted(acqdates)])\n",
        "\n",
        "# go through all dates\n",
        "for d in acqdates:\n",
        "    \n",
        "    # pull out all file names of the same acquisition date\n",
        "    files2mosaic = [f for f in allfiles if (f.split(\"_\")[2].split(\"T\")[0] == d)]\n",
        "\n",
        "    print(\"\\nImages taken on date \" + d)\n",
        "    print(files2mosaic)\n",
        "    \n",
        "    # define a filename for the output file\n",
        "    mosaicID = \"S2_\" + d\n",
        "\n",
        "    # call our function\n",
        "    quicklooks(tiffdir, files2mosaic, quickdir, mosaicID, 10)"
      ],
      "execution_count": 15,
      "outputs": [
        {
          "output_type": "stream",
          "text": [
            "\n",
            "All files:\n",
            "['S2B_MSIL2A_20191027T112119_N0213_R037_T30UXD_20191027T122034_16Bit_proj.tif', 'S2B_MSIL2A_20190629T112119_N0212_R037_T30UXD_20190629T132135_16Bit_proj.tif', 'S2A_MSIL2A_20190919T110721_N0213_R137_T30UXD_20190919T140654_16Bit_proj.tif']\n",
            "\n",
            "All acquisition dates (sorted):\n",
            "['20190629', '20190919', '20191027']\n",
            "\n",
            "Images taken on date 20191027\n",
            "['S2B_MSIL2A_20191027T112119_N0213_R037_T30UXD_20191027T122034_16Bit_proj.tif']\n",
            "/content/work/quicklooks/S2_20191027.vrt\n",
            "/content/work/quicklooks/S2_20191027.png\n",
            "/content/work/quicklooks/filelist.txt\n",
            "/content/work/tiff/S2B_MSIL2A_20191027T112119_N0213_R037_T30UXD_20191027T122034_16Bit_proj.tif\n",
            "True\n",
            "gdalbuildvrt -overwrite -input_file_list /content/work/quicklooks/filelist.txt /content/work/quicklooks/S2_20191027.vrt\n",
            "Created VRT file: /content/work/quicklooks/S2_20191027.vrt\n",
            "gdal_translate -of PNG -ot Byte -scale -outsize 10% 10% /content/work/quicklooks/S2_20191027.vrt /content/work/quicklooks/S2_20191027.png\n",
            "Created quicklook mosaic file: /content/work/quicklooks/S2_20191027.png\n",
            "\n",
            "Images taken on date 20190629\n",
            "['S2B_MSIL2A_20190629T112119_N0212_R037_T30UXD_20190629T132135_16Bit_proj.tif']\n",
            "/content/work/quicklooks/S2_20190629.vrt\n",
            "/content/work/quicklooks/S2_20190629.png\n",
            "/content/work/quicklooks/filelist.txt\n",
            "/content/work/tiff/S2B_MSIL2A_20190629T112119_N0212_R037_T30UXD_20190629T132135_16Bit_proj.tif\n",
            "True\n",
            "gdalbuildvrt -overwrite -input_file_list /content/work/quicklooks/filelist.txt /content/work/quicklooks/S2_20190629.vrt\n",
            "Created VRT file: /content/work/quicklooks/S2_20190629.vrt\n",
            "gdal_translate -of PNG -ot Byte -scale -outsize 10% 10% /content/work/quicklooks/S2_20190629.vrt /content/work/quicklooks/S2_20190629.png\n",
            "Created quicklook mosaic file: /content/work/quicklooks/S2_20190629.png\n",
            "\n",
            "Images taken on date 20190919\n",
            "['S2A_MSIL2A_20190919T110721_N0213_R137_T30UXD_20190919T140654_16Bit_proj.tif']\n",
            "/content/work/quicklooks/S2_20190919.vrt\n",
            "/content/work/quicklooks/S2_20190919.png\n",
            "/content/work/quicklooks/filelist.txt\n",
            "/content/work/tiff/S2A_MSIL2A_20190919T110721_N0213_R137_T30UXD_20190919T140654_16Bit_proj.tif\n",
            "True\n",
            "gdalbuildvrt -overwrite -input_file_list /content/work/quicklooks/filelist.txt /content/work/quicklooks/S2_20190919.vrt\n",
            "Created VRT file: /content/work/quicklooks/S2_20190919.vrt\n",
            "gdal_translate -of PNG -ot Byte -scale -outsize 10% 10% /content/work/quicklooks/S2_20190919.vrt /content/work/quicklooks/S2_20190919.png\n",
            "Created quicklook mosaic file: /content/work/quicklooks/S2_20190919.png\n"
          ],
          "name": "stdout"
        }
      ]
    },
    {
      "cell_type": "markdown",
      "metadata": {
        "id": "hIRsebAMTf6Q",
        "colab_type": "text"
      },
      "source": [
        "Below, we define the main functions, including one to extract zonal statistics from the polygons in the shapefile for all 10 m resolution bands of an image, and another one to loop over the entire time series."
      ]
    },
    {
      "cell_type": "code",
      "metadata": {
        "id": "VjIC3JiJTf6R",
        "colab_type": "code",
        "colab": {}
      },
      "source": [
        "#######################################################################\n",
        "# 5. Extract polygon statistics as a time series from all data\n",
        "#######################################################################\n",
        "\n",
        "def tif2raster(tiffile):\n",
        "    # read in a geotiff file (unsigned 16-bit integer format) and turn into a Python raster object\n",
        "    img_ds = io.imread(tiffile)\n",
        "    # convert to 16bit numpy array \n",
        "    img = np.array(img_ds, dtype='int16')\n",
        "    return(img)\n",
        "\n",
        "def zonal_stats(feat, input_zone_polygon, input_tiff, verbose = False, graphics = True, bands=[1,2,3]):\n",
        "    '''\n",
        "        extracts statistics from a feature (polygon) of a shapefile from a tiff file with several bands\n",
        "        heavily adapted from:\n",
        "        https://gis.stackexchange.com/questions/208441/zonal-statistics-of-a-polygon-and-assigning-mean-value-to-the-polygon\n",
        "    '''\n",
        "\n",
        "    if verbose:\n",
        "        print(\"--------------------------------------------------------------------\")\n",
        "        print(\"Processing raster file: \" + input_tiff)\n",
        "        \n",
        "    # Open vector data\n",
        "    shp = ogr.Open(input_zone_polygon)\n",
        "    lyr = shp.GetLayer()\n",
        "\n",
        "    # Get raster georeference info\n",
        "    dataset = gdal.Open(input_tiff, gdal.GA_ReadOnly)\n",
        "    if not dataset:\n",
        "        print(\"Error. Tiff file not found: \" + input_tiff)\n",
        "\n",
        "    ncols = dataset.RasterXSize\n",
        "    nrows = dataset.RasterYSize\n",
        "    nbands = dataset.RasterCount\n",
        "    wkt_projection = dataset.GetProjection()\n",
        "\n",
        "    if verbose:\n",
        "        print(\"Raster size: {} x {} x {}\".format(ncols, nrows, nbands))\n",
        "        print(\"Raster projection: {}\".format(wkt_projection))\n",
        "\n",
        "    geotransform = dataset.GetGeoTransform()\n",
        "    if geotransform:\n",
        "        xOrigin = geotransform[0]\n",
        "        yOrigin = geotransform[3]\n",
        "        pixelWidth = geotransform[1]\n",
        "        pixelHeight = geotransform[5]\n",
        "        if verbose:\n",
        "            print(\"Tiff file image origin xmin,yax = ({}, {})\".format(geotransform[0], geotransform[3]))\n",
        "            print(\"Pixel Size x,y = ({}, {})\".format(geotransform[1], geotransform[5]))\n",
        "    else:\n",
        "        print(\"Error. Geotransform not found in tiff file: \" + input_tiff) \n",
        "\n",
        "    # Reproject vector geometry to same projection as raster\n",
        "    sourceSR = lyr.GetSpatialRef()\n",
        "    targetSR = osr.SpatialReference()\n",
        "    targetSR.ImportFromWkt(wkt_projection)\n",
        "    coordTrans = osr.CoordinateTransformation(sourceSR,targetSR)\n",
        "    feat = lyr.GetNextFeature()\n",
        "    geom = feat.GetGeometryRef()\n",
        "    geom.Transform(coordTrans)\n",
        "\n",
        "    # Get extent of the feature for which to extract the raster statistics\n",
        "    geom = feat.GetGeometryRef()\n",
        "    if (geom.GetGeometryName() == 'MULTIPOLYGON'):\n",
        "        count = 0\n",
        "        pointsX = []; pointsY = []\n",
        "        for polygon in geom:\n",
        "            geomInner = geom.GetGeometryRef(count)\n",
        "            ring = geomInner.GetGeometryRef(0)\n",
        "            numpoints = ring.GetPointCount()\n",
        "            for p in range(numpoints):\n",
        "                    lon, lat, z = ring.GetPoint(p)\n",
        "                    pointsX.append(lon)\n",
        "                    pointsY.append(lat)\n",
        "            count += 1\n",
        "    elif (geom.GetGeometryName() == 'POLYGON'):\n",
        "        ring = geom.GetGeometryRef(0)\n",
        "        numpoints = ring.GetPointCount()\n",
        "        pointsX = []; pointsY = []\n",
        "        for p in range(numpoints):\n",
        "                lon, lat, z = ring.GetPoint(p)\n",
        "                pointsX.append(lon)\n",
        "                pointsY.append(lat)\n",
        "\n",
        "    else:\n",
        "        sys.exit(\"ERROR: Geometry needs to be either Polygon or Multipolygon\")\n",
        "\n",
        "    # extent of this feature in map coordinates\n",
        "    xmin = min(pointsX)\n",
        "    xmax = max(pointsX)\n",
        "    ymin = min(pointsY)\n",
        "    ymax = max(pointsY)\n",
        "\n",
        "    if verbose:\n",
        "        print(\"\\nFeature extent in map coordinates: xmin,xmax, ymin, ymax\", xmin, xmax, ymin, ymax)\n",
        "       \n",
        "    # raster layer extent in map coordinates\n",
        "    xmin1 = xOrigin\n",
        "    xmax1 = xOrigin + ncols * pixelWidth\n",
        "    ymin1 = yOrigin + nrows * pixelHeight\n",
        "    ymax1 = yOrigin\n",
        "\n",
        "    if verbose:\n",
        "        print(\"\\nGeotiff raster extent in map coordinates: xmin1, xmax1, ymin1, ymax1\")\n",
        "        print(xmin1,xmax1,ymin1,ymax1)\n",
        "    \n",
        "    # extent of the intersect between the featurs / polygon / zone and the raster image in map coordinates\n",
        "    xmin2 = max(xmin,xmin1)\n",
        "    xmax2 = min(xmax,xmax1)\n",
        "    ymin2 = max(ymin,ymin1)\n",
        "    ymax2 = min(ymax,ymax1)\n",
        "\n",
        "    if verbose:\n",
        "        print(\"\\nIntersect extent in map coordinates: xmin2, xmax2, ymin2, ymax2\")\n",
        "        print(xmin2,xmax2,ymin2,ymax2)\n",
        "    \n",
        "    # clip the Geotiff raster layer to the extent of the intersect with the feature\n",
        "    xoff = int((xmin2 - xOrigin)/pixelWidth)\n",
        "    yoff = int((yOrigin - ymax2)/pixelWidth)\n",
        "    xcount = int((xmax2 - xmin2)/pixelWidth)\n",
        "    ycount = int((ymax2 - ymin2)/pixelWidth)\n",
        "\n",
        "    if verbose:\n",
        "        print(\"\\nclipped raster layer extent in pixels: xoff, yoff, xcount, ycount\")\n",
        "        print(\"xoff = \", xoff)\n",
        "        print(\"yoff = \", yoff)\n",
        "        print(\"xcount = \", xcount)\n",
        "        print(\"ycount = \", ycount)\n",
        "\n",
        "    # clip the rasterised feature layer to the extent of the intersect with the feature\n",
        "    xoff1 = int((xmin2 - xmin)/pixelWidth)\n",
        "    yoff1 = int((ymax - ymax2)/pixelWidth)\n",
        "    xcount1 = int((xmax2 - xmin2)/pixelWidth)\n",
        "    ycount1 = int((ymax2 - ymin2)/pixelWidth)\n",
        "\n",
        "    if verbose:\n",
        "        print(\"\\nclipped feature layer extent in pixels: xoff1,yoff1,xcount1,ycount1\")\n",
        "        print(\"xoff1 = \", xoff1)\n",
        "        print(\"yoff1 = \", yoff1)\n",
        "        print(\"xcount1 = \", xcount1)\n",
        "        print(\"ycount1 = \", ycount1)\n",
        "\n",
        "    # Create memory target raster for the mask with all pixels within the feature (zone)\n",
        "    target_ds = gdal.GetDriverByName('MEM').Create('', xcount, ycount, 1, gdal.GDT_Byte)\n",
        "    target_ds.SetGeoTransform((xmin2, pixelWidth, 0, ymax2, 0, pixelHeight,))\n",
        "\n",
        "    # make projection the same as for the Geotiff Sentinel-2 raster file\n",
        "    target_ds.SetProjection(wkt_projection)\n",
        "\n",
        "    # create an empty array to hold the statistics results for all bands\n",
        "    stats = np.zeros((nbands, 7))\n",
        "\n",
        "    # plot a colour composite of three bands\n",
        "    if graphics:\n",
        "        # create an empty array to hold the 3 stretched colour bands\n",
        "        img = np.zeros((ycount, xcount, 3), dtype = np.int16)\n",
        "        for band in range(0, 3):\n",
        "            # Read intersecting Geotiff raster layer values as an array\n",
        "            \n",
        "            ################## TODO ######################\n",
        "            # memory error here if image is very large\n",
        "            # downsample the image if too big\n",
        "\n",
        "            print(\"  Band:\", bands[band])\n",
        "            thisband = np.array(dataset.GetRasterBand(bands[band]).ReadAsArray(xoff, yoff, xcount, ycount)).astype(np.int16)\n",
        "            print(\"    min, max of this band \", np.min(thisband), np.max(thisband))\n",
        "            # Histogram equalisation stretching\n",
        "            img[:, :, band] = np.int16(256 * exposure.equalize_hist(thisband, nbins=256, mask=None))\n",
        "            print(\"    min, max of the stretched band \", np.min(img[:, :, band]), np.max(img[:, :, band]))\n",
        "            # Contrast stretching and byte scaling\n",
        "            # p2, p98 = np.percentile(thisband, (2, 98))\n",
        "            # img[:, :, band] = np.int16(exposure.rescale_intensity(thisband, in_range=(p2, p98)) * 255)\n",
        "        plt.figure().suptitle(\"Colour composite\")\n",
        "        io.imshow(img)\n",
        "        io.show()\n",
        "        img = None # free up memory\n",
        "        thisband = None\n",
        "\n",
        "    # Rasterize the feature (zone polygon) to the target raster layer\n",
        "    #   burn_value of 1 indicates that a pixels is inside the feature (zone)\n",
        "    gdal.RasterizeLayer(target_ds, [1], lyr, burn_values=[1]) #, options = ['ALL_TOUCHED=True'])\n",
        "\n",
        "    if verbose:\n",
        "        zonesize = target_ds.GetRasterBand(1).ReadAsArray().shape\n",
        "        print(\"Zone mask raster size: \", zonesize[0], zonesize[1], \" Number of pixels: \", zonesize[0] * zonesize[1])\n",
        "        print(\"Zone mask raster min,max: \", np.nanmin(target_ds.GetRasterBand(1).ReadAsArray()), np.nanmax(target_ds.GetRasterBand(1).ReadAsArray()))\n",
        "\n",
        "    if graphics:\n",
        "        # Display the whole rasterised zone mask\n",
        "        plt.figure().suptitle(\"Zone mask\")\n",
        "        io.imshow(np.array(target_ds.GetRasterBand(1).ReadAsArray()), cmap='gray_r')\n",
        "\n",
        "    # loop over all bands\n",
        "    for band in range(1, nbands + 1):\n",
        "        \n",
        "        if verbose:\n",
        "            print(\"\\nBand \", band)\n",
        "\n",
        "        # Read intersecting Geotiff raster layer values as an array\n",
        "        dataraster = np.array(dataset.GetRasterBand(band).ReadAsArray(xoff, yoff, xcount, ycount)).astype(np.float)\n",
        "\n",
        "        # clip the rasterised feature layer to the extent of the intersect with the geotiff raster layer\n",
        "        datamask = target_ds.GetRasterBand(1).ReadAsArray().astype(np.byte)\n",
        "\n",
        "        # do something here to catch situations where dataraster is all NaNs\n",
        "        #    replace 1 in datamask with 0 where NaNs are found in dataraster\n",
        "        datamask[np.isnan(dataraster)] = 0\n",
        "        #    replace 1 in datamask with 0 where 0 values are found in dataraster (i.e. cloud masked)\n",
        "        datamask = np.where(dataraster == 0, 0, datamask)\n",
        "\n",
        "        warnme = 0 # no warnings so far\n",
        "\n",
        "        if (np.nanmin(dataraster) == np.nan and np.nanmax(dataraster) == np.nan):\n",
        "            print(\"WARNING: All dataraster values are NaN.\")\n",
        "            warnme = warnme + 1\n",
        "        else:\n",
        "            if (dataraster.shape == ()):\n",
        "                print(\"WARNING: Failed to create dataraster.\")\n",
        "                warnme = warnme + 1\n",
        "            else:\n",
        "                if verbose:\n",
        "                    print(\"Data raster min, max: \", np.nanmin(dataraster), np.nanmax(dataraster))\n",
        "                            \n",
        "                if (np.min(datamask) == 0 and np.max(datamask) == 0):\n",
        "                    print(\"WARNING: All datamask values are zero.\")\n",
        "                    warnme = warnme + 1\n",
        "                else:\n",
        "                    if verbose:\n",
        "                        print(\"Data mask min, max: \", np.min(datamask), np.max(datamask))\n",
        "                    \n",
        "                    # Apply the mask from the rasterised feature layer (zone polygon) to the Geotiff raster\n",
        "                    # at this point, we need to invert the mask (swap 0 and 1) because masked arrays treat values of 1 as being masked out\n",
        "                    # the stats are calculated under the mask where it is 0. Hence the logical_not below.\n",
        "                    zoneraster = np.ma.MaskedArray(dataraster, np.logical_not(datamask))\n",
        "                    dataraster = None # free up memory\n",
        "                    datamask = None\n",
        "                    \n",
        "                    if (np.min(zoneraster.data) == 1 and np.max(zoneraster.data) == 1):\n",
        "                        print(\"WARNING: All zoneraster values are masked out.\")\n",
        "                        warnme = warnme + 1\n",
        "                    else:\n",
        "                        if verbose:\n",
        "                            print(\"Zone raster min, max: \", np.ma.min(zoneraster), np.ma.max(zoneraster))\n",
        "                            print(\"  Number of pixels not under the mask (good values) : \", np.ma.count(zoneraster))\n",
        "                            print(\"  Number of pixels under the mask (ignored in stats): \", np.ma.count_masked(zoneraster))\n",
        "                            print(\"  Total number of pixels: \", np.ma.count_masked(zoneraster) + np.ma.count(zoneraster))\n",
        "                            \n",
        "                        if graphics:\n",
        "                            # histogram equalisation of the masked raster array\n",
        "                            img = np.int16(256 * exposure.equalize_hist(zoneraster.filled(0), nbins=256, mask = np.logical_not(zoneraster.mask)))\n",
        "                            # Contrast stretching\n",
        "                            #p2, p98 = np.percentile(zoneraster, (2, 98))\n",
        "                            #img = exposure.rescale_intensity(zoneraster, in_range=(p2, p98))\n",
        "                            plt.figure().suptitle(\"Zone raster\")\n",
        "                            io.imshow(img, cmap='gray_r')\n",
        "\n",
        "        if graphics:\n",
        "            io.show()\n",
        "\n",
        "        # calculate band statistics under the zone mask\n",
        "        # N.B. The -1 is there to get Python indices from 0...3 from the band variable 1...4 (see for loop)\n",
        "        # Exclude zero values from the stats, as these are missing values or cloud masked pixels\n",
        "        stats[band - 1, 0] = band\n",
        "        stats[band - 1, 1] = np.ma.count(zoneraster)\n",
        "        stats[band - 1, 2] = np.ma.mean(zoneraster)\n",
        "        stats[band - 1, 3] = np.ma.median(zoneraster)\n",
        "        stats[band - 1, 4] = np.ma.std(zoneraster)\n",
        "        stats[band - 1, 5] = np.ma.var(zoneraster)\n",
        "        stats[band - 1, 6] = np.ma.sum(zoneraster)       \n",
        "        \n",
        "    # close files\n",
        "    dataset = None\n",
        "    shp = None\n",
        "    \n",
        "    # free up memory\n",
        "    target_ds = None\n",
        "\n",
        "    if (warnme > 0):\n",
        "        print(warnme, \" WARNINGS issued. Returning zero values from the zone statistics function.\")\n",
        "\n",
        "    return stats\n",
        "\n",
        "\n",
        "def loop_zonal_stats(input_zone_polygon, input_tiff, verbose = False, graphics = False, bands = [1,2,3]):\n",
        "\n",
        "    shp = ogr.Open(input_zone_polygon)\n",
        "    lyr = shp.GetLayer()\n",
        "    featList = range(lyr.GetFeatureCount())\n",
        "    statDict = {}\n",
        "\n",
        "    for FID in featList:\n",
        "        if verbose:\n",
        "            print(\"Feature ID: \", FID)\n",
        "        feat = lyr.GetFeature(FID)\n",
        "        meanValue = zonal_stats(feat, input_zone_polygon, input_tiff, verbose, graphics)\n",
        "        statDict[FID] = meanValue\n",
        "    return statDict"
      ],
      "execution_count": 0,
      "outputs": []
    },
    {
      "cell_type": "code",
      "metadata": {
        "scrolled": true,
        "id": "jqW1Ft46Tf6U",
        "colab_type": "code",
        "outputId": "45101364-b8f3-48ae-a8a6-c3041f27cb80",
        "colab": {
          "base_uri": "https://localhost:8080/",
          "height": 1000
        }
      },
      "source": [
        "# pull out all tile IDs from the file names\n",
        "# the tiling grid can be downloaded from here as a .kml file:\n",
        "#     https://sentinel.esa.int/web/sentinel/missions/sentinel-2/data-products\n",
        "tiles = sorted(remove_duplicates([f.split(\"_\")[5] for f in allfiles]))\n",
        "\n",
        "print(\"\\nAll tile IDs (sorted):\")\n",
        "for t in tiles:\n",
        "    print(t)\n",
        "print(\"\\n\") # new line\n",
        "\n",
        "# check whether shapefile exists\n",
        "if not os.path.exists(shapefile):\n",
        "    print('Shapefile not found: ' + shapefile)\n",
        "else:\n",
        "    # go through all tiles and extract statistics for all available acquisition dates for that tile\n",
        "    \n",
        "    for t in tiles:\n",
        "\n",
        "        # get all file names with the same tile ID from the list of all tiff files\n",
        "        filestack = [f for f in allfiles if (f.split(\"_\")[5] == t)]\n",
        "        print(\"\\nImage files acquired for tile \" + t)\n",
        "        for xfile in filestack:\n",
        "            print(xfile)\n",
        "\n",
        "        # pull out all acquisition dates from the file names\n",
        "        acqdates = remove_duplicates([f.split(\"_\")[2].split(\"T\")[0] for f in filestack])\n",
        "        print(\"\\nAcquisition dates for this tile (sorted):\")\n",
        "        print([f for f in sorted(acqdates)])\n",
        "        \n",
        "        # define a filename for the output text file with the statistics\n",
        "        timeseries = join(outdir, \"S2_\" + t + \".txt\")\n",
        "        print(\"\\nSaving tile statistics to file: \", timeseries)\n",
        "        outfile = open(timeseries, \"w\")\n",
        "\n",
        "        # write header line\n",
        "        outfile.write(\"AcqDate, Zone, Band, Count, Mean, Median, Std_Deviation, Variance, Sum\\n\")\n",
        "\n",
        "        # for each acquisition date, get the polygon statistics of that tile\n",
        "        for xfile in filestack:\n",
        "\n",
        "            # get acquisition date for that file\n",
        "            acqdate = xfile.split(\"_\")[2].split(\"T\")[0]\n",
        "\n",
        "            # run the loop over all polygons (zones) and all image files\n",
        "            # the bands here will be shown as RGB if graphics is True\n",
        "            result_dict = loop_zonal_stats(shapefile, join(tiffdir, xfile), verbose = True, graphics = True, bands=[1,2,3])\n",
        "\n",
        "            # save acquisition dates and statistics of that tile to the statistics file\n",
        "            # for each zone (polygon ID) in the results dictionary, there is an array with the statistics for each band\n",
        "            for zone, stat in result_dict.items():\n",
        "                for band in range(stat.shape[0]):\n",
        "                    outfile.write(acqdate + ', ' + str(zone) + ', ')\n",
        "                    this_line = list(stat[band, ]) # line of statistics for output file\n",
        "                    for item in this_line:\n",
        "                        if item == this_line[0]: # first item in the line\n",
        "                            outfile.write(\"%s, \" % np.int32(item))\n",
        "                        else:\n",
        "                            if item == this_line[len(this_line) - 1]:  # last item in the line\n",
        "                                outfile.write(\"%s\\n\" % item)\n",
        "                            else:\n",
        "                                outfile.write(\"%s, \" % item) # all other items in the line\n",
        "\n",
        "        outfile.close()\n",
        "    "
      ],
      "execution_count": 17,
      "outputs": [
        {
          "output_type": "stream",
          "text": [
            "/usr/local/lib/python3.6/dist-packages/skimage/io/_plugins/matplotlib_plugin.py:150: UserWarning: Low image data range; displaying image with stretched contrast.\n",
            "  lo, hi, cmap = _get_display_range(image)\n",
            "Clipping input data to the valid range for imshow with RGB data ([0..1] for floats or [0..255] for integers).\n"
          ],
          "name": "stderr"
        },
        {
          "output_type": "stream",
          "text": [
            "\n",
            "All tile IDs (sorted):\n",
            "T30UXD\n",
            "\n",
            "\n",
            "\n",
            "Image files acquired for tile T30UXD\n",
            "S2B_MSIL2A_20191027T112119_N0213_R037_T30UXD_20191027T122034_16Bit_proj.tif\n",
            "S2B_MSIL2A_20190629T112119_N0212_R037_T30UXD_20190629T132135_16Bit_proj.tif\n",
            "S2A_MSIL2A_20190919T110721_N0213_R137_T30UXD_20190919T140654_16Bit_proj.tif\n",
            "\n",
            "Acquisition dates for this tile (sorted):\n",
            "['20190629', '20190919', '20191027']\n",
            "\n",
            "Saving tile statistics to file:  /content/work/outputs/S2_T30UXD.txt\n",
            "Feature ID:  0\n",
            "--------------------------------------------------------------------\n",
            "Processing raster file: /content/work/tiff/S2B_MSIL2A_20191027T112119_N0213_R037_T30UXD_20191027T122034_16Bit_proj.tif\n",
            "Raster size: 13896 x 8434 x 4\n",
            "Raster projection: GEOGCS[\"WGS 84\",DATUM[\"WGS_1984\",SPHEROID[\"WGS 84\",6378137,298.257223563,AUTHORITY[\"EPSG\",\"7030\"]],AUTHORITY[\"EPSG\",\"6326\"]],PRIMEM[\"Greenwich\",0],UNIT[\"degree\",0.0174532925199433],AUTHORITY[\"EPSG\",\"4326\"]]\n",
            "Tiff file image origin xmin,yax = (-1.535019632844517, 53.24020834899015)\n",
            "Pixel Size x,y = (0.00012066297065282597, -0.00012066297065282597)\n",
            "\n",
            "Feature extent in map coordinates: xmin,xmax, ymin, ymax -0.899700981243248 -0.8957247861807945 52.787888834659604 52.79249049860829\n",
            "\n",
            "Geotiff raster extent in map coordinates: xmin1, xmax1, ymin1, ymax1\n",
            "-1.535019632844517 0.14171300734715264 52.22253685450422 53.24020834899015\n",
            "\n",
            "Intersect extent in map coordinates: xmin2, xmax2, ymin2, ymax2\n",
            "-0.899700981243248 -0.8957247861807945 52.787888834659604 52.79249049860829\n",
            "\n",
            "clipped raster layer extent in pixels: xoff, yoff, xcount, ycount\n",
            "xoff =  5265\n",
            "yoff =  3710\n",
            "xcount =  32\n",
            "ycount =  38\n",
            "\n",
            "clipped feature layer extent in pixels: xoff1,yoff1,xcount1,ycount1\n",
            "xoff1 =  0\n",
            "yoff1 =  0\n",
            "xcount1 =  32\n",
            "ycount1 =  38\n",
            "  Band: 1\n",
            "    min, max of this band  155 403\n",
            "    min, max of the stretched band  0 256\n",
            "  Band: 2\n",
            "    min, max of this band  430 800\n",
            "    min, max of the stretched band  0 256\n",
            "  Band: 3\n",
            "    min, max of this band  179 502\n",
            "    min, max of the stretched band  0 256\n"
          ],
          "name": "stdout"
        },
        {
          "output_type": "display_data",
          "data": {
            "image/png": "[encoded data removed]",
            "text/plain": [
              "<Figure size 432x288 with 2 Axes>"
            ]
          },
          "metadata": {
            "tags": []
          }
        },
        {
          "output_type": "stream",
          "text": [
            "Zone mask raster size:  38 32  Number of pixels:  1216\n",
            "Zone mask raster min,max:  0 1\n",
            "\n",
            "Band  1\n",
            "Data raster min, max:  155.0 403.0\n",
            "Data mask min, max:  0 1\n",
            "Zone raster min, max:  163.0 403.0\n",
            "  Number of pixels not under the mask (good values) :  650\n",
            "  Number of pixels under the mask (ignored in stats):  566\n",
            "  Total number of pixels:  1216\n"
          ],
          "name": "stdout"
        },
        {
          "output_type": "display_data",
          "data": {
            "image/png": "[encoded data removed]",
            "text/plain": [
              "<Figure size 432x288 with 2 Axes>"
            ]
          },
          "metadata": {
            "tags": []
          }
        },
        {
          "output_type": "display_data",
          "data": {
            "image/png": "[encoded data removed]",
            "text/plain": [
              "<Figure size 432x288 with 2 Axes>"
            ]
          },
          "metadata": {
            "tags": []
          }
        },
        {
          "output_type": "stream",
          "text": [
            "\n",
            "Band  2\n",
            "Data raster min, max:  430.0 800.0\n",
            "Data mask min, max:  0 1\n",
            "Zone raster min, max:  512.0 790.0\n",
            "  Number of pixels not under the mask (good values) :  650\n",
            "  Number of pixels under the mask (ignored in stats):  566\n",
            "  Total number of pixels:  1216\n"
          ],
          "name": "stdout"
        },
        {
          "output_type": "display_data",
          "data": {
            "image/png": "[encoded data removed]",
            "text/plain": [
              "<Figure size 432x288 with 2 Axes>"
            ]
          },
          "metadata": {
            "tags": []
          }
        },
        {
          "output_type": "stream",
          "text": [
            "\n",
            "Band  3\n",
            "Data raster min, max:  179.0 502.0\n",
            "Data mask min, max:  0 1\n",
            "Zone raster min, max:  221.0 472.0\n",
            "  Number of pixels not under the mask (good values) :  650\n",
            "  Number of pixels under the mask (ignored in stats):  566\n",
            "  Total number of pixels:  1216\n"
          ],
          "name": "stdout"
        },
        {
          "output_type": "display_data",
          "data": {
            "image/png": "[encoded data removed]",
            "text/plain": [
              "<Figure size 432x288 with 2 Axes>"
            ]
          },
          "metadata": {
            "tags": []
          }
        },
        {
          "output_type": "stream",
          "text": [
            "\n",
            "Band  4\n",
            "Data raster min, max:  2728.0 4872.0\n",
            "Data mask min, max:  0 1\n",
            "Zone raster min, max:  3842.0 4536.0\n",
            "  Number of pixels not under the mask (good values) :  650\n",
            "  Number of pixels under the mask (ignored in stats):  566\n",
            "  Total number of pixels:  1216\n"
          ],
          "name": "stdout"
        },
        {
          "output_type": "display_data",
          "data": {
            "image/png": "[encoded data removed]",
            "text/plain": [
              "<Figure size 432x288 with 2 Axes>"
            ]
          },
          "metadata": {
            "tags": []
          }
        },
        {
          "output_type": "stream",
          "text": [
            "Clipping input data to the valid range for imshow with RGB data ([0..1] for floats or [0..255] for integers).\n"
          ],
          "name": "stderr"
        },
        {
          "output_type": "stream",
          "text": [
            "Feature ID:  0\n",
            "--------------------------------------------------------------------\n",
            "Processing raster file: /content/work/tiff/S2B_MSIL2A_20190629T112119_N0212_R037_T30UXD_20190629T132135_16Bit_proj.tif\n",
            "Raster size: 13896 x 8434 x 4\n",
            "Raster projection: GEOGCS[\"WGS 84\",DATUM[\"WGS_1984\",SPHEROID[\"WGS 84\",6378137,298.257223563,AUTHORITY[\"EPSG\",\"7030\"]],AUTHORITY[\"EPSG\",\"6326\"]],PRIMEM[\"Greenwich\",0],UNIT[\"degree\",0.0174532925199433],AUTHORITY[\"EPSG\",\"4326\"]]\n",
            "Tiff file image origin xmin,yax = (-1.535019632844517, 53.24020834899015)\n",
            "Pixel Size x,y = (0.00012066297065282597, -0.00012066297065282597)\n",
            "\n",
            "Feature extent in map coordinates: xmin,xmax, ymin, ymax -0.899700981243248 -0.8957247861807945 52.787888834659604 52.79249049860829\n",
            "\n",
            "Geotiff raster extent in map coordinates: xmin1, xmax1, ymin1, ymax1\n",
            "-1.535019632844517 0.14171300734715264 52.22253685450422 53.24020834899015\n",
            "\n",
            "Intersect extent in map coordinates: xmin2, xmax2, ymin2, ymax2\n",
            "-0.899700981243248 -0.8957247861807945 52.787888834659604 52.79249049860829\n",
            "\n",
            "clipped raster layer extent in pixels: xoff, yoff, xcount, ycount\n",
            "xoff =  5265\n",
            "yoff =  3710\n",
            "xcount =  32\n",
            "ycount =  38\n",
            "\n",
            "clipped feature layer extent in pixels: xoff1,yoff1,xcount1,ycount1\n",
            "xoff1 =  0\n",
            "yoff1 =  0\n",
            "xcount1 =  32\n",
            "ycount1 =  38\n",
            "  Band: 1\n",
            "    min, max of this band  176 479\n",
            "    min, max of the stretched band  0 256\n",
            "  Band: 2\n",
            "    min, max of this band  532 768\n",
            "    min, max of the stretched band  0 256\n",
            "  Band: 3\n",
            "    min, max of this band  181 531\n",
            "    min, max of the stretched band  0 256\n"
          ],
          "name": "stdout"
        },
        {
          "output_type": "display_data",
          "data": {
            "image/png": "[encoded data removed]",
            "text/plain": [
              "<Figure size 432x288 with 2 Axes>"
            ]
          },
          "metadata": {
            "tags": []
          }
        },
        {
          "output_type": "stream",
          "text": [
            "Zone mask raster size:  38 32  Number of pixels:  1216\n",
            "Zone mask raster min,max:  0 1\n",
            "\n",
            "Band  1\n",
            "Data raster min, max:  176.0 479.0\n",
            "Data mask min, max:  0 1\n",
            "Zone raster min, max:  193.0 317.0\n",
            "  Number of pixels not under the mask (good values) :  650\n",
            "  Number of pixels under the mask (ignored in stats):  566\n",
            "  Total number of pixels:  1216\n"
          ],
          "name": "stdout"
        },
        {
          "output_type": "display_data",
          "data": {
            "image/png": "[encoded data removed]",
            "text/plain": [
              "<Figure size 432x288 with 2 Axes>"
            ]
          },
          "metadata": {
            "tags": []
          }
        },
        {
          "output_type": "display_data",
          "data": {
            "image/png": "[encoded data removed]",
            "text/plain": [
              "<Figure size 432x288 with 2 Axes>"
            ]
          },
          "metadata": {
            "tags": []
          }
        },
        {
          "output_type": "stream",
          "text": [
            "\n",
            "Band  2\n",
            "Data raster min, max:  532.0 768.0\n",
            "Data mask min, max:  0 1\n",
            "Zone raster min, max:  549.0 758.0\n",
            "  Number of pixels not under the mask (good values) :  650\n",
            "  Number of pixels under the mask (ignored in stats):  566\n",
            "  Total number of pixels:  1216\n"
          ],
          "name": "stdout"
        },
        {
          "output_type": "display_data",
          "data": {
            "image/png": "[encoded data removed]",
            "text/plain": [
              "<Figure size 432x288 with 2 Axes>"
            ]
          },
          "metadata": {
            "tags": []
          }
        },
        {
          "output_type": "stream",
          "text": [
            "\n",
            "Band  3\n",
            "Data raster min, max:  181.0 531.0\n",
            "Data mask min, max:  0 1\n",
            "Zone raster min, max:  196.0 280.0\n",
            "  Number of pixels not under the mask (good values) :  650\n",
            "  Number of pixels under the mask (ignored in stats):  566\n",
            "  Total number of pixels:  1216\n"
          ],
          "name": "stdout"
        },
        {
          "output_type": "display_data",
          "data": {
            "image/png": "[encoded data removed]",
            "text/plain": [
              "<Figure size 432x288 with 2 Axes>"
            ]
          },
          "metadata": {
            "tags": []
          }
        },
        {
          "output_type": "stream",
          "text": [
            "\n",
            "Band  4\n",
            "Data raster min, max:  3702.0 6600.0\n",
            "Data mask min, max:  0 1\n",
            "Zone raster min, max:  5776.0 6592.0\n",
            "  Number of pixels not under the mask (good values) :  650\n",
            "  Number of pixels under the mask (ignored in stats):  566\n",
            "  Total number of pixels:  1216\n"
          ],
          "name": "stdout"
        },
        {
          "output_type": "display_data",
          "data": {
            "image/png": "[encoded data removed]",
            "text/plain": [
              "<Figure size 432x288 with 2 Axes>"
            ]
          },
          "metadata": {
            "tags": []
          }
        },
        {
          "output_type": "stream",
          "text": [
            "Clipping input data to the valid range for imshow with RGB data ([0..1] for floats or [0..255] for integers).\n"
          ],
          "name": "stderr"
        },
        {
          "output_type": "stream",
          "text": [
            "Feature ID:  0\n",
            "--------------------------------------------------------------------\n",
            "Processing raster file: /content/work/tiff/S2A_MSIL2A_20190919T110721_N0213_R137_T30UXD_20190919T140654_16Bit_proj.tif\n",
            "Raster size: 13896 x 8434 x 4\n",
            "Raster projection: GEOGCS[\"WGS 84\",DATUM[\"WGS_1984\",SPHEROID[\"WGS 84\",6378137,298.257223563,AUTHORITY[\"EPSG\",\"7030\"]],AUTHORITY[\"EPSG\",\"6326\"]],PRIMEM[\"Greenwich\",0],UNIT[\"degree\",0.0174532925199433],AUTHORITY[\"EPSG\",\"4326\"]]\n",
            "Tiff file image origin xmin,yax = (-1.535019632844517, 53.24020834899015)\n",
            "Pixel Size x,y = (0.00012066297065282597, -0.00012066297065282597)\n",
            "\n",
            "Feature extent in map coordinates: xmin,xmax, ymin, ymax -0.899700981243248 -0.8957247861807945 52.787888834659604 52.79249049860829\n",
            "\n",
            "Geotiff raster extent in map coordinates: xmin1, xmax1, ymin1, ymax1\n",
            "-1.535019632844517 0.14171300734715264 52.22253685450422 53.24020834899015\n",
            "\n",
            "Intersect extent in map coordinates: xmin2, xmax2, ymin2, ymax2\n",
            "-0.899700981243248 -0.8957247861807945 52.787888834659604 52.79249049860829\n",
            "\n",
            "clipped raster layer extent in pixels: xoff, yoff, xcount, ycount\n",
            "xoff =  5265\n",
            "yoff =  3710\n",
            "xcount =  32\n",
            "ycount =  38\n",
            "\n",
            "clipped feature layer extent in pixels: xoff1,yoff1,xcount1,ycount1\n",
            "xoff1 =  0\n",
            "yoff1 =  0\n",
            "xcount1 =  32\n",
            "ycount1 =  38\n",
            "  Band: 1\n",
            "    min, max of this band  303 521\n",
            "    min, max of the stretched band  0 256\n",
            "  Band: 2\n",
            "    min, max of this band  569 874\n",
            "    min, max of the stretched band  0 256\n",
            "  Band: 3\n",
            "    min, max of this band  355 719\n",
            "    min, max of the stretched band  0 256\n"
          ],
          "name": "stdout"
        },
        {
          "output_type": "display_data",
          "data": {
            "image/png": "[encoded data removed]",
            "text/plain": [
              "<Figure size 432x288 with 2 Axes>"
            ]
          },
          "metadata": {
            "tags": []
          }
        },
        {
          "output_type": "stream",
          "text": [
            "Zone mask raster size:  38 32  Number of pixels:  1216\n",
            "Zone mask raster min,max:  0 1\n",
            "\n",
            "Band  1\n",
            "Data raster min, max:  303.0 521.0\n",
            "Data mask min, max:  0 1\n",
            "Zone raster min, max:  303.0 439.0\n",
            "  Number of pixels not under the mask (good values) :  650\n",
            "  Number of pixels under the mask (ignored in stats):  566\n",
            "  Total number of pixels:  1216\n"
          ],
          "name": "stdout"
        },
        {
          "output_type": "display_data",
          "data": {
            "image/png": "[encoded data removed]",
            "text/plain": [
              "<Figure size 432x288 with 2 Axes>"
            ]
          },
          "metadata": {
            "tags": []
          }
        },
        {
          "output_type": "display_data",
          "data": {
            "image/png": "[encoded data removed]",
            "text/plain": [
              "<Figure size 432x288 with 2 Axes>"
            ]
          },
          "metadata": {
            "tags": []
          }
        },
        {
          "output_type": "stream",
          "text": [
            "\n",
            "Band  2\n",
            "Data raster min, max:  569.0 874.0\n",
            "Data mask min, max:  0 1\n",
            "Zone raster min, max:  678.0 874.0\n",
            "  Number of pixels not under the mask (good values) :  650\n",
            "  Number of pixels under the mask (ignored in stats):  566\n",
            "  Total number of pixels:  1216\n"
          ],
          "name": "stdout"
        },
        {
          "output_type": "display_data",
          "data": {
            "image/png": "[encoded data removed]",
            "text/plain": [
              "<Figure size 432x288 with 2 Axes>"
            ]
          },
          "metadata": {
            "tags": []
          }
        },
        {
          "output_type": "stream",
          "text": [
            "\n",
            "Band  3\n",
            "Data raster min, max:  355.0 719.0\n",
            "Data mask min, max:  0 1\n",
            "Zone raster min, max:  365.0 634.0\n",
            "  Number of pixels not under the mask (good values) :  650\n",
            "  Number of pixels under the mask (ignored in stats):  566\n",
            "  Total number of pixels:  1216\n"
          ],
          "name": "stdout"
        },
        {
          "output_type": "display_data",
          "data": {
            "image/png": "[encoded data removed]",
            "text/plain": [
              "<Figure size 432x288 with 2 Axes>"
            ]
          },
          "metadata": {
            "tags": []
          }
        },
        {
          "output_type": "stream",
          "text": [
            "\n",
            "Band  4\n",
            "Data raster min, max:  3071.0 5249.0\n",
            "Data mask min, max:  0 1\n",
            "Zone raster min, max:  3350.0 5053.0\n",
            "  Number of pixels not under the mask (good values) :  650\n",
            "  Number of pixels under the mask (ignored in stats):  566\n",
            "  Total number of pixels:  1216\n"
          ],
          "name": "stdout"
        },
        {
          "output_type": "display_data",
          "data": {
            "image/png": "[encoded data removed]",
            "text/plain": [
              "<Figure size 432x288 with 2 Axes>"
            ]
          },
          "metadata": {
            "tags": []
          }
        }
      ]
    },
    {
      "cell_type": "markdown",
      "metadata": {
        "id": "4mfVOeVeTf6Z",
        "colab_type": "text"
      },
      "source": [
        "# Your portfolio assignment\n",
        "1. Choose a different shapefile of your choice for a study area of interest.\n",
        "2. Define a date range for your analysis - bear in mind computing power.\n",
        "3. Run the analysis on your data.\n",
        "4. Present the results in your practical portfolio and discuss what they show.\n",
        "\n",
        "It is recommended to choose a study area with low cloud cover.\n"
      ]
    },
    {
      "cell_type": "code",
      "metadata": {
        "id": "A1KvssENTf6a",
        "colab_type": "code",
        "outputId": "45420f20-e6e2-4203-8120-c0703c760cc1",
        "colab": {
          "base_uri": "https://localhost:8080/",
          "height": 425
        }
      },
      "source": [
        "# list the contents of your directory on Colab (replace the path with your own path)\n",
        "!ls -l \"/content/work/outputs\"\n",
        "\n",
        "# copy the outputs folder and its contents across to Google Drive\n",
        "# again, make sure you use the correct directory paths:\n",
        "#   left: Colab directory\n",
        "#   right: Google Drive directory\n",
        "# N.B. the quotation marks are necessary if the path contains space characters\n",
        "!cp -avr /content/work/outputs \"/content/drive/My Drive/practicals/p08/outputs\""
      ],
      "execution_count": 18,
      "outputs": [
        {
          "output_type": "stream",
          "text": [
            "total 3391148\n",
            "-rw-r--r-- 1 root root      6443 Mar 24 15:53 footprints.geojson\n",
            "-rw-r--r-- 1 root root 937658784 Mar 24 15:55 S2A_MSIL2A_20190919T110721_N0213_R137_T30UXD_20190919T140654_clmasked.tif\n",
            "-rw-r--r-- 1 root root 234465566 Mar 24 15:54 S2A_MSIL2A_20190919T110721_N0213_R137_T30UXD_20190919T140654_clmask.tif\n",
            "-rw-r--r-- 1 root root 937658784 Mar 24 15:59 S2B_MSIL2A_20190629T112119_N0212_R037_T30UXD_20190629T132135_clmasked.tif\n",
            "-rw-r--r-- 1 root root 234465566 Mar 24 15:58 S2B_MSIL2A_20190629T112119_N0212_R037_T30UXD_20190629T132135_clmask.tif\n",
            "-rw-r--r-- 1 root root 937658784 Mar 24 15:57 S2B_MSIL2A_20191027T112119_N0213_R037_T30UXD_20191027T122034_clmasked.tif\n",
            "-rw-r--r-- 1 root root 234465566 Mar 24 15:56 S2B_MSIL2A_20191027T112119_N0213_R037_T30UXD_20191027T122034_clmask.tif\n",
            "-rw-r--r-- 1 root root      1241 Mar 24 15:59 S2_T30UXD.txt\n",
            "-rw-r--r-- 1 root root      6572 Mar 24 15:48 searchresults4download.csv\n",
            "-rw-r--r-- 1 root root      1252 Mar 24 15:48 searchresultsfootprints.csv\n",
            "-rw-r--r-- 1 root root     20173 Mar 24 15:48 searchresults_full.csv\n",
            "'/content/work/outputs' -> '/content/drive/My Drive/practicals/p08/outputs'\n",
            "'/content/work/outputs/searchresults_full.csv' -> '/content/drive/My Drive/practicals/p08/outputs/searchresults_full.csv'\n",
            "'/content/work/outputs/searchresults4download.csv' -> '/content/drive/My Drive/practicals/p08/outputs/searchresults4download.csv'\n",
            "'/content/work/outputs/searchresultsfootprints.csv' -> '/content/drive/My Drive/practicals/p08/outputs/searchresultsfootprints.csv'\n",
            "'/content/work/outputs/footprints.geojson' -> '/content/drive/My Drive/practicals/p08/outputs/footprints.geojson'\n",
            "'/content/work/outputs/S2A_MSIL2A_20190919T110721_N0213_R137_T30UXD_20190919T140654_clmask.tif' -> '/content/drive/My Drive/practicals/p08/outputs/S2A_MSIL2A_20190919T110721_N0213_R137_T30UXD_20190919T140654_clmask.tif'\n",
            "'/content/work/outputs/S2A_MSIL2A_20190919T110721_N0213_R137_T30UXD_20190919T140654_clmasked.tif' -> '/content/drive/My Drive/practicals/p08/outputs/S2A_MSIL2A_20190919T110721_N0213_R137_T30UXD_20190919T140654_clmasked.tif'\n",
            "'/content/work/outputs/S2B_MSIL2A_20191027T112119_N0213_R037_T30UXD_20191027T122034_clmask.tif' -> '/content/drive/My Drive/practicals/p08/outputs/S2B_MSIL2A_20191027T112119_N0213_R037_T30UXD_20191027T122034_clmask.tif'\n",
            "'/content/work/outputs/S2B_MSIL2A_20191027T112119_N0213_R037_T30UXD_20191027T122034_clmasked.tif' -> '/content/drive/My Drive/practicals/p08/outputs/S2B_MSIL2A_20191027T112119_N0213_R037_T30UXD_20191027T122034_clmasked.tif'\n",
            "'/content/work/outputs/S2B_MSIL2A_20190629T112119_N0212_R037_T30UXD_20190629T132135_clmask.tif' -> '/content/drive/My Drive/practicals/p08/outputs/S2B_MSIL2A_20190629T112119_N0212_R037_T30UXD_20190629T132135_clmask.tif'\n",
            "'/content/work/outputs/S2B_MSIL2A_20190629T112119_N0212_R037_T30UXD_20190629T132135_clmasked.tif' -> '/content/drive/My Drive/practicals/p08/outputs/S2B_MSIL2A_20190629T112119_N0212_R037_T30UXD_20190629T132135_clmasked.tif'\n",
            "'/content/work/outputs/S2_T30UXD.txt' -> '/content/drive/My Drive/practicals/p08/outputs/S2_T30UXD.txt'\n"
          ],
          "name": "stdout"
        }
      ]
    },
    {
      "cell_type": "markdown",
      "metadata": {
        "id": "lQZCXXIHGgrT",
        "colab_type": "text"
      },
      "source": [
        "Now, let us print out the text file for a particular Sentinel-2 tile to the screen using a Linux command line:"
      ]
    },
    {
      "cell_type": "code",
      "metadata": {
        "id": "iFYv0ZikTf6f",
        "colab_type": "code",
        "outputId": "9548a68d-12fc-46ab-8c49-a15d082a7f11",
        "colab": {
          "base_uri": "https://localhost:8080/",
          "height": 238
        }
      },
      "source": [
        "!cat \"/content/work/outputs/S2_T30UXD.txt\""
      ],
      "execution_count": 19,
      "outputs": [
        {
          "output_type": "stream",
          "text": [
            "AcqDate, Zone, Band, Count, Mean, Median, Std_Deviation, Variance, Sum\n",
            "20191027, 0, 1, 650.0, 269.47846153846154, 239.0, 63.273231652784915, 4003.5018437869826, 175161.0\n",
            "20191027, 0, 2, 650.0, 622.9323076923077, 574.0, 83.3234570494681, 6942.798494674556, 404906.0\n",
            "20191027, 0, 3, 650.0, 330.6876923076923, 281.5, 81.31618820324356, 6612.322463905326, 214947.0\n",
            "20191027, 0, 4, 650.0, 4276.673846153846, 4290.0, 120.2206999671509, 14453.016700591717, 2779838.0\n",
            "20190629, 0, 1, 650.0, 241.99846153846153, 241.0, 17.002036007560005, 289.0692284023669, 157299.0\n",
            "20190629, 0, 2, 650.0, 637.4015384615385, 639.0, 37.639467797707695, 1416.7295360946746, 414311.0\n",
            "20190629, 0, 3, 650.0, 227.2630769230769, 226.0, 14.099864366295478, 198.80617514792897, 147721.0\n",
            "20190629, 0, 4, 650.0, 6080.3569230769235, 6068.0, 138.50088138484426, 19182.4941443787, 3952232.0\n",
            "20190919, 0, 1, 650.0, 371.0846153846154, 375.0, 24.972857454994127, 623.6436094674557, 241205.0\n",
            "20190919, 0, 2, 650.0, 755.0723076923077, 751.0, 30.074308011438337, 904.4640023668641, 490797.0\n",
            "20190919, 0, 3, 650.0, 516.1753846153846, 556.0, 73.3627237787467, 5382.089240236686, 335514.0\n",
            "20190919, 0, 4, 650.0, 4021.0153846153844, 3666.0, 599.7556731333362, 359706.8674556213, 2613660.0\n"
          ],
          "name": "stdout"
        }
      ]
    },
    {
      "cell_type": "code",
      "metadata": {
        "id": "YlI-0GS2Qn8j",
        "colab_type": "code",
        "colab": {}
      },
      "source": [
        "# one last thing: we have to tell Google Drive that we have made changes there before we unmount the drive.\n",
        "#drive.flush_and_unmount()\n",
        "#print('All changes made in this colab session should now be visible in Drive.')"
      ],
      "execution_count": 0,
      "outputs": []
    }
  ]
}