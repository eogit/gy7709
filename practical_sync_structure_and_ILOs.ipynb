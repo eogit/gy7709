{
  "nbformat": 4,
  "nbformat_minor": 0,
  "metadata": {
    "kernelspec": {
      "display_name": "Python 3",
      "language": "python",
      "name": "python3"
    },
    "language_info": {
      "codemirror_mode": {
        "name": "ipython",
        "version": 3
      },
      "file_extension": ".py",
      "mimetype": "text/x-python",
      "name": "python",
      "nbconvert_exporter": "python",
      "pygments_lexer": "ipython3",
      "version": "3.7.6"
    },
    "latex_envs": {
      "LaTeX_envs_menu_present": true,
      "autoclose": false,
      "autocomplete": true,
      "bibliofile": "biblio.bib",
      "cite_by": "apalike",
      "current_citInitial": 1,
      "eqLabelWithNumbers": true,
      "eqNumInitial": 1,
      "hotkeys": {
        "equation": "Ctrl-E",
        "itemize": "Ctrl-I"
      },
      "labels_anchors": false,
      "latex_user_defs": false,
      "report_style_numbering": false,
      "user_envs_cfg": false
    },
    "varInspector": {
      "cols": {
        "lenName": 16,
        "lenType": 16,
        "lenVar": 40
      },
      "kernels_config": {
        "python": {
          "delete_cmd_postfix": "",
          "delete_cmd_prefix": "del ",
          "library": "var_list.py",
          "varRefreshCmd": "print(var_dic_list())"
        },
        "r": {
          "delete_cmd_postfix": ") ",
          "delete_cmd_prefix": "rm(",
          "library": "var_list.r",
          "varRefreshCmd": "cat(var_dic_list()) "
        }
      },
      "types_to_exclude": [
        "module",
        "function",
        "builtin_function_or_method",
        "instance",
        "_Feature"
      ],
      "window_display": false
    },
    "colab": {
      "name": "practical_sync_structure_and_ILOs.ipynb",
      "provenance": [],
      "collapsed_sections": []
    }
  },
  "cells": [
    {
      "cell_type": "markdown",
      "metadata": {
        "id": "XUexW0CmhlF3"
      },
      "source": [
        "# Structure GY7709 - 2020-21:\n",
        "# Week 1: Introduction to Python, Google Colab and Google Drive\n",
        "\n",
        "Individual learning outcomes: At the end of this week, all students should know how to log in to Google Drive, start an iPython notebook with Google Colab, navigate the directory structures on Google Drive and Colab from the menu and with the 'ls' command, and to use basic LiNUX commands. All students should have knowledge of Functions, Control Flow, Lists, Loops and Strings in Python.\n",
        "\n",
        "# Week 2: Data input, output and data type conversion\n",
        "\n",
        "Individual learning outcomes: After this week, all students should have be able to use Modules, Dictionaries, Files, Classes and Function Arguments in Python. All students should be able to use NumPy to create n-dimensional arrays and operators.\n",
        "\n",
        "# Week 3: Getting started with raster data processing with GDAL and RasterIO\n",
        "\n",
        "Individual learning outcomes: After this week, all students should be able to access raster dataset attributes and georeferencing, and be able to read in an image, access its metadata and use basic functionality of the GDAL and RasterIO libraries. All students should be able to  login to the Copernicus Data Hub, search manually for Sentinel-2 images and download images.\n",
        "\n",
        "# Week 4: Image analysis and visualisation with GDAL and RasterIO\n",
        "\n",
        "Individual learning outcomes: At the end of this week, all students should be able to call GDAL and RasterIO commands from within Python to reproject or reshape a Sentinel-2 image.\n",
        "\n",
        "# Week 5: Reading week\n",
        "\n",
        "Individual learning outcomes: During this week, students should independently read up on the material covered in weeks 1-4 and consolidate their understanding of Python by writing short programs to put their knowledge into practice.\n",
        "\n",
        "# Week 6: Accessing satellite data from Google Earth Engine from Python\n",
        "\n",
        "Individual learning outcomes: At the end of this week, all students should be able to access Sentinel-2 image composites from Google Earth Engine via the Python API, set up and submit a data query, download the data to Google Drive and Colab, and create a movie from a time series.\n",
        "\n",
        "# Week 7: Accessing the Copernicus Open Access Hub with the SentinelSat library\n",
        "\n",
        "Individual learning outcomes: At the end of this week, all students should be able to access the Copernicus Open Access Hub via the API, set up and submit a data query and automatically download individual Sentinel-2 images to Google Drive and Colab for further analysis. Students should understand the Sentinel-2 file structure and to pre-process the image automatically, including unzipping, reprojecting, and clipping.\n",
        "\n",
        "# Week 8: Creating an automated Sentinel-2 processing chain\n",
        "\n",
        "Individual learning outcomes: At the end of this week, all students should be able to download and pre-process Sentinel-2 images, calculate the Normalized Difference Vegetation Index (NDVI) from the spectral bands and extract statistics of pixel values within polygons of a shapefile from within Python.\n",
        "\n",
        "# Week 9: Random forest classification with SciKit-Learn\n",
        "\n",
        "Individual learning outcomes: At the end of this week, all students should be able to use QGIS to collect training data for an image classification and export these to a raster file. All students should be able to train a random forest model in Python with their training data, save it to a model file and apply the model to produce a classified land cover map.\n",
        "\n",
        "# Week 10: Classifying multitemporal image stacks\n",
        "\n",
        "Individual learning outcomes: After this week, all students should be able to stack multi-temporal Sentinel-2 images into a raster stack (e.g. spring and autumn images), train a random forest model with the stack of images and run the classification on that stack."
      ]
    },
    {
      "cell_type": "code",
      "metadata": {
        "id": "9IourNQ_dbur"
      },
      "source": [
        ""
      ],
      "execution_count": null,
      "outputs": []
    }
  ]
}