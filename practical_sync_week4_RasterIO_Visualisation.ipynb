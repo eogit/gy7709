{
  "nbformat": 4,
  "nbformat_minor": 0,
  "metadata": {
    "kernelspec": {
      "display_name": "Python 3",
      "language": "python",
      "name": "python3"
    },
    "language_info": {
      "codemirror_mode": {
        "name": "ipython",
        "version": 3
      },
      "file_extension": ".py",
      "mimetype": "text/x-python",
      "name": "python",
      "nbconvert_exporter": "python",
      "pygments_lexer": "ipython3",
      "version": "3.7.6"
    },
    "latex_envs": {
      "LaTeX_envs_menu_present": true,
      "autoclose": false,
      "autocomplete": true,
      "bibliofile": "biblio.bib",
      "cite_by": "apalike",
      "current_citInitial": 1,
      "eqLabelWithNumbers": true,
      "eqNumInitial": 1,
      "hotkeys": {
        "equation": "Ctrl-E",
        "itemize": "Ctrl-I"
      },
      "labels_anchors": false,
      "latex_user_defs": false,
      "report_style_numbering": false,
      "user_envs_cfg": false
    },
    "varInspector": {
      "cols": {
        "lenName": 16,
        "lenType": 16,
        "lenVar": 40
      },
      "kernels_config": {
        "python": {
          "delete_cmd_postfix": "",
          "delete_cmd_prefix": "del ",
          "library": "var_list.py",
          "varRefreshCmd": "print(var_dic_list())"
        },
        "r": {
          "delete_cmd_postfix": ") ",
          "delete_cmd_prefix": "rm(",
          "library": "var_list.r",
          "varRefreshCmd": "cat(var_dic_list()) "
        }
      },
      "types_to_exclude": [
        "module",
        "function",
        "builtin_function_or_method",
        "instance",
        "_Feature"
      ],
      "window_display": false
    },
    "colab": {
      "name": "practical_sync_week4_RasterIO_Visualisation.ipynb",
      "provenance": [],
      "collapsed_sections": []
    }
  },
  "cells": [
    {
      "cell_type": "markdown",
      "metadata": {
        "id": "-YEob5HDStzx"
      },
      "source": [
        "# Week 4: Image analysis and visualisation with GDAL and RasterIO\n",
        "\n",
        "Individual learning outcomes: At the end of this week, all students should be able to call GDAL and RasterIO commands from within Python to reproject or reshape a Sentinel-2 image."
      ]
    },
    {
      "cell_type": "markdown",
      "metadata": {
        "id": "___N_2vyp_f2"
      },
      "source": [
        "Connect to our Google Drive from Colab, as we did last week."
      ]
    },
    {
      "cell_type": "code",
      "metadata": {
        "scrolled": true,
        "id": "RvpK17wXp_f7"
      },
      "source": [
        "# Load the Drive helper and mount your Google Drive as a drive in the virtual machine\n",
        "from google.colab import drive\n",
        "drive.mount('/content/drive')"
      ],
      "execution_count": null,
      "outputs": []
    },
    {
      "cell_type": "markdown",
      "metadata": {
        "id": "lxAdkqX7_ZZw"
      },
      "source": [
        "Import all necessary libraries and install the RasterIO library if necessary."
      ]
    },
    {
      "cell_type": "code",
      "metadata": {
        "id": "HXnzg_pcTSEP"
      },
      "source": [
        "#import required libraries\n",
        "!pip install rasterio\n",
        "import rasterio\n",
        "from rasterio import plot\n",
        "from rasterio.plot import show_hist\n",
        "import matplotlib.pyplot as plt\n",
        "import numpy as np\n",
        "%matplotlib inline"
      ],
      "execution_count": null,
      "outputs": []
    },
    {
      "cell_type": "markdown",
      "metadata": {
        "id": "qw0EK7xK_22r"
      },
      "source": [
        "Make sure before running the next cell, you have uploaded the Sentinel-2 image to your Google Drive. Check in the directory structure on the left hand side of Colab whether it is there. You may need to adapt the file path and file names if you are using a different Sentinel-2 image."
      ]
    },
    {
      "cell_type": "markdown",
      "metadata": {
        "id": "4HzfTZlKAMyT"
      },
      "source": [
        "Last week, we learned how to create Geotiff files with 3 bands for visualisation purposes and how to show them as true colour and false colour composites. We worked with the four bands that are available at 10 m spatial resolution. However, Sentinel-2 also has some other really good bands at 20 m and even 60 m resolution: https://sentinel.esa.int/web/sentinel/user-guides/sentinel-2-msi/resolutions/radiometric\n",
        "\n",
        "Today, we want to work with more image bands. We will create a Geotiff image in uint16 data format (remember what that is from last week?). It will contain all 10m and 20 m resolution bands. We will resample the four 10m bands to 20m resolution to make them compatible."
      ]
    },
    {
      "cell_type": "code",
      "metadata": {
        "id": "kIdnHVRZYf9W"
      },
      "source": [
        "#open bands as separate single-band raster from the image directory pointing to the 20 m resolution bands\n",
        "imagePath = '/content/drive/My Drive/practicals20-21/S2A_MSIL2A_20180507T110621_N0207_R137_T30UXD_20180507T131836.SAFE/GRANULE/L2A_T30UXD_A015006_20180507T110835/IMG_DATA/R20m/'\n",
        "#note: explore the directory and file structure in the data explorer on the left hand side of Colab (click on the folder icon)\n",
        "band2 = rasterio.open(imagePath+'T30UXD_20180507T110621_B02_20m.jp2', driver='JP2OpenJPEG') #blue\n",
        "band3 = rasterio.open(imagePath+'T30UXD_20180507T110621_B03_20m.jp2', driver='JP2OpenJPEG') #green\n",
        "band4 = rasterio.open(imagePath+'T30UXD_20180507T110621_B04_20m.jp2', driver='JP2OpenJPEG') #red\n",
        "band5 = rasterio.open(imagePath+'T30UXD_20180507T110621_B05_20m.jp2', driver='JP2OpenJPEG') #vegetation red edge 1\n",
        "band6 = rasterio.open(imagePath+'T30UXD_20180507T110621_B06_20m.jp2', driver='JP2OpenJPEG') #vegetation red edge 2\n",
        "band7 = rasterio.open(imagePath+'T30UXD_20180507T110621_B07_20m.jp2', driver='JP2OpenJPEG') #vegetation red edge 3\n",
        "band8A = rasterio.open(imagePath+'T30UXD_20180507T110621_B8A_20m.jp2', driver='JP2OpenJPEG') #narrow-band nir\n",
        "bandAOT = rasterio.open(imagePath+'T30UXD_20180507T110621_AOT_20m.jp2', driver='JP2OpenJPEG') #aerosol optical thickness\n",
        "bandSCL = rasterio.open(imagePath+'T30UXD_20180507T110621_SCL_20m.jp2', driver='JP2OpenJPEG') #automatic scene classification\n",
        "bandTCI = rasterio.open(imagePath+'T30UXD_20180507T110621_TCI_20m.jp2', driver='JP2OpenJPEG') #True Colour Image in uint8 data format\n",
        "bandWVP = rasterio.open(imagePath+'T30UXD_20180507T110621_WVP_20m.jp2', driver='JP2OpenJPEG') #Water vapour pressure"
      ],
      "execution_count": null,
      "outputs": []
    },
    {
      "cell_type": "markdown",
      "metadata": {
        "id": "PU1o_Xo4Ah1w"
      },
      "source": [
        "There are a lot more image bands than we used last week. Let's explore some of them.\n",
        "We start with the TCI 'band'. We shall see that in fact the TCI is a jpeg2000 file with 3 bands included in the same file - a red, green and blue channel. But the TCI image is a quicklook image, i.e. its resolution has been downsampled to make the file smaller and quicker to visualise."
      ]
    },
    {
      "cell_type": "code",
      "metadata": {
        "id": "zMz4LYYtAgsw"
      },
      "source": [
        "#looking at the data types of this array, we can see that the three bands are all uint8 data format\n",
        "print(bandTCI.dtypes)"
      ],
      "execution_count": null,
      "outputs": []
    },
    {
      "cell_type": "code",
      "metadata": {
        "id": "UEKCfNrALTjA"
      },
      "source": [
        "# create a figure with 3 subplots\n",
        "fig, (ax1, ax2, ax3) = plt.subplots(1,3, figsize=(21,7))\n",
        "fig.patch.set_facecolor('white')\n",
        "\n",
        "#plot band using RasterIO - Remember we did this last week\n",
        "plot.show(bandTCI, ax=ax1)\n",
        "\n",
        "# zoom in to an area of interest by setting limits for each 'axis', meaning subplot\n",
        "ax2.set_xlim([640000,650000])\n",
        "ax2.set_ylim([5840000,5850000])\n",
        "plot.show(bandTCI, ax=ax2)\n",
        "\n",
        "# zoom in further and to a different place\n",
        "ax3.set_xlim([622421, 630421])\n",
        "ax3.set_ylim([5829707, 5837707])\n",
        "plot.show(bandTCI, ax=ax3)"
      ],
      "execution_count": null,
      "outputs": []
    },
    {
      "cell_type": "markdown",
      "metadata": {
        "id": "XFizYhi0ArVG"
      },
      "source": [
        "Last week, we had to apply various contrast stretches to improve the visual appearance of the image. The TCI band offers a quick and ready-made way of visualising the true colour composite without having to do that. It uses the threshold of 2000 to exclude any extreme values from the bands, as we did last week. That is why we used this value."
      ]
    },
    {
      "cell_type": "markdown",
      "metadata": {
        "id": "ThI9W74yH51U"
      },
      "source": [
        "Let's look at the water vapour band. This is being used to atmospherically correct the land surface reflectance image and shows us the contamination of the top-of-atmosphere radiance image (L1C, which we have not used) with a water vapour signal. Water vapour tends to be highest in the humid tropics."
      ]
    },
    {
      "cell_type": "code",
      "metadata": {
        "id": "wEo5bZF6LO-K"
      },
      "source": [
        "#this array only has one band, so we visualise it with a single-band colour scale\n",
        "#we also have to rescale it to uint8 format for visualisation, as last week\n",
        "print(bandWVP.dtypes)"
      ],
      "execution_count": null,
      "outputs": []
    },
    {
      "cell_type": "code",
      "metadata": {
        "id": "ZyN2HrdvHycN"
      },
      "source": [
        "# define the function we did last week\n",
        "# Convert uint16 to unit8 and rescale to 0-255\n",
        "def convert_to_uint8(a): \n",
        "  amin = a.min()\n",
        "  amax = a.max()\n",
        "  anewmin = 0.0\n",
        "  anewmax = 255.0\n",
        "  ascaled = (a - amin) * ((anewmax - anewmin) / (amax - amin)) + anewmin\n",
        "  return(ascaled.astype(np.uint8))\n",
        "\n",
        "#plot the water vapour band\n",
        "WVP = bandWVP.read(1)\n",
        "img = convert_to_uint8(WVP)\n",
        "print(\"WVP band min = \", WVP.min())\n",
        "print(\"WVP band max = \", WVP.max())\n",
        "print(\"rescaled min = \", img.min())\n",
        "print(\"rescaled max = \", img.max())\n",
        "plot.show(img, cmap='Blues')"
      ],
      "execution_count": null,
      "outputs": []
    },
    {
      "cell_type": "markdown",
      "metadata": {
        "id": "YsvknxW16bES"
      },
      "source": [
        "Moving on to aerosol optical thickness, which is another atmospheric effect that the ESA L2A processing chain corrects for to get from top-of-atmosphere radiance to land surface reflectance."
      ]
    },
    {
      "cell_type": "code",
      "metadata": {
        "id": "rN3soKAP6bpJ"
      },
      "source": [
        "#this array only has one band, so we visualise it with a single-band colour scale\n",
        "#we also have to rescale it to uint8 format for visualisation, as last week\n",
        "print(bandAOT.dtypes)"
      ],
      "execution_count": null,
      "outputs": []
    },
    {
      "cell_type": "markdown",
      "metadata": {
        "id": "xC1wnZXr6ruY"
      },
      "source": [
        "Like water vapour, this file has only one band with data type uint16."
      ]
    },
    {
      "cell_type": "code",
      "metadata": {
        "id": "QKBtrNnc60nA"
      },
      "source": [
        "#plot the aerosol optical thickness band\n",
        "AOT = bandAOT.read(1)\n",
        "img = convert_to_uint8(AOT)\n",
        "print(\"AOT band min = \", AOT.min())\n",
        "print(\"AOT band max = \", AOT.max())\n",
        "print(\"rescaled min = \", img.min())\n",
        "print(\"rescaled max = \", img.max())\n",
        "plot.show(img, cmap='Greys')"
      ],
      "execution_count": null,
      "outputs": []
    },
    {
      "cell_type": "markdown",
      "metadata": {
        "id": "_w2RGYvR7M17"
      },
      "source": [
        "Now onto the scene classification file. ESA applies an automatic scene classification to the Sentinel-2 images to get from L1C to L2A, because its atmospheric correction algorithm needs some information on the land cover type.\n",
        "This is described here."
      ]
    },
    {
      "cell_type": "code",
      "metadata": {
        "id": "PirWfXUY80a9"
      },
      "source": [
        "#this array only has one band in uint8 format\n",
        "#pixel values indicate classes\n",
        "print(bandSCL.dtypes)"
      ],
      "execution_count": null,
      "outputs": []
    },
    {
      "cell_type": "code",
      "metadata": {
        "id": "OFLIovyH7NSy"
      },
      "source": [
        "# read in the band data\n",
        "#SCL = bandSCL.read(1);\n",
        "# import colour map library\n",
        "from matplotlib import cm\n",
        "from matplotlib.colors import ListedColormap\n",
        "\n",
        "# make a new colour map\n",
        "viridis = cm.get_cmap('viridis', 12)\n",
        "SCLcmap = ListedColormap(viridis(np.linspace(0, 1, 12)))\n",
        "\n",
        "# assign colours to the SCL classes \n",
        "# the values mean red, green, blue intensity, and transparency (alpha) and must be between 0 (low) and 1 (high)\n",
        "SCLcmap.colors[0] = [0., 0., 0., 1.] # No Data = black\n",
        "SCLcmap.colors[1] = [1., 0., 0.016, 1.] # Saturated / Defective = red\n",
        "SCLcmap.colors[2] = [0.525, 0.525, 0.525, 1.] # Dark Area Pixels = grey\n",
        "SCLcmap.colors[3] = [0.467, 0.298, 0.043, 1.] # Cloud Shadows = brown\n",
        "SCLcmap.colors[4] = [0.063, 0.827, 0.176, 1.] # Vegetation = green\n",
        "SCLcmap.colors[5] = [1., 1., 0.325, 1.] # Bare Soils = yellow\n",
        "SCLcmap.colors[6] = [0., 0., 1., 1.] # Water = blue\n",
        "SCLcmap.colors[7] = [0.506, 0.506, 0.506, 1.] # Clouds low probability / Unclassified = medium grey\n",
        "SCLcmap.colors[8] = [0.753, 0.753, 0.753, 1.] # Clouds medium probability = light grey\n",
        "SCLcmap.colors[9] = [0.949, 0.949, 0.949, 1.] # Clouds high probability = very light grey\n",
        "SCLcmap.colors[10] = [0.733, 0.773, 0.925, 1.] # Cirrus clouds = light blue/purple\n",
        "SCLcmap.colors[11] = [0.325, 1., 0.980, 1.] # Snow / Ice = cyan\n",
        "\n",
        "# print our colour map \n",
        "print('SCLcmap.colors', SCLcmap.colors)\n",
        "\n",
        "'''\n",
        "modified from: https://www.sentinel-hub.com/faq/how-get-s2a-scene-classification-sentinel-2/\n",
        "'''          "
      ],
      "execution_count": null,
      "outputs": []
    },
    {
      "cell_type": "markdown",
      "metadata": {
        "id": "qjLsbjrbDxLa"
      },
      "source": [
        "Now we can plot our scene classification map with our own colour table."
      ]
    },
    {
      "cell_type": "code",
      "metadata": {
        "id": "hdxKjgFCDydO"
      },
      "source": [
        "# create a figure with 3 subplots\n",
        "fig, (ax1, ax2, ax3) = plt.subplots(1,3, figsize=(21,7))\n",
        "fig.patch.set_facecolor('white')\n",
        "\n",
        "#plot band using RasterIO - Remember we did this last week\n",
        "plot.show(bandSCL, ax=ax1, cmap=SCLcmap)\n",
        "\n",
        "# zoom in to an area of interest by setting limits for each 'axis', meaning subplot\n",
        "ax2.set_xlim([640000,650000])\n",
        "ax2.set_ylim([5840000,5850000])\n",
        "plot.show(bandSCL, ax=ax2, cmap=SCLcmap)\n",
        "\n",
        "# zoom in further and to a different place\n",
        "ax3.set_xlim([622421, 630421])\n",
        "ax3.set_ylim([5829707, 5837707])\n",
        "plot.show(bandSCL, ax=ax3, cmap=SCLcmap)"
      ],
      "execution_count": null,
      "outputs": []
    },
    {
      "cell_type": "markdown",
      "metadata": {
        "id": "LgKPGBPunVj9"
      },
      "source": [
        "#Navigating the directory structure on your Google Drive from a Python program\n",
        "To see a list of all images and scripts in your current directory, type:"
      ]
    },
    {
      "cell_type": "code",
      "metadata": {
        "id": "8cILtFl_3dEN"
      },
      "source": [
        "import os\n",
        "print(\"Going to root directory.\")\n",
        "os.chdir(\"/content\")\n",
        "print(\"We are currently in this directory: \", os.getcwd())\n",
        "print(\"It has these contents:\")\n",
        "!ls -l\n",
        "print(\"\")\n",
        "\n",
        "# go to a different directory by using the os library\n",
        "os.chdir(\"drive\")\n",
        "print(\"Now we are in this directory: \", os.getcwd())\n",
        "print(\"It has these contents:\")\n",
        "!ls -l\n",
        "print(\"\")\n",
        "\n",
        "# go to a different directory\n",
        "os.chdir('MyDrive')\n",
        "print(\"Now we are in this directory: \", os.getcwd())\n",
        "print(\"It has these contents:\")\n",
        "!ls -l\n",
        "print(\"\")\n",
        "\n",
        "# go to a different directory\n",
        "os.chdir(\"practicals20-21\")\n",
        "print(\"Now we are in this directory: \", os.getcwd())\n",
        "print(\"It has these contents:\")\n",
        "print(os.listdir())\n",
        "print(\"\")\n",
        "!ls -l\n"
      ],
      "execution_count": null,
      "outputs": []
    },
    {
      "cell_type": "markdown",
      "metadata": {
        "id": "te7Xqh6ONLS6"
      },
      "source": [
        "Stack all bands we want to retain in one GeoTiff file."
      ]
    },
    {
      "cell_type": "code",
      "metadata": {
        "id": "9c9RIG7kiGqg"
      },
      "source": [
        "# save all image bands as a Geotiff file\n",
        "s2stack = rasterio.open('/content/drive/My Drive/practicals20-21/Sentinel-2_stack.tiff',\n",
        "                          'w',driver='Gtiff', width=band4.width, height=band4.height,\n",
        "                          count=7, crs=band4.crs, transform=band4.transform, \n",
        "                          dtype=np.uint16)\n",
        "s2stack.write(band2.read(1), 1)\n",
        "s2stack.write(band3.read(1), 2)\n",
        "s2stack.write(band4.read(1), 3)\n",
        "s2stack.write(band5.read(1), 4)\n",
        "s2stack.write(band6.read(1), 5)\n",
        "s2stack.write(band7.read(1), 6)\n",
        "s2stack.write(band8A.read(1), 7)\n",
        "s2stack.close()"
      ],
      "execution_count": null,
      "outputs": []
    },
    {
      "cell_type": "code",
      "metadata": {
        "id": "Ufqi9Ifovao1"
      },
      "source": [
        "s2stack = rasterio.open('/content/drive/My Drive/practicals20-21/Sentinel-2_stack.tiff')\n",
        "\n",
        "# print some metadata of the band 4 file before we stacked the bands\n",
        "print(\"Single band file before stacking:\")\n",
        "print(\"number of raster bands:\", band4.count)\n",
        "print(\"number of raster columns:\", band4.width)\n",
        "print(\"number of raster rows:\", band4.height)\n",
        "print(\"\")\n",
        "\n",
        "# print some metadata of the new stacked file\n",
        "print(\"Stacked Geotiff file:\")\n",
        "print(\"number of raster bands:\", s2stack.count)\n",
        "print(\"number of raster columns:\", s2stack.width)\n",
        "print(\"number of raster rows:\", s2stack.height)\n",
        "print(\"\")\n",
        "\n",
        "# look at the Geotiff file properties and file size\n",
        "os.chdir('/content/drive/My Drive/practicals20-21/')\n",
        "print(\"Now we are in this directory: \", os.getcwd())\n",
        "print(\"This is the file we created:\")\n",
        "!ls -l *_stack.tiff\n",
        "print(\"\")\n",
        "\n",
        "# extract the filename of our new file using the os library\n",
        "allfiles = os.listdir()\n",
        "matches = [f for f in allfiles if \"_stack.tiff\" in f]\n",
        "print(matches)"
      ],
      "execution_count": null,
      "outputs": []
    },
    {
      "cell_type": "markdown",
      "metadata": {
        "id": "_2ffaZVFdsiA"
      },
      "source": [
        "#Resampling an image to a different spatial resolution\n",
        "If we want to create a quicklook image at 100 m resolution, we can call a GDAL command from the command line. Let's look at the help function for that command first of all. This lists all the options you can specify. Everything in brackets is optional. Have a look at the documentation: https://gdal.org/programs/gdal_translate.html"
      ]
    },
    {
      "cell_type": "code",
      "metadata": {
        "id": "H9ugNSLkribf"
      },
      "source": [
        "!gdal_translate --help"
      ],
      "execution_count": null,
      "outputs": []
    },
    {
      "cell_type": "markdown",
      "metadata": {
        "id": "tM94r3TneXYQ"
      },
      "source": [
        "Now let's run this command on our stacked Sentinel-2 image. We will create a new raster file called s2stacked_100m.tif with 100 m resolution and the same projection as our original image."
      ]
    },
    {
      "cell_type": "code",
      "metadata": {
        "id": "Jr4iJuBhrq1Q"
      },
      "source": [
        "!gdal_translate -tr 100 100 -r average 'Sentinel-2_stack.tiff' 'Sentinel-2_stack_100m.tiff'"
      ],
      "execution_count": null,
      "outputs": []
    },
    {
      "cell_type": "markdown",
      "metadata": {
        "id": "gHCX9hi4t6Je"
      },
      "source": [
        "Now let's do the same procedure but using the Python language with the GDAL library. Note that before we used GDAL command lines.\n",
        "\n",
        "We are going to produce a new image called 'Sentinel-2_stack_100m_v2.tif' using GDAL from within Python rather than from the command line.\n",
        "\n",
        "For all available options, see this web site: https://gdal.org/python/osgeo.gdal-module.html#TranslateOptions\n"
      ]
    },
    {
      "cell_type": "code",
      "metadata": {
        "id": "-etbA3-Gt_y9"
      },
      "source": [
        "from osgeo import gdal\n",
        "\n",
        "# be aware that with the gdal library, the output file comes first, then the input file\n",
        "# this is different from the command line use of GDAL Translate we just did!\n",
        "out = gdal.Translate('Sentinel-2_stack_100m_v2.tiff', 'Sentinel-2_stack.tiff', xRes=100, yRes=100, resampleAlg='average')\n",
        "\n",
        "# close and save the output file\n",
        "# this is really important, as without closing the file the results will NOT be saved and you get an image with zeros\n",
        "out = None\n",
        "\n",
        "'''\n",
        "# For the more advaned handling of options, one can use the kwargs handler,\n",
        "# but we will not do this today\n",
        "\n",
        "kwargs = {\n",
        "    'format': 'GTiff',\n",
        "    'outputType': gdal.GDT_Int16\n",
        "}\n",
        "\n",
        "fn = 'input.tif'\n",
        "dst_fn = 'output.tif'\n",
        "\n",
        "ds = gdal.Translate(dst_fn, fn, **kwargs)\n",
        "# do something with ds if you need\n",
        "ds = None # close and save ds\n",
        "\n",
        "'''"
      ],
      "execution_count": null,
      "outputs": []
    },
    {
      "cell_type": "markdown",
      "metadata": {
        "id": "C6vIIiuJ7BAn"
      },
      "source": [
        "Let's look at the number of bands, pixels and lines in the different image files we have created."
      ]
    },
    {
      "cell_type": "code",
      "metadata": {
        "id": "vtwivwQo8tQ0"
      },
      "source": [
        "s2stack100mv1 = rasterio.open('/content/drive/My Drive/practicals20-21/Sentinel-2_stack_100m.tiff')\n",
        "s2stack100mv2 = rasterio.open('/content/drive/My Drive/practicals20-21/Sentinel-2_stack_100m_v2.tiff')\n",
        "\n",
        "# print some metadata of the first file\n",
        "print(\"Stacked Geotiff file v1:\")\n",
        "print(\"number of raster bands:\", s2stack100mv1.count)\n",
        "print(\"number of raster columns:\", s2stack100mv1.width)\n",
        "print(\"number of raster rows:\", s2stack100mv1.height)\n",
        "print(\"\")\n",
        "\n",
        "# print some metadata of the second file\n",
        "print(\"Stacked Geotiff file v2:\")\n",
        "print(\"number of raster bands:\", s2stack100mv2.count)\n",
        "print(\"number of raster columns:\", s2stack100mv2.width)\n",
        "print(\"number of raster rows:\", s2stack100mv2.height)\n",
        "print(\"\")"
      ],
      "execution_count": null,
      "outputs": []
    },
    {
      "cell_type": "markdown",
      "metadata": {
        "id": "Vu-7UrbjGlll"
      },
      "source": [
        "Visualise the 20 m and the two 100 m resolution images on screen."
      ]
    },
    {
      "cell_type": "code",
      "metadata": {
        "id": "ZZu0qHQuGp1w"
      },
      "source": [
        "# create a figure with 2x3 subplots\n",
        "fig, ((ax1, ax2, ax3), (ax4, ax5, ax6)) = plt.subplots(2,3, figsize=(21,10))\n",
        "fig.patch.set_facecolor('white')\n",
        "\n",
        "# Improve the function to convert uint16 to unit8 and rescale to 0-255\n",
        "# to include the visualisation commands\n",
        "\n",
        "def tci(afile, ax=None, bands=[3,2,1], xlim=None, ylim=None): \n",
        "  # tci stands for true colour image\n",
        "  # afile is a handle to an image file opened with RasterIO.Open()\n",
        "  # ax is the axes handle to plot the map on\n",
        "  # xlim =[xmin, xmax] is the map extent to be shown in x direction\n",
        "  # ylim =[ymin, ymax] is the map extent to be shown in y direction\n",
        "  # bands is the order of image bands in the source file to become RGB channels\n",
        "\n",
        "  # read band data of the three bands for visualisation\n",
        "  a = afile.read([bands[0], bands[1], bands[2]])\n",
        "\n",
        "  # exclude extreme values\n",
        "  a[a>2000] = 2000\n",
        "\n",
        "  amin = a.min()\n",
        "  amax = a.max()\n",
        "  \n",
        "  # catch errors if all values are the same\n",
        "  if (amax-amin) == 0:\n",
        "    print(\"WARNING: max and min are the same values\")\n",
        "\n",
        "  anewmin = 0.0\n",
        "  anewmax = 255.0\n",
        "  ascaled = (a - amin) * ((anewmax - anewmin) / (amax - amin)) + anewmin\n",
        "  a_uint8 = ascaled.astype(np.uint8)\n",
        "\n",
        "  # save the uint8 image as a temporary Geotiff file\n",
        "  tmpfile = rasterio.open('tmp_rgb_imagefile_ cjdlsbYFEOGFHEWBVUW.tiff',\n",
        "                            'w',driver='Gtiff', width=afile.width, height=afile.height,\n",
        "                            count=3, crs=afile.crs, transform=afile.transform, \n",
        "                            dtype=np.uint8)\n",
        "  tmpfile.write(a_uint8[0,:,:], 1)\n",
        "  tmpfile.write(a_uint8[1,:,:], 2)\n",
        "  tmpfile.write(a_uint8[2,:,:], 3)\n",
        "  tmpfile.close()\n",
        "\n",
        "  # try plotting the image again\n",
        "  imgfile = rasterio.open(r'tmp_rgb_imagefile_ cjdlsbYFEOGFHEWBVUW.tiff', count=3)\n",
        "\n",
        "  if (xlim==None):\n",
        "    xlim=[afile.bounds.left, afile.bounds.right]\n",
        "    # afile.bounds returns a BoundingBox(left, bottom, right, top) object\n",
        "\n",
        "  if (ylim==None):\n",
        "    ylim=[afile.bounds.bottom, afile.bounds.top]\n",
        "  \n",
        "  # zoom in to an area of interest\n",
        "  ax.set_xlim(xlim)\n",
        "  ax.set_ylim(ylim)\n",
        "  plot.show(imgfile, ax=ax)\n",
        "\n",
        "  imgfile.close()\n",
        "\n",
        "  # remove the temporary file\n",
        "  os.remove('tmp_rgb_imagefile_ cjdlsbYFEOGFHEWBVUW.tiff')\n",
        "\n",
        "  return()\n",
        "\n",
        "#plot the three images with full extent\n",
        "tci(s2stack, ax=ax1)\n",
        "tci(s2stack100mv1, ax=ax2)\n",
        "tci(s2stack100mv2, ax=ax3)\n",
        "\n",
        "# zoom in to an area of interest\n",
        "xlim=[640000,650000]\n",
        "ylim=[5840000,5850000]\n",
        "\n",
        "#plot the three zoom images\n",
        "tci(s2stack, ax=ax4, xlim=xlim, ylim=ylim)\n",
        "tci(s2stack100mv1, ax=ax5, xlim=xlim, ylim=ylim)\n",
        "tci(s2stack100mv2, ax=ax6, xlim=xlim, ylim=ylim)"
      ],
      "execution_count": null,
      "outputs": []
    },
    {
      "cell_type": "markdown",
      "metadata": {
        "id": "xDODoX_d8buZ"
      },
      "source": [
        "Note that there are other resampling options available. We chose averaging adjacent pixels to the coarser resolution. Alternatives include nearest neighbour resampling and bilinear interpolation. Try them out in the GDAL Translate command and create another image file. Look at the difference that makes."
      ]
    },
    {
      "cell_type": "markdown",
      "metadata": {
        "id": "c3b2Ijq0lwkF"
      },
      "source": [
        "Let's check the projection of this new image using GDAL in Python.\n",
        "We will use the \"pritty printing\" library pprint to give nicer data output."
      ]
    },
    {
      "cell_type": "code",
      "metadata": {
        "id": "T7zOh3HBmW_g"
      },
      "source": [
        "from pprint import pprint\n",
        "pprint(gdal.Info('/content/drive/My Drive/practicals20-21/Sentinel-2_stack_100m.tiff'))"
      ],
      "execution_count": null,
      "outputs": []
    },
    {
      "cell_type": "markdown",
      "metadata": {
        "id": "PU4peRqi9RV6"
      },
      "source": [
        "#Reprojecting an image\n",
        "Sometimes we want to change the geographic projection of an image, for example to make it compatible with national map projection requirements, or if we want to mosaic different Sentinel-2 images together to a larger map. Their projection changes depending on the longitude.\n",
        "\n",
        "This is also called image warping. Imagine you are streching a rubber sheet over an orange. This is essentially what you do here. The orange is your ellipsoid model of the shape of the Earth.\n",
        "\n",
        "For example, we can change the image from UTM projection to the British National Grid projection: https://epsg.io/27700\n"
      ]
    },
    {
      "cell_type": "code",
      "metadata": {
        "id": "imBz9WjN9juP"
      },
      "source": [
        "ds = gdal.Warp('/content/drive/My Drive/practicals20-21/Sentinel-2_stack_100m_BNG.tiff',\n",
        "               '/content/drive/My Drive/practicals20-21/Sentinel-2_stack_100m.tiff', dstSRS='EPSG:27700')\n",
        "ds = None #remember to close and save the output file\n",
        "\n",
        "# Compare the new file and its projection\n",
        "pprint(gdal.Info('/content/drive/My Drive/practicals20-21/Sentinel-2_stack_100m_BNG.tiff'))"
      ],
      "execution_count": null,
      "outputs": []
    },
    {
      "cell_type": "markdown",
      "metadata": {
        "id": "zbj7ljj6mn4q"
      },
      "source": [
        "You can see from the metadata that the new image file is now in British National Grid projection.\n",
        "\n",
        "Let's print the new BNG image next to the UTM image to see how much difference this makes.\n",
        "\n",
        "We have to be mindful that the coordinate system in BNG and UTM projection has different scales. This means that we have to convert our coordinates for the zoom window from one projection to the other before calling our plotting function."
      ]
    },
    {
      "cell_type": "code",
      "metadata": {
        "id": "OmOvkI-Fl1cI"
      },
      "source": [
        "s2stack100mUTM = rasterio.open('/content/drive/My Drive/practicals20-21/Sentinel-2_stack_100m.tiff')\n",
        "s2stack100mBNG = rasterio.open('/content/drive/My Drive/practicals20-21/Sentinel-2_stack_100m_BNG.tiff')\n",
        "\n",
        "# print some georeferencing information\n",
        "print(s2stack100mBNG.width, s2stack100mBNG.height, s2stack100mBNG.crs, s2stack100mBNG.transform, s2stack100mBNG.bounds)\n",
        "\n",
        "# create a figure with 2x2 subplots\n",
        "fig, ((ax1, ax2), (ax3, ax4)) = plt.subplots(2,2, figsize=(10,10))\n",
        "fig.patch.set_facecolor('white')\n",
        "\n",
        "#plot the images with full extent\n",
        "tci(s2stack100mUTM, ax=ax1)\n",
        "tci(s2stack100mBNG, ax=ax2)\n",
        "\n",
        "# zoom in to an area of interest in UTM coordinates\n",
        "xlim=[640000,650000]\n",
        "ylim=[5840000,5850000]\n",
        "\n",
        "# convert from UTM to BNG coordinates (using numpy arrays)\n",
        "xs = np.array(xlim)\n",
        "ys = np.array(ylim)\n",
        "# first convert UTM coordinates to pixel locations in the image\n",
        "pxl = rasterio.transform.rowcol(s2stack100mUTM.transform, xs, ys)\n",
        "print(pxl)\n",
        "# then convert the pixel locations to BNG coordinates\n",
        "bng = rasterio.transform.xy(s2stack100mBNG.transform, pxl[0], pxl[1])\n",
        "print(bng)\n",
        "\n",
        "#plot the zoom images\n",
        "tci(s2stack100mUTM, ax=ax3, xlim=xlim, ylim=ylim)\n",
        "tci(s2stack100mBNG, ax=ax4, xlim=bng[0], ylim=bng[1])"
      ],
      "execution_count": null,
      "outputs": []
    },
    {
      "cell_type": "markdown",
      "metadata": {
        "id": "RsLCVQSLZYRt"
      },
      "source": [
        "You can probably see small black margins around the overview image in BNG project. This is caused by the warping and shows that it worked."
      ]
    },
    {
      "cell_type": "markdown",
      "metadata": {
        "id": "B92V_rxuCcVE"
      },
      "source": [
        "# NDVI\n"
      ]
    },
    {
      "cell_type": "markdown",
      "metadata": {
        "id": "ttKA37WAT5G_"
      },
      "source": [
        "The Normalized Difference Vegetation Index (NDVI) is an indicator of the proportion and condition of green vegetation. Generally for surfaces with some vegetation the value of NDVI is positive, for surfaces without vegetation the value is null, while for water and clouds the value is usually negative. The closer to the positive end, the higher the density of the vegetation cover, that is, it is consistent with its dense and developed stage. This value gradually decreases for less dense vegetation cover, which has positive but not very high values."
      ]
    },
    {
      "cell_type": "code",
      "metadata": {
        "id": "fz2j2an_WPkJ"
      },
      "source": [
        "red = s2stack100mBNG.read(3) # band 3 in our stacked image\n",
        "nir = s2stack100mBNG.read(7) # band 7 in our stacked image\n",
        "\n",
        "# NDVI calculation as flaoting point array\n",
        "ndvi = (nir.astype(float) - red.astype(float)) / (nir.astype(float) + red.astype(float))\n",
        "\n",
        "# Ignore division by zero\n",
        "np.seterr(divide='ignore', invalid='ignore')\n",
        "\n",
        "# print some image statistics, ignoring missing values (nan)\n",
        "print(\"minimum NDVI = \", np.nanmin(ndvi))\n",
        "print(\"mean NDVI = \", np.nanmean(ndvi))\n",
        "print(\"maximum NDVI = \", np.nanmax(ndvi))\n",
        "print(\"standard deviation = \", np.nanstd(ndvi))\n",
        "\n",
        "# save the NDVI image as a Geotiff file\n",
        "ndvifile = rasterio.open('/content/drive/My Drive/practicals20-21/Sentinel-2_NDVI_100m.tiff',\n",
        "                          'w',driver='Gtiff', width=s2stack100mBNG.width, height=s2stack100mBNG.height,\n",
        "                          count=1, crs=s2stack100mBNG.crs, transform=s2stack100mBNG.transform, \n",
        "                          dtype=np.float64)\n",
        "ndvifile.write(ndvi, 1)\n",
        "ndvifile.close()"
      ],
      "execution_count": null,
      "outputs": []
    },
    {
      "cell_type": "markdown",
      "metadata": {
        "id": "7HD6SRqQsOCI"
      },
      "source": [
        "Because we have some missing values (nan) in the NDVI image due to pixels for which NDVI could not be computed, we want to improve our function to make a uint8 image for visualisation such that it excludes nan values. If we do not do that, it will return an image with only nan values for all pixels. We also want to exclude any pixels with a negative NDVI from the visualisation."
      ]
    },
    {
      "cell_type": "code",
      "metadata": {
        "id": "TU7a0a_ONUJQ"
      },
      "source": [
        "# redefine this function such that it can cope with nan values in the image\n",
        "# Convert uint16 to unit8 and rescale to 0-255\n",
        "def convert_to_uint8_nan(a): \n",
        "  amin = np.nanmin(a)\n",
        "  amax = np.nanmax(a)\n",
        "  anewmin = 0.0\n",
        "  anewmax = 255.0\n",
        "  ascaled = (a - amin) * ((anewmax - anewmin) / (amax - amin)) + anewmin\n",
        "  return(ascaled.astype(np.uint8))\n",
        "\n",
        "# save the NDVI image as a scaled uint8 Geotiff file for plotting\n",
        "img = convert_to_uint8_nan(np.where(ndvi>0, ndvi, 0))\n",
        "ndvifile = rasterio.open('/content/drive/My Drive/practicals20-21/Sentinel-2_NDVI_100m_uint8.tiff',\n",
        "                          'w',driver='Gtiff', width=s2stack100mBNG.width, height=s2stack100mBNG.height,\n",
        "                          count=1, crs=s2stack100mBNG.crs, transform=s2stack100mBNG.transform, \n",
        "                          dtype=np.uint8)\n",
        "ndvifile.write(img, 1)\n",
        "ndvifile.close()\n",
        "\n",
        "imgfile = rasterio.open('/content/drive/My Drive/practicals20-21/Sentinel-2_NDVI_100m_uint8.tiff', 'r')\n",
        "\n",
        "# create a figure with 2 subplots\n",
        "fig, (ax1, ax2) = plt.subplots(1,2, figsize=(20,10))\n",
        "fig.patch.set_facecolor('white')\n",
        "plot.show(imgfile, ax=ax1, cmap='Greens')\n",
        "\n",
        "# zoom in to an area of interest\n",
        "ax2.set_xlim(bng[0])\n",
        "ax2.set_ylim(bng[1])\n",
        "plot.show(imgfile, ax=ax2, cmap='Greens')\n"
      ],
      "execution_count": null,
      "outputs": []
    },
    {
      "cell_type": "markdown",
      "metadata": {
        "id": "TcunD5ncmGw5"
      },
      "source": [
        "We have reached the end of today's practical.\n"
      ]
    },
    {
      "cell_type": "code",
      "metadata": {
        "id": "g7bppj_0YPWM"
      },
      "source": [
        ""
      ],
      "execution_count": null,
      "outputs": []
    }
  ]
}