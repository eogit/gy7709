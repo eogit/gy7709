{
  "nbformat": 4,
  "nbformat_minor": 0,
  "metadata": {
    "anaconda-cloud": {},
    "kernelspec": {
      "display_name": "Python [conda env:mesa]",
      "language": "python",
      "name": "conda-env-mesa-py"
    },
    "language_info": {
      "codemirror_mode": {
        "name": "ipython",
        "version": 3
      },
      "file_extension": ".py",
      "mimetype": "text/x-python",
      "name": "python",
      "nbconvert_exporter": "python",
      "pygments_lexer": "ipython3",
      "version": "3.6.6"
    },
    "colab": {
      "name": "Forest Fire Model.ipynb",
      "provenance": [],
      "collapsed_sections": [],
      "toc_visible": true,
      "include_colab_link": true
    }
  },
  "cells": [
    {
      "cell_type": "markdown",
      "metadata": {
        "id": "view-in-github",
        "colab_type": "text"
      },
      "source": [
        "<a href=\"https://colab.research.google.com/github/eogit/gy7709/blob/master/Forest_Fire_Model.ipynb\" target=\"_parent\"><img src=\"https://colab.research.google.com/assets/colab-badge.svg\" alt=\"Open In Colab\"/></a>"
      ]
    },
    {
      "cell_type": "markdown",
      "metadata": {
        "id": "u7ltFL2dCXSY",
        "colab_type": "text"
      },
      "source": [
        "# The Forest Fire Model\n",
        "## A rapid introduction to Mesa\n",
        "\n",
        "The [Forest Fire Model](http://en.wikipedia.org/wiki/Forest-fire_model) is one of the simplest examples of a model that exhibits self-organized criticality.\n",
        "\n",
        "Mesa is a new, Pythonic agent-based modeling framework. A big advantage of using Python is that it a great language for interactive data analysis. Unlike some other ABM frameworks, with Mesa you can write a model, run it, and analyze it all in the same environment. (You don't have to, of course. But you can).\n",
        "\n",
        "In this notebook, we'll go over a rapid-fire (pun intended, sorry) introduction to building and analyzing a model with Mesa."
      ]
    },
    {
      "cell_type": "markdown",
      "metadata": {
        "id": "taDOJ-cZCXSZ",
        "colab_type": "text"
      },
      "source": [
        "First, some imports. We'll go over what all the Mesa ones mean just below."
      ]
    },
    {
      "cell_type": "code",
      "metadata": {
        "scrolled": true,
        "id": "RvpK17wXp_f7",
        "colab_type": "code",
        "outputId": "275da072-f439-4b21-bdba-210afefe55b2",
        "colab": {
          "base_uri": "https://localhost:8080/",
          "height": 102
        }
      },
      "source": [
        "# Load the Drive helper and mount your Google Drive as a drive in the virtual machine\n",
        "from google.colab import drive\n",
        "drive.mount('/content/drive')\n"
      ],
      "execution_count": 1,
      "outputs": [
        {
          "output_type": "stream",
          "text": [
            "Go to this URL in a browser: https://accounts.google.com/o/oauth2/auth?client_id=947318989803-6bn6qk8qdgf4n4g3pfee6491hc0brc4i.apps.googleusercontent.com&redirect_uri=urn%3aietf%3awg%3aoauth%3a2.0%3aoob&response_type=code&scope=email%20https%3a%2f%2fwww.googleapis.com%2fauth%2fdocs.test%20https%3a%2f%2fwww.googleapis.com%2fauth%2fdrive%20https%3a%2f%2fwww.googleapis.com%2fauth%2fdrive.photos.readonly%20https%3a%2f%2fwww.googleapis.com%2fauth%2fpeopleapi.readonly\n",
            "\n",
            "Enter your authorization code:\n",
            "··········\n",
            "Mounted at /content/drive\n"
          ],
          "name": "stdout"
        }
      ]
    },
    {
      "cell_type": "code",
      "metadata": {
        "id": "FT_LY5hj6Auu",
        "colab_type": "code",
        "outputId": "63d62d62-5986-49d3-e501-5779eb82bcf7",
        "colab": {
          "base_uri": "https://localhost:8080/",
          "height": 731
        }
      },
      "source": [
        "!pip install mesa"
      ],
      "execution_count": 2,
      "outputs": [
        {
          "output_type": "stream",
          "text": [
            "Collecting mesa\n",
            "\u001b[?25l  Downloading https://files.pythonhosted.org/packages/20/e6/402b21f702498163df606e541f90dced4f9a570922f7faf22a193bd668f3/Mesa-0.8.6.tar.gz (627kB)\n",
            "\u001b[K     |████████████████████████████████| 634kB 2.7MB/s \n",
            "\u001b[?25hRequirement already satisfied: click in /usr/local/lib/python3.6/dist-packages (from mesa) (7.1.1)\n",
            "Collecting cookiecutter\n",
            "\u001b[?25l  Downloading https://files.pythonhosted.org/packages/86/c9/7184edfb0e89abedc37211743d1420810f6b49ae4fa695dfc443c273470d/cookiecutter-1.7.0-py2.py3-none-any.whl (40kB)\n",
            "\u001b[K     |████████████████████████████████| 40kB 6.1MB/s \n",
            "\u001b[?25hRequirement already satisfied: networkx in /usr/local/lib/python3.6/dist-packages (from mesa) (2.4)\n",
            "Requirement already satisfied: numpy in /usr/local/lib/python3.6/dist-packages (from mesa) (1.18.2)\n",
            "Requirement already satisfied: pandas in /usr/local/lib/python3.6/dist-packages (from mesa) (1.0.3)\n",
            "Requirement already satisfied: tornado in /usr/local/lib/python3.6/dist-packages (from mesa) (4.5.3)\n",
            "Requirement already satisfied: tqdm in /usr/local/lib/python3.6/dist-packages (from mesa) (4.38.0)\n",
            "Collecting poyo>=0.1.0\n",
            "  Downloading https://files.pythonhosted.org/packages/42/50/0b0820601bde2eda403f47b9a4a1f270098ed0dd4c00c443d883164bdccc/poyo-0.5.0-py2.py3-none-any.whl\n",
            "Collecting jinja2-time>=0.1.0\n",
            "  Downloading https://files.pythonhosted.org/packages/6a/a1/d44fa38306ffa34a7e1af09632b158e13ec89670ce491f8a15af3ebcb4e4/jinja2_time-0.2.0-py2.py3-none-any.whl\n",
            "Collecting binaryornot>=0.2.0\n",
            "  Downloading https://files.pythonhosted.org/packages/24/7e/f7b6f453e6481d1e233540262ccbfcf89adcd43606f44a028d7f5fae5eb2/binaryornot-0.4.4-py2.py3-none-any.whl\n",
            "Requirement already satisfied: requests>=2.18.0 in /usr/local/lib/python3.6/dist-packages (from cookiecutter->mesa) (2.21.0)\n",
            "Requirement already satisfied: jinja2>=2.7 in /usr/local/lib/python3.6/dist-packages (from cookiecutter->mesa) (2.11.1)\n",
            "Collecting whichcraft>=0.4.0\n",
            "  Downloading https://files.pythonhosted.org/packages/b5/a2/81887a0dae2e4d2adc70d9a3557fdda969f863ced51cd3c47b587d25bce5/whichcraft-0.6.1-py2.py3-none-any.whl\n",
            "Requirement already satisfied: future>=0.15.2 in /usr/local/lib/python3.6/dist-packages (from cookiecutter->mesa) (0.16.0)\n",
            "Requirement already satisfied: decorator>=4.3.0 in /usr/local/lib/python3.6/dist-packages (from networkx->mesa) (4.4.2)\n",
            "Requirement already satisfied: pytz>=2017.2 in /usr/local/lib/python3.6/dist-packages (from pandas->mesa) (2018.9)\n",
            "Requirement already satisfied: python-dateutil>=2.6.1 in /usr/local/lib/python3.6/dist-packages (from pandas->mesa) (2.8.1)\n",
            "Collecting arrow\n",
            "\u001b[?25l  Downloading https://files.pythonhosted.org/packages/92/fa/f84896dede5decf284e6922134bf03fd26c90870bbf8015f4e8ee2a07bcc/arrow-0.15.5-py2.py3-none-any.whl (46kB)\n",
            "\u001b[K     |████████████████████████████████| 51kB 7.2MB/s \n",
            "\u001b[?25hRequirement already satisfied: chardet>=3.0.2 in /usr/local/lib/python3.6/dist-packages (from binaryornot>=0.2.0->cookiecutter->mesa) (3.0.4)\n",
            "Requirement already satisfied: idna<2.9,>=2.5 in /usr/local/lib/python3.6/dist-packages (from requests>=2.18.0->cookiecutter->mesa) (2.8)\n",
            "Requirement already satisfied: urllib3<1.25,>=1.21.1 in /usr/local/lib/python3.6/dist-packages (from requests>=2.18.0->cookiecutter->mesa) (1.24.3)\n",
            "Requirement already satisfied: certifi>=2017.4.17 in /usr/local/lib/python3.6/dist-packages (from requests>=2.18.0->cookiecutter->mesa) (2019.11.28)\n",
            "Requirement already satisfied: MarkupSafe>=0.23 in /usr/local/lib/python3.6/dist-packages (from jinja2>=2.7->cookiecutter->mesa) (1.1.1)\n",
            "Requirement already satisfied: six>=1.5 in /usr/local/lib/python3.6/dist-packages (from python-dateutil>=2.6.1->pandas->mesa) (1.12.0)\n",
            "Building wheels for collected packages: mesa\n",
            "  Building wheel for mesa (setup.py) ... \u001b[?25l\u001b[?25hdone\n",
            "  Created wheel for mesa: filename=Mesa-0.8.6-cp36-none-any.whl size=646978 sha256=78de43ec5cb39a96e5110f561feab554546d8e534cc52b52363a9b353d626485\n",
            "  Stored in directory: /root/.cache/pip/wheels/0b/e1/a9/8cb6a66246419d8268c559c551a6ea176481003d68168de011\n",
            "Successfully built mesa\n",
            "Installing collected packages: poyo, arrow, jinja2-time, binaryornot, whichcraft, cookiecutter, mesa\n",
            "Successfully installed arrow-0.15.5 binaryornot-0.4.4 cookiecutter-1.7.0 jinja2-time-0.2.0 mesa-0.8.6 poyo-0.5.0 whichcraft-0.6.1\n"
          ],
          "name": "stdout"
        }
      ]
    },
    {
      "cell_type": "code",
      "metadata": {
        "id": "ZdrNMMgHCXSa",
        "colab_type": "code",
        "colab": {}
      },
      "source": [
        "import numpy as np\n",
        "import pandas as pd\n",
        "import imageio\n",
        "\n",
        "import matplotlib\n",
        "import matplotlib.pyplot as plt\n",
        "from matplotlib.patches import Patch\n",
        "%matplotlib inline\n",
        "\n",
        "from mesa import Model, Agent\n",
        "from mesa.time import RandomActivation\n",
        "from mesa.space import Grid\n",
        "from mesa.datacollection import DataCollector\n",
        "from mesa.batchrunner import BatchRunner"
      ],
      "execution_count": 0,
      "outputs": []
    },
    {
      "cell_type": "markdown",
      "metadata": {
        "id": "b7gZGLOrCXSf",
        "colab_type": "text"
      },
      "source": [
        "## Building the model\n",
        "\n",
        "Most models consist of basically two things: agents, and an world for the agents to be in. The Forest Fire model has only one kind of agent: a tree. A tree can either be unburned, on fire, or already burned. The environment is a grid, where each cell can either be empty or contain a tree.\n",
        "\n",
        "First, let's define our tree agent. The agent needs to be assigned **x** and **y** coordinates on the grid, and that's about it. We could assign agents a condition to be in, but for now let's have them all start as being 'Fine'. Since the agent doesn't move, and there is only at most one tree per cell, we can use a tuple of its coordinates as a unique identifier.\n",
        "\n",
        "Next, we define the agent's **step** method. This gets called whenever the agent needs to act in the world and takes the *model* object to which it belongs as an input. The tree's behavior is simple: If it is currently on fire, it spreads the fire to any trees above, below, to the left and the right of it that are not themselves burned out or on fire; then it burns itself out. "
      ]
    },
    {
      "cell_type": "code",
      "metadata": {
        "id": "kXekt2AWCXSf",
        "colab_type": "code",
        "colab": {}
      },
      "source": [
        "class TreeCell(Agent):\n",
        "    '''\n",
        "    A tree cell.\n",
        "    \n",
        "    Attributes:\n",
        "        x, y: Grid coordinates\n",
        "        condition: Can be \"Fine\", \"On Fire\", or \"Burned Out\"\n",
        "        unique_id: (x,y) tuple. \n",
        "    \n",
        "    unique_id isn't strictly necessary here, but it's good practice to give one to each\n",
        "    agent anyway.\n",
        "    '''\n",
        "    def __init__(self, model, pos):\n",
        "        '''\n",
        "        Create a new tree.\n",
        "        Args:\n",
        "            pos: The tree's coordinates on the grid. Used as the unique_id\n",
        "        '''\n",
        "        super().__init__(pos, model)\n",
        "        self.pos = pos\n",
        "        self.unique_id = pos\n",
        "        self.condition = \"Fine\"\n",
        "        \n",
        "    def step(self):\n",
        "        '''\n",
        "        If the tree is on fire, spread it to fine trees nearby.\n",
        "        '''\n",
        "        if self.condition == \"On Fire\":\n",
        "            neighbors = self.model.grid.get_neighbors(self.pos, moore=False)\n",
        "            for neighbor in neighbors:\n",
        "                if neighbor.condition == \"Fine\":\n",
        "                    neighbor.condition = \"On Fire\"\n",
        "            self.condition = \"Burned Out\""
      ],
      "execution_count": 0,
      "outputs": []
    },
    {
      "cell_type": "markdown",
      "metadata": {
        "id": "CdXVa5S_CXSj",
        "colab_type": "text"
      },
      "source": [
        "Now we need to define the model object itself. The main thing the model needs is the grid, which the trees are placed on. But since the model is dynamic, it also needs to include time -- it needs a schedule, to manage the trees activation as they spread the fire from one to the other.\n",
        "\n",
        "The model also needs a few parameters: how large the grid is and what the density of trees on it will be. Density will be the key parameter we'll explore below.\n",
        "\n",
        "Finally, we'll give the model a data collector. This is a Mesa object which collects and stores data on the model as it runs for later analysis.\n",
        "\n",
        "The constructor needs to do a few things. It instantiates all the model-level variables and objects; it randomly places trees on the grid, based on the density parameter; and it starts the fire by setting all the trees on one edge of the grid (x=0) as being On \"Fire\".\n",
        "\n",
        "Next, the model needs a **step** method. Like at the agent level, this method defines what happens every step of the model. We want to activate all the trees, one at a time; then we run the data collector, to count how many trees are currently on fire, burned out, or still fine. If there are no trees left on fire, we stop the model by setting its **running** property to False."
      ]
    },
    {
      "cell_type": "code",
      "metadata": {
        "id": "JPH5oDf7CXSk",
        "colab_type": "code",
        "colab": {}
      },
      "source": [
        "class ForestFire(Model):\n",
        "    '''\n",
        "    Simple Forest Fire model.\n",
        "    '''\n",
        "    def __init__(self, height, width, density):\n",
        "        '''\n",
        "        Create a new forest fire model.\n",
        "        \n",
        "        Args:\n",
        "            height, width: The size of the grid to model\n",
        "            density: What fraction of grid cells have a tree in them.\n",
        "        '''\n",
        "        # Initialize model parameters\n",
        "        self.height = height\n",
        "        self.width = width\n",
        "        self.density = density\n",
        "        \n",
        "        # Set up model objects\n",
        "        self.schedule = RandomActivation(self)\n",
        "        self.grid = Grid(height, width, torus=False)\n",
        "        self.dc = DataCollector({\"Fine\": lambda m: self.count_type(m, \"Fine\"),\n",
        "                                \"On Fire\": lambda m: self.count_type(m, \"On Fire\"),\n",
        "                                \"Burned Out\": lambda m: self.count_type(m, \"Burned Out\")})\n",
        "        \n",
        "        # Place a tree in each cell with Prob = density\n",
        "        for x in range(self.width):\n",
        "            for y in range(self.height):\n",
        "                if self.random.random() < self.density:\n",
        "                    # Create a tree\n",
        "                    new_tree = TreeCell(self, (x, y))\n",
        "                    # Set all trees in the first column on fire.\n",
        "                    if x == 0:\n",
        "                        new_tree.condition = \"On Fire\"\n",
        "                    self.grid[y][x] = new_tree\n",
        "                    self.schedule.add(new_tree)\n",
        "        self.running = True\n",
        "        \n",
        "    def step(self):\n",
        "        '''\n",
        "        Advance the model by one step.\n",
        "        '''\n",
        "        self.schedule.step()\n",
        "        self.dc.collect(self)\n",
        "        # Halt if no more fire\n",
        "        if self.count_type(self, \"On Fire\") == 0:\n",
        "            self.running = False\n",
        "\n",
        "    @staticmethod\n",
        "    def count_type(model, tree_condition):\n",
        "        '''\n",
        "        Helper method to count trees in a given condition in a given model.\n",
        "        '''\n",
        "        count = 0\n",
        "        for tree in model.schedule.agents:\n",
        "            if tree.condition == tree_condition:\n",
        "                count += 1\n",
        "        return count\n"
      ],
      "execution_count": 0,
      "outputs": []
    },
    {
      "cell_type": "markdown",
      "metadata": {
        "id": "ANokuPR2CXSn",
        "colab_type": "text"
      },
      "source": [
        "## Running the model\n",
        "\n",
        "Let's create a model with a 100 x 100 grid, and a tree density of 0.6. Remember, ForestFire takes the arguments *height*, *width*, *density*."
      ]
    },
    {
      "cell_type": "code",
      "metadata": {
        "id": "SIqIS-StCXSo",
        "colab_type": "code",
        "colab": {}
      },
      "source": [
        "fire = ForestFire(100, 100, 0.6)"
      ],
      "execution_count": 0,
      "outputs": []
    },
    {
      "cell_type": "markdown",
      "metadata": {
        "id": "UmOeWVvYCXSr",
        "colab_type": "text"
      },
      "source": [
        "To run the model until it's done (that is, until it sets its **running** property to False) just use the **run_model()** method. This is implemented in the Model parent object, so we didn't need to implement it above."
      ]
    },
    {
      "cell_type": "code",
      "metadata": {
        "id": "DXku5ZAcCXSs",
        "colab_type": "code",
        "colab": {
          "base_uri": "https://localhost:8080/",
          "height": 1000
        },
        "outputId": "2e31d322-1921-4174-ab93-9bdf5318c991"
      },
      "source": [
        "fire.run_model()\n",
        "\n",
        "allsteps = []\n",
        "timesteps = 10\n",
        "model = ForestFire(10,10,0.8)\n",
        "for t in range(timesteps):\n",
        "    # Run the model\n",
        "    model.step()\n",
        "    # Store the results\n",
        "    for agent in model.schedule.agents:\n",
        "        allsteps.append((t, agent.pos, agent.condition))\n",
        "\n",
        "df = pd.DataFrame(allsteps, columns = ['t', 'pos', 'state'])\n",
        "\n",
        "# populate a grid with agents for visualisation\n",
        "# values:\n",
        "#   0: empty cell\n",
        "#   1: healthy tree\n",
        "#   2: fire\n",
        "#   3: burned tree\n",
        "\n",
        "filelist = [] # store list of file names of grid maps\n",
        "\n",
        "for t in range(timesteps):\n",
        "    cells = np.zeros((model.grid.width, model.grid.height))\n",
        "    this_agent_team = df.loc[df['t'] == t]\n",
        "    n_agents = this_agent_team.shape[0]\n",
        "    for this_agent in range(this_agent_team.shape[0]):\n",
        "        y = this_agent_team.loc[t * n_agents + this_agent]['pos'][0]\n",
        "        x = this_agent_team.loc[t * n_agents + this_agent]['pos'][1]\n",
        "        this_agent_state = this_agent_team.loc[t * n_agents + this_agent]['state']\n",
        "        if this_agent_state == 'Fine':\n",
        "            cell = 1\n",
        "        if this_agent_state == 'On Fire':\n",
        "            cell = 2\n",
        "        if this_agent_state == 'Burned Out':\n",
        "            cell = 3\n",
        "        cells[y,x] = cell\n",
        "    \n",
        "    print(cells.sum())\n",
        "\n",
        "    # ------- begin plotting ---------------------\n",
        "\n",
        "    # make a custom colour map, see https://www.rapidtables.com/web/color/RGB_Color.html\n",
        "    n = 4 # number of discrete values or possible states of the cells\n",
        "\n",
        "    # create n+1 boundaries to have n colour bar intervals\n",
        "    boundaries = np.arange(-0.5, n+1.5, 1.)\n",
        "\n",
        "    # create list of n+1 colours from colormap\n",
        "    cmap_reds = plt.cm.get_cmap('Reds', len(boundaries))\n",
        "    colours = list(cmap_reds(np.arange(len(boundaries))))\n",
        "\n",
        "    # replace colours with our own colour scheme\n",
        "    colours[0] = \"white\"\n",
        "    colours[1] = \"green\"\n",
        "    colours[2] = \"red\"\n",
        "    colours[3] = \"black\"\n",
        "\n",
        "    mycmp = matplotlib.colors.ListedColormap(colours[:-1], \"\")\n",
        "    mycmp.set_over(colours[-1]) # set over-colour to last colour of list \n",
        "\n",
        "    fig = plt.figure() # create a figure\n",
        "    ax = plt.subplot(111) # add an axis object\n",
        "\n",
        "    # Shrink current axis by 20% to make room for the legend\n",
        "    box = ax.get_position()\n",
        "    ax.set_position([box.x0, box.y0, box.width * 0.8, box.height])\n",
        "\n",
        "    # Put a legend to the right of the current axis\n",
        "    legend_elements = [Patch(facecolor=colours[0], edgecolor=colours[0], label='Empty'),\n",
        "                      Patch(facecolor=colours[1], edgecolor=colours[1], label='Healthy tree'),\n",
        "                      Patch(facecolor=colours[2], edgecolor=colours[2], label='On Fire'),\n",
        "                      Patch(facecolor=colours[3], edgecolor=colours[3], label='Burned')\n",
        "                      ]\n",
        "    ax.legend(handles=legend_elements, loc='center left', bbox_to_anchor=(1, 0.5))\n",
        "    \n",
        "    # add a figure title\n",
        "    fig.suptitle('t='+str(t))\n",
        "    \n",
        "    # show the plot on screen\n",
        "    cm = plt.imshow(cells, cmap=mycmp,\n",
        "        norm = matplotlib.colors.BoundaryNorm(boundaries, ncolors=len(boundaries)-1, clip=False)\n",
        "    )\n",
        "    plt.show()\n",
        "\n",
        "    # save the plot\n",
        "    filename = \"firemodel_\" + str(t) + \".png\"\n",
        "    plt.savefig(filename)\n",
        "    filelist.append(filename)\n",
        "\n",
        "    # ------- end of plotting ---------------------\n",
        "\n",
        "imagestack = []\n",
        "for filename in filelist:\n",
        "    imagestack.append(imageio.imread(filename))\n",
        "kargs = { 'duration': 0.5 }\n",
        "imageio.mimsave('abm_movie.gif', imagestack, loop=0, **kargs)\n",
        "print('Created file: abm_movie.gif')\n"
      ],
      "execution_count": 44,
      "outputs": [
        {
          "output_type": "stream",
          "text": [
            "128.0\n"
          ],
          "name": "stdout"
        },
        {
          "output_type": "display_data",
          "data": {
            "image/png": "[encoded data removed]",
            "text/plain": [
              "<Figure size 432x288 with 1 Axes>"
            ]
          },
          "metadata": {
            "tags": []
          }
        },
        {
          "output_type": "stream",
          "text": [
            "158.0\n"
          ],
          "name": "stdout"
        },
        {
          "output_type": "display_data",
          "data": {
            "text/plain": [
              "<Figure size 432x288 with 0 Axes>"
            ]
          },
          "metadata": {
            "tags": []
          }
        },
        {
          "output_type": "display_data",
          "data": {
            "image/png": "[encoded data removed]",
            "text/plain": [
              "<Figure size 432x288 with 1 Axes>"
            ]
          },
          "metadata": {
            "tags": []
          }
        },
        {
          "output_type": "stream",
          "text": [
            "186.0\n"
          ],
          "name": "stdout"
        },
        {
          "output_type": "display_data",
          "data": {
            "text/plain": [
              "<Figure size 432x288 with 0 Axes>"
            ]
          },
          "metadata": {
            "tags": []
          }
        },
        {
          "output_type": "display_data",
          "data": {
            "image/png": "[encoded data removed]",
            "text/plain": [
              "<Figure size 432x288 with 1 Axes>"
            ]
          },
          "metadata": {
            "tags": []
          }
        },
        {
          "output_type": "stream",
          "text": [
            "209.0\n"
          ],
          "name": "stdout"
        },
        {
          "output_type": "display_data",
          "data": {
            "text/plain": [
              "<Figure size 432x288 with 0 Axes>"
            ]
          },
          "metadata": {
            "tags": []
          }
        },
        {
          "output_type": "display_data",
          "data": {
            "image/png": "[encoded data removed]",
            "text/plain": [
              "<Figure size 432x288 with 1 Axes>"
            ]
          },
          "metadata": {
            "tags": []
          }
        },
        {
          "output_type": "stream",
          "text": [
            "235.0\n"
          ],
          "name": "stdout"
        },
        {
          "output_type": "display_data",
          "data": {
            "text/plain": [
              "<Figure size 432x288 with 0 Axes>"
            ]
          },
          "metadata": {
            "tags": []
          }
        },
        {
          "output_type": "display_data",
          "data": {
            "image/png": "[encoded data removed]",
            "text/plain": [
              "<Figure size 432x288 with 1 Axes>"
            ]
          },
          "metadata": {
            "tags": []
          }
        },
        {
          "output_type": "stream",
          "text": [
            "247.0\n"
          ],
          "name": "stdout"
        },
        {
          "output_type": "display_data",
          "data": {
            "text/plain": [
              "<Figure size 432x288 with 0 Axes>"
            ]
          },
          "metadata": {
            "tags": []
          }
        },
        {
          "output_type": "display_data",
          "data": {
            "image/png": "[encoded data removed]",
            "text/plain": [
              "<Figure size 432x288 with 1 Axes>"
            ]
          },
          "metadata": {
            "tags": []
          }
        },
        {
          "output_type": "stream",
          "text": [
            "249.0\n"
          ],
          "name": "stdout"
        },
        {
          "output_type": "display_data",
          "data": {
            "text/plain": [
              "<Figure size 432x288 with 0 Axes>"
            ]
          },
          "metadata": {
            "tags": []
          }
        },
        {
          "output_type": "display_data",
          "data": {
            "image/png": "[encoded data removed]",
            "text/plain": [
              "<Figure size 432x288 with 1 Axes>"
            ]
          },
          "metadata": {
            "tags": []
          }
        },
        {
          "output_type": "stream",
          "text": [
            "249.0\n"
          ],
          "name": "stdout"
        },
        {
          "output_type": "display_data",
          "data": {
            "text/plain": [
              "<Figure size 432x288 with 0 Axes>"
            ]
          },
          "metadata": {
            "tags": []
          }
        },
        {
          "output_type": "display_data",
          "data": {
            "image/png": "[encoded data removed]",
            "text/plain": [
              "<Figure size 432x288 with 1 Axes>"
            ]
          },
          "metadata": {
            "tags": []
          }
        },
        {
          "output_type": "stream",
          "text": [
            "249.0\n"
          ],
          "name": "stdout"
        },
        {
          "output_type": "display_data",
          "data": {
            "text/plain": [
              "<Figure size 432x288 with 0 Axes>"
            ]
          },
          "metadata": {
            "tags": []
          }
        },
        {
          "output_type": "display_data",
          "data": {
            "image/png": "[encoded data removed]",
            "text/plain": [
              "<Figure size 432x288 with 1 Axes>"
            ]
          },
          "metadata": {
            "tags": []
          }
        },
        {
          "output_type": "stream",
          "text": [
            "249.0\n"
          ],
          "name": "stdout"
        },
        {
          "output_type": "display_data",
          "data": {
            "text/plain": [
              "<Figure size 432x288 with 0 Axes>"
            ]
          },
          "metadata": {
            "tags": []
          }
        },
        {
          "output_type": "display_data",
          "data": {
            "image/png": "[encoded data removed]",
            "text/plain": [
              "<Figure size 432x288 with 1 Axes>"
            ]
          },
          "metadata": {
            "tags": []
          }
        },
        {
          "output_type": "stream",
          "text": [
            "['firemodel_0.png', 'firemodel_1.png', 'firemodel_2.png', 'firemodel_3.png', 'firemodel_4.png', 'firemodel_5.png', 'firemodel_6.png', 'firemodel_7.png', 'firemodel_8.png', 'firemodel_9.png']\n",
            "Created file: abm_movie.gif\n"
          ],
          "name": "stdout"
        },
        {
          "output_type": "display_data",
          "data": {
            "text/plain": [
              "<Figure size 432x288 with 0 Axes>"
            ]
          },
          "metadata": {
            "tags": []
          }
        }
      ]
    },
    {
      "cell_type": "markdown",
      "metadata": {
        "id": "fQVq3LK5CXSv",
        "colab_type": "text"
      },
      "source": [
        "That's all there is to it!\n",
        "\n",
        "But... so what? This code doesn't include a visualization, after all. \n",
        "\n",
        "Remember the data collector? Now we can put the data it collected into a pandas DataFrame:"
      ]
    },
    {
      "cell_type": "code",
      "metadata": {
        "id": "vvIdaJSbCXSw",
        "colab_type": "code",
        "colab": {}
      },
      "source": [
        "results = fire.dc.get_model_vars_dataframe()\n",
        "print(results)"
      ],
      "execution_count": 0,
      "outputs": []
    },
    {
      "cell_type": "markdown",
      "metadata": {
        "id": "ke-iefyOCXS0",
        "colab_type": "text"
      },
      "source": [
        "And chart it, to see the dynamics."
      ]
    },
    {
      "cell_type": "code",
      "metadata": {
        "id": "aD4gIfRYCXS1",
        "colab_type": "code",
        "colab": {}
      },
      "source": [
        "results.plot()"
      ],
      "execution_count": 0,
      "outputs": []
    },
    {
      "cell_type": "markdown",
      "metadata": {
        "id": "7e9FG1yXCXS5",
        "colab_type": "text"
      },
      "source": [
        "In this case, the fire burned itself out after about 90 steps, with many trees left unburned. \n",
        "\n",
        "You can try changing the density parameter and rerunning the code above, to see how different densities yield different dynamics. For example:"
      ]
    },
    {
      "cell_type": "code",
      "metadata": {
        "id": "cSg_vfHvCXS5",
        "colab_type": "code",
        "colab": {}
      },
      "source": [
        "fire = ForestFire(100, 100, 0.8)\n",
        "fire.run_model()\n",
        "results = fire.dc.get_model_vars_dataframe()\n",
        "results.plot()"
      ],
      "execution_count": 0,
      "outputs": []
    },
    {
      "cell_type": "markdown",
      "metadata": {
        "id": "qQYDBWs2CXS9",
        "colab_type": "text"
      },
      "source": [
        "... But to really understand how the final outcome varies with density, we can't just tweak the parameter by hand over and over again. We need to do a batch run. \n",
        "\n",
        "## Batch runs\n",
        "\n",
        "Batch runs, also called parameter sweeps, allow use to systemically vary the density parameter, run the model, and check the output. Mesa provides a BatchRunner object which takes a model class, a dictionary of parameters and the range of values they can take and runs the model at each combination of these values. We can also give it reporters, which collect some data on the model at the end of each run and store it, associated with the parameters that produced it.\n",
        "\n",
        "For ease of typing and reading, we'll first create the parameters to vary and the reporter, and then assign them to a new BatchRunner."
      ]
    },
    {
      "cell_type": "code",
      "metadata": {
        "id": "29DjA7ZPCXS-",
        "colab_type": "code",
        "colab": {}
      },
      "source": [
        "fixed_params = dict(height=50, # Height and width are constant\n",
        "                 width=50)\n",
        "# Vary density from 0.01 to 1, in 0.01 increments:\n",
        "variable_params = dict(density=np.linspace(0,1,101)[1:])"
      ],
      "execution_count": 0,
      "outputs": []
    },
    {
      "cell_type": "code",
      "metadata": {
        "id": "oDpSpTxLCXTC",
        "colab_type": "code",
        "colab": {}
      },
      "source": [
        "# At the end of each model run, calculate the fraction of trees which are Burned Out\n",
        "model_reporter = {\"BurnedOut\": lambda m: (ForestFire.count_type(m, \"Burned Out\") / \n",
        "                                          m.schedule.get_agent_count()) }"
      ],
      "execution_count": 0,
      "outputs": []
    },
    {
      "cell_type": "code",
      "metadata": {
        "id": "C4XbteZ-CXTH",
        "colab_type": "code",
        "colab": {}
      },
      "source": [
        "# Create the batch runner\n",
        "param_run = BatchRunner(ForestFire, variable_parameters=variable_params, \n",
        "                        fixed_parameters=fixed_params, model_reporters=model_reporter)"
      ],
      "execution_count": 0,
      "outputs": []
    },
    {
      "cell_type": "markdown",
      "metadata": {
        "id": "LiK-Y05hCXTK",
        "colab_type": "text"
      },
      "source": [
        "Now the BatchRunner, which we've named param_run, is ready to go. To run the model at every combination of parameters (in this case, every density value), just use the **run_all()** method."
      ]
    },
    {
      "cell_type": "code",
      "metadata": {
        "id": "OepuTJuYCXTL",
        "colab_type": "code",
        "colab": {}
      },
      "source": [
        "param_run.run_all()"
      ],
      "execution_count": 0,
      "outputs": []
    },
    {
      "cell_type": "markdown",
      "metadata": {
        "id": "cCUreMjKCXTO",
        "colab_type": "text"
      },
      "source": [
        "Like with the data collector, we can extract the data the batch runner collected into a dataframe:"
      ]
    },
    {
      "cell_type": "code",
      "metadata": {
        "id": "dtYt7fsqCXTO",
        "colab_type": "code",
        "colab": {}
      },
      "source": [
        "df = param_run.get_model_vars_dataframe()"
      ],
      "execution_count": 0,
      "outputs": []
    },
    {
      "cell_type": "code",
      "metadata": {
        "id": "poUmpWTWCXTR",
        "colab_type": "code",
        "colab": {}
      },
      "source": [
        "df.head()"
      ],
      "execution_count": 0,
      "outputs": []
    },
    {
      "cell_type": "markdown",
      "metadata": {
        "id": "Sk72QSJ8CXTU",
        "colab_type": "text"
      },
      "source": [
        "As you can see, each row here is a run of the model, identified by its parameter values (and given a unique index by the Run column). To view how the BurnedOut fraction varies with density, we can easily just plot them:"
      ]
    },
    {
      "cell_type": "code",
      "metadata": {
        "id": "dve7q-r-CXTV",
        "colab_type": "code",
        "colab": {}
      },
      "source": [
        "plt.scatter(df.density, df.BurnedOut)\n",
        "plt.xlim(0,1)"
      ],
      "execution_count": 0,
      "outputs": []
    },
    {
      "cell_type": "markdown",
      "metadata": {
        "id": "TKT8Z6SDCXTY",
        "colab_type": "text"
      },
      "source": [
        "And we see the very clear emergence of a critical value around 0.5, where the model quickly shifts from almost no trees being burned, to almost all of them.\n",
        "\n",
        "In this case we ran the model only once at each value. However, it's easy to have the BatchRunner execute multiple runs at each parameter combination, in order to generate more statistically reliable results. We do this using the *iteration* argument.\n",
        "\n",
        "Let's run the model 5 times at each parameter point, and export and plot the results as above."
      ]
    },
    {
      "cell_type": "code",
      "metadata": {
        "id": "TW6mRCjZCXTZ",
        "colab_type": "code",
        "colab": {}
      },
      "source": [
        "param_run = BatchRunner(ForestFire, variable_params, fixed_params, \n",
        "                        iterations=5, model_reporters=model_reporter)\n",
        "param_run.run_all()\n",
        "df = param_run.get_model_vars_dataframe()\n",
        "plt.scatter(df.density, df.BurnedOut)\n",
        "plt.xlim(0,1)"
      ],
      "execution_count": 0,
      "outputs": []
    },
    {
      "cell_type": "code",
      "metadata": {
        "id": "CTNzSSbgES2H",
        "colab_type": "code",
        "colab": {}
      },
      "source": [
        ""
      ],
      "execution_count": 0,
      "outputs": []
    }
  ]
}