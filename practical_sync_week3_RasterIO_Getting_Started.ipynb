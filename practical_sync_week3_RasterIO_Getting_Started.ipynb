{
  "nbformat": 4,
  "nbformat_minor": 0,
  "metadata": {
    "kernelspec": {
      "display_name": "Python 3",
      "language": "python",
      "name": "python3"
    },
    "language_info": {
      "codemirror_mode": {
        "name": "ipython",
        "version": 3
      },
      "file_extension": ".py",
      "mimetype": "text/x-python",
      "name": "python",
      "nbconvert_exporter": "python",
      "pygments_lexer": "ipython3",
      "version": "3.7.6"
    },
    "latex_envs": {
      "LaTeX_envs_menu_present": true,
      "autoclose": false,
      "autocomplete": true,
      "bibliofile": "biblio.bib",
      "cite_by": "apalike",
      "current_citInitial": 1,
      "eqLabelWithNumbers": true,
      "eqNumInitial": 1,
      "hotkeys": {
        "equation": "Ctrl-E",
        "itemize": "Ctrl-I"
      },
      "labels_anchors": false,
      "latex_user_defs": false,
      "report_style_numbering": false,
      "user_envs_cfg": false
    },
    "varInspector": {
      "cols": {
        "lenName": 16,
        "lenType": 16,
        "lenVar": 40
      },
      "kernels_config": {
        "python": {
          "delete_cmd_postfix": "",
          "delete_cmd_prefix": "del ",
          "library": "var_list.py",
          "varRefreshCmd": "print(var_dic_list())"
        },
        "r": {
          "delete_cmd_postfix": ") ",
          "delete_cmd_prefix": "rm(",
          "library": "var_list.r",
          "varRefreshCmd": "cat(var_dic_list()) "
        }
      },
      "types_to_exclude": [
        "module",
        "function",
        "builtin_function_or_method",
        "instance",
        "_Feature"
      ],
      "window_display": false
    },
    "colab": {
      "name": "practical_sync_week3_RasterIO_Getting_Started.ipynb",
      "provenance": [],
      "collapsed_sections": [],
      "toc_visible": true
    }
  },
  "cells": [
    {
      "cell_type": "markdown",
      "metadata": {
        "id": "-YEob5HDStzx"
      },
      "source": [
        "# Week 3: Getting started with raster data processing with GDAL and RasterIO\n",
        "\n",
        "Individual learning outcomes: After this week, all students should be able to access raster dataset attributes and georeferencing, and be able to read in an image, access its metadata and use basic functionality of the GDAL and RasterIO libraries. \n",
        "\n",
        "All students should also be able to  login to the Copernicus Data Hub, search manually for Sentinel-2 images and download images."
      ]
    },
    {
      "cell_type": "markdown",
      "metadata": {
        "id": "___N_2vyp_f2"
      },
      "source": [
        "First, we need to connect to our Google Drive from Colab."
      ]
    },
    {
      "cell_type": "code",
      "metadata": {
        "scrolled": true,
        "id": "RvpK17wXp_f7"
      },
      "source": [
        "# Load the Drive helper and mount your Google Drive as a drive in the virtual machine\n",
        "from google.colab import drive\n",
        "drive.mount('/content/drive')"
      ],
      "execution_count": null,
      "outputs": []
    },
    {
      "cell_type": "markdown",
      "metadata": {
        "id": "lxAdkqX7_ZZw"
      },
      "source": [
        "Now let us import all necessary libraries.\n",
        "We may need to install the RasterIO library before we can import it, as it is not part of Colab's default libraries. We can do this with the !pip install command."
      ]
    },
    {
      "cell_type": "code",
      "metadata": {
        "id": "HXnzg_pcTSEP"
      },
      "source": [
        "# Adapted from https://www.hatarilabs.com/ih-en/sentinel2-images-explotarion-and-processing-with-python-and-rasterio\n",
        "\n",
        "#import required libraries\n",
        "!pip install rasterio\n",
        "import rasterio\n",
        "from rasterio import plot\n",
        "from rasterio.plot import show_hist\n",
        "import matplotlib.pyplot as plt\n",
        "import numpy as np\n",
        "%matplotlib inline"
      ],
      "execution_count": null,
      "outputs": []
    },
    {
      "cell_type": "markdown",
      "metadata": {
        "id": "qw0EK7xK_22r"
      },
      "source": [
        "Make sure before running the next cell, you have uploaded the Sentinel-2 image to your Google Drive. Check in the directory structure on the left hand side of Colab whether it is there. You may need to adapt the file path and file names if you are using a different Sentinel-2 image."
      ]
    },
    {
      "cell_type": "code",
      "metadata": {
        "id": "kIdnHVRZYf9W"
      },
      "source": [
        "#open bands as separate single-band raster\n",
        "imagePath = '/content/drive/My Drive/practicals20-21/S2A_MSIL2A_20180507T110621_N0207_R137_T30UXD_20180507T131836.SAFE/GRANULE/L2A_T30UXD_A015006_20180507T110835/IMG_DATA/R10m/'\n",
        "band2 = rasterio.open(imagePath+'T30UXD_20180507T110621_B02_10m.jp2', driver='JP2OpenJPEG') #blue\n",
        "band3 = rasterio.open(imagePath+'T30UXD_20180507T110621_B03_10m.jp2', driver='JP2OpenJPEG') #green\n",
        "band4 = rasterio.open(imagePath+'T30UXD_20180507T110621_B04_10m.jp2', driver='JP2OpenJPEG') #red\n",
        "band8 = rasterio.open(imagePath+'T30UXD_20180507T110621_B08_10m.jp2', driver='JP2OpenJPEG') #nir"
      ],
      "execution_count": null,
      "outputs": []
    },
    {
      "cell_type": "markdown",
      "metadata": {
        "id": "4HzfTZlKAMyT"
      },
      "source": [
        "Let's look at some metadata of the raster files we have just opened.\n",
        "\n",
        "# The Coordinate Reference System\n",
        "A raster datasets has a Coordinate Reference System (crs) that can be opened as an OpenGIS 'Well Known Text' (wkt) string. This can contain an overall coordinate system name, a geographic coordinate system name, a datum identifier, an ellipsoid name of the model that represents the shape of the Earth, the semi-major axis of the ellipsoid, and inverse flattening information, a prime meridian name and offset from Greenwich, a projection method type (i.e. Transverse Mercator), a list of projection parameters (i.e. central_meridian), the units of the map projection, and a conversion factor to metres or radians.\n",
        "\n",
        "# The GeoTransform\n",
        "GDAL raster datasets usually describe the relationship between raster positions in pixel/line coordinates and georeferenced map coordinates through the 'affine transform'. It consists of six coefficients which map pixel/line coordinates into georeferenced map positions using the following relationships:\n",
        "\n",
        "\n",
        "Xgeo = GT(0) + Xpixel*GT(1) + Yline*GT(2)\n",
        "\n",
        "Ygeo = GT(3) + Xpixel*GT(4) + Yline*GT(5)\n",
        "\n",
        "\n",
        "In case of north-up images, the GT(2) and GT(4) coefficients are zero, and the GT(1) is pixel width, and GT(5) is pixel height. The (GT(0),GT(3)) position is the top left corner of the top left pixel of the raster.\n",
        "\n",
        "Note that the pixel/line coordinates in the above are from (0.0,0.0) at the top left corner of the top left pixel to (width_in_pixels,height_in_pixels) at the bottom right corner of the bottom right pixel. The pixel/line location of the center of the top left pixel would therefore be (0.5,0.5).\n",
        "\n",
        "Source: https://gdal.org/user/raster_data_model.html"
      ]
    },
    {
      "cell_type": "code",
      "metadata": {
        "id": "u_zbjR0vYjN-"
      },
      "source": [
        "# print some metadata of the band 4 raster image file we have just opened\n",
        "\n",
        "print(\"number of raster bands:\", band4.count)\n",
        "\n",
        "print(\"number of raster columns:\", band4.width)\n",
        "\n",
        "print(\"number of raster rows:\", band4.height)\n",
        "\n",
        "print(\"type of raster byte:\", band4.dtypes[0])\n",
        "\n",
        "print(\"raster sytem of reference:\", band4.crs)\n",
        "\n",
        "print(\"raster geotransform parameters:\", band4.transform)\n",
        "\n",
        "print(\"raster values as matrix array:\")\n",
        "b4=band4.read(1)\n",
        "print(b4)"
      ],
      "execution_count": null,
      "outputs": []
    },
    {
      "cell_type": "markdown",
      "metadata": {
        "id": "xrax9R_AfegR"
      },
      "source": [
        "Here is some further reading on coordinate reference systems, the geotransform and what it all means.\n",
        "\n",
        "https://gdal.org/user/raster_data_model.html\n",
        "\n"
      ]
    },
    {
      "cell_type": "markdown",
      "metadata": {
        "id": "CfD5Oe8PASlx"
      },
      "source": [
        "We can now look at the histogram of the pixel values of Band 4, say."
      ]
    },
    {
      "cell_type": "code",
      "metadata": {
        "id": "kNK7Pf221-ZR"
      },
      "source": [
        "#plot histogram of band pixel values using RasterIO\n",
        "show_hist(band4, bins=50, stacked=False, alpha=0.3, histtype='stepfilled', \n",
        "          title=\"Histogram of Band 4\")"
      ],
      "execution_count": null,
      "outputs": []
    },
    {
      "cell_type": "markdown",
      "metadata": {
        "id": "PU1o_Xo4Ah1w"
      },
      "source": [
        "Now, let us plot a greyscale image of Band 4 on the screen."
      ]
    },
    {
      "cell_type": "code",
      "metadata": {
        "id": "zMz4LYYtAgsw"
      },
      "source": [
        "#plot band using RasterIO - Remember we did: from rasterio import plot\n",
        "plot.show(band4, cmap='gray')"
      ],
      "execution_count": null,
      "outputs": []
    },
    {
      "cell_type": "markdown",
      "metadata": {
        "id": "XFizYhi0ArVG"
      },
      "source": [
        "In case the contrast of the image is not very good, we can apply a stretching enhancement. This allows us to select the minimum and maximum values that are going to be shown as the darkest and brightest grey tones. We can try three different thresholds, taken from the histogram of the Band 4 above."
      ]
    },
    {
      "cell_type": "code",
      "metadata": {
        "id": "IKM-KlvkAqIG"
      },
      "source": [
        "#plot the same image with different image enhancements (band stretching)\n",
        "#plot images of multiple bands as separate subplots within the same figure\n",
        "fig, (ax1, ax2, ax3) = plt.subplots(1, 3, figsize=(12, 4))\n",
        "fig.patch.set_facecolor('white') # set a white background\n",
        "plot.show(band4, ax=ax1, vmin=0, vmax=1500, cmap='gray', title=\"0-1500\")\n",
        "plot.show(band4, ax=ax2, vmin=0, vmax=2500, cmap='gray', title=\"0-2500\")\n",
        "plot.show(band4, ax=ax3, vmin=0, vmax=3500, cmap='gray', title=\"0-3500\")\n",
        "fig.tight_layout()"
      ],
      "execution_count": null,
      "outputs": []
    },
    {
      "cell_type": "markdown",
      "metadata": {
        "id": "QWm_Dtjq039g"
      },
      "source": [
        "With the index function in RasterIO, we can easily find the row and column coordinate of a pixel if we know its geolocation in map coordinates. Say we want to know the pixel value that is 100km from the left side of the image and 50km from the top."
      ]
    },
    {
      "cell_type": "code",
      "metadata": {
        "id": "3UzeN9-S02hb"
      },
      "source": [
        "x, y = (band4.bounds.left + 100000, band4.bounds.top - 50000)\n",
        "row, col = band4.index(x, y)\n",
        "print(row, col)\n",
        "print(b4[row, col])"
      ],
      "execution_count": null,
      "outputs": []
    },
    {
      "cell_type": "markdown",
      "metadata": {
        "id": "1WZ-0azgBD-a"
      },
      "source": [
        "So far, we have only looked at a single band - Band 4. We can also plot several different bands in different colours. Let's do that with the Blue, Green and Red reflectance bands, which are bands 2, 3 and 4."
      ]
    },
    {
      "cell_type": "code",
      "metadata": {
        "id": "LHELcUl9-mSW"
      },
      "source": [
        "#plot images of multiple bands as separate subplots within the same figure\n",
        "fig, (ax1, ax2, ax3) = plt.subplots(1, 3, figsize=(12, 4))\n",
        "fig.patch.set_facecolor('white')\n",
        "plot.show(band2, ax=ax1, cmap='Blues')\n",
        "plot.show(band3, ax=ax2, cmap='Greens')\n",
        "plot.show(band4, ax=ax3, cmap='Reds')\n",
        "fig.tight_layout()"
      ],
      "execution_count": null,
      "outputs": []
    },
    {
      "cell_type": "markdown",
      "metadata": {
        "id": "sFks1_lv-wTx"
      },
      "source": [
        "The maps do not look very good, perhaps. They may appear almost white with little contrast. This is because the bands often have extremely high reflectance values.\n",
        "We can exclude these very high values from the colour stretching. To do this, let us cut off the 10% highest values of each band. The NumPy function percentile does that: We can calculate the 90% percentile. Above that value lie the 10% highest pixel values. Then we use that value in the colour stretching."
      ]
    },
    {
      "cell_type": "code",
      "metadata": {
        "id": "vaKu9qLlYn-V"
      },
      "source": [
        "# calculate the 98% percentiles of the bands for visualisation (histogram enhancement)\n",
        "v2=np.percentile(band2.read(1), 98)\n",
        "v3=np.percentile(band3.read(1), 98)\n",
        "v4=np.percentile(band4.read(1), 98)\n",
        "print(\"P98 of band 2 = \", v2)\n",
        "print(\"P98 of band 3 = \", v3)\n",
        "print(\"P98 of band 4 = \", v4)\n",
        "\n",
        "#plot images of multiple bands as separate subplots within the same figure\n",
        "fig, (ax1, ax2, ax3) = plt.subplots(1, 3, figsize=(12, 4))\n",
        "fig.patch.set_facecolor('white')\n",
        "plot.show(band2, ax=ax1, vmin=0, vmax=v2, cmap='Blues')\n",
        "plot.show(band3, ax=ax2, vmin=0, vmax=v3, cmap='Greens')\n",
        "plot.show(band4, ax=ax3, vmin=0, vmax=v4, cmap='Reds')\n",
        "fig.tight_layout()"
      ],
      "execution_count": null,
      "outputs": []
    },
    {
      "cell_type": "markdown",
      "metadata": {
        "id": "ycBUgD3p_TSm"
      },
      "source": [
        "Much better, isn't it?\n",
        "\n",
        "We can replace all the values above a threshold, e.g. the 98% percentile or an arbitrary value (here we set that to 2000), before we save the image as a true colour composite."
      ]
    },
    {
      "cell_type": "code",
      "metadata": {
        "id": "sLfOMn9_2qjK"
      },
      "source": [
        "# read in all the pixel values from the four bands into arrays\n",
        "b2=band2.read(1)\n",
        "b3=band3.read(1)\n",
        "#b4=band4.read(1) # we had already read the data from band 4 into the array b4\n",
        "b8=band8.read(1)\n",
        "\n",
        "# we also need to compute the 98% percentile for band 8\n",
        "v8=np.percentile(b8, 98)\n",
        "print(\"P98 of band 2 = \", v2)\n",
        "print(\"P98 of band 3 = \", v3)\n",
        "print(\"P98 of band 4 = \", v4)\n",
        "print(\"P98 of band 8 = \", v8)\n",
        "\n",
        "# Define a maximum pixel value to exclude extreme values\n",
        "# We use 2000 because ESA use this in their processing \n",
        "# https://sentinel.esa.int/web/sentinel/user-guides/sentinel-2-msi/definitions\n",
        "ceiling = 2000\n",
        "\n",
        "# find all pixel values above the 98% percentile and replace them with the value 2000\n",
        "b2[b2 > v2] = ceiling\n",
        "b3[b3 > v3] = ceiling\n",
        "b4[b4 > v4] = ceiling\n",
        "b8[b8 > v8] = ceiling"
      ],
      "execution_count": null,
      "outputs": []
    },
    {
      "cell_type": "markdown",
      "metadata": {
        "id": "Vw7xT6Mm2tCb"
      },
      "source": [
        "RasterIO allows us to save the three bands (which come as separate files in the Sentinel-2 data structure) in a single raster file. GeoTiff is a commonly used format that all GIS software packages can read in."
      ]
    },
    {
      "cell_type": "code",
      "metadata": {
        "id": "kXpCUwFJYqp9"
      },
      "source": [
        "#export a true colour composite image as a Geotiff file\n",
        "trueColour = rasterio.open('/content/drive/My Drive/practicals20-21/Sentinel-2_TrueColour.tiff',\n",
        "                          'w',driver='Gtiff', width=band4.width, height=band4.height,\n",
        "                          count=3, crs=band4.crs, transform=band4.transform, \n",
        "                          dtype=band4.dtypes[0])\n",
        "trueColour.write(b4, 1) #display Red reflectance as red colour on screen\n",
        "trueColour.write(b3, 2) #display Green reflectance as green colour on screen\n",
        "trueColour.write(b2, 3) #display Blue reflectance as blue colour on screen\n",
        "trueColour.close()"
      ],
      "execution_count": null,
      "outputs": []
    },
    {
      "cell_type": "markdown",
      "metadata": {
        "id": "taLYX3oaBtCM"
      },
      "source": [
        "Let's look at the result."
      ]
    },
    {
      "cell_type": "code",
      "metadata": {
        "id": "r3NjAmiHZs-e"
      },
      "source": [
        "imgfile = rasterio.open(r'/content/drive/My Drive/practicals20-21/Sentinel-2_TrueColour.tiff', count=3)\n",
        "plot.show(imgfile)\n",
        "\n",
        "# zoom in to an area of interest\n",
        "plt.xlim(640000,650000)\n",
        "plt.ylim(5840000,5850000)\n",
        "plot.show(imgfile)\n",
        "imgfile.close()"
      ],
      "execution_count": null,
      "outputs": []
    },
    {
      "cell_type": "markdown",
      "metadata": {
        "id": "zR05OKS9KrOV"
      },
      "source": [
        "While it is good to see that the image is represented visually, there is clearly a problem with the colour scheme. This a problem of the data format.\n",
        "\n",
        "The RasterIO plotting documentation does not give a very clear clue as to why that may be - https://rasterio.readthedocs.io/en/latest/topics/plotting.html\n",
        "\n",
        "We need to know that the RasterIO plot function uses Matplotlib - https://matplotlib.org/api/_as_gen/matplotlib.pyplot.imshow.html \n",
        "The critical sentence here is that the image passed to pyplot.imshow must be of the form:\n",
        "\"(M, N, 3): an image with RGB values (0-1 float or 0-255 int).\"\n",
        "However, our Sentinel-2 image is a different data type. We looked at this when we first opened the raster band:\n",
        "\"type of raster byte: uint16\"\n",
        "uint16 is an unsigned integer data format in which each pixel value is represented as an unsigned (i.e. positive) number with 16 bits (2 bytes) of information. Unsigned integers can represent values between 0 and 65535.\n",
        "https://numpy.org/doc/stable/user/basics.types.html\n",
        "Floating point numbers have 64 bits per value and can represent numbers with digits behind the comma. Unsigned integers from 0-255 are called np.uint8 in NumPy, as one number is represented by only 8 bit (1 byte). This is the data format that is most efficient in terms of memory usage and storage space, but it stores a lot less information compared to 16 bit or even 32 or 64 bit data types.\n",
        "\n",
        "Let's try to convert the uint16 data in our image into uint8 data type and rescale the values so that 0 represents the 2% percentile and 255 represents the 98% percentile of our image.\n"
      ]
    },
    {
      "cell_type": "code",
      "metadata": {
        "id": "zksirbjhKrdQ"
      },
      "source": [
        "# Convert uint16 to unit8 and rescale to 0-255\n",
        "\n",
        "# define a function that does it for us\n",
        "def convert_to_uint8(a): \n",
        "  amin = a.min()\n",
        "  amax = a.max()\n",
        "  anewmin = 0.0\n",
        "  anewmax = 255.0\n",
        "  ascaled = (a - amin) * ((anewmax - anewmin) / (amax - amin)) + anewmin\n",
        "  return(ascaled.astype(np.uint8))\n",
        "\n",
        "# call our function and apply it to band 2\n",
        "b2uint8 = convert_to_uint8(b2)\n",
        "\n",
        "# band 3, 4 and 8\n",
        "b3uint8 = convert_to_uint8(b3)\n",
        "b4uint8 = convert_to_uint8(b4)\n",
        "b8uint8 = convert_to_uint8(b8)\n",
        "\n",
        "# We will be working with the uint8 images from here on, so we can\n",
        "#   remove the arrays we do not use anymore from memory at this point.\n",
        "b2 = None\n",
        "b3 = None\n",
        "b4 = None\n",
        "b8 = None\n",
        "\n",
        "# save the uint8 image as a Geotiff file\n",
        "trueColour = rasterio.open('/content/drive/My Drive/practicals20-21/Sentinel-2_TrueColour_uint8.tiff',\n",
        "                          'w',driver='Gtiff', width=band4.width, height=band4.height,\n",
        "                          count=3, crs=band4.crs, transform=band4.transform, \n",
        "                          dtype=np.uint8)\n",
        "trueColour.write(b2uint8, 3) #display Red reflectance as red colour on screen\n",
        "trueColour.write(b3uint8, 2) #display Green reflectance as green colour on screen\n",
        "trueColour.write(b4uint8, 1) #display Blue reflectance as blue colour on screen\n",
        "trueColour.close()\n",
        "\n",
        "# try plotting the image again\n",
        "imgfile = rasterio.open(r'/content/drive/My Drive/practicals20-21/Sentinel-2_TrueColour_uint8.tiff', count=3)\n",
        "plot.show(imgfile)\n",
        "\n",
        "# zoom in to an area of interest\n",
        "plt.xlim(640000,650000)\n",
        "plt.ylim(5840000,5850000)\n",
        "plot.show(imgfile)\n",
        "\n",
        "imgfile.close()\n"
      ],
      "execution_count": null,
      "outputs": []
    },
    {
      "cell_type": "markdown",
      "metadata": {
        "id": "uM4zt8KuBxOm"
      },
      "source": [
        "Converting the pixel values to uint8 has fixed the problem.\n",
        "\n",
        "RasterIO lets you make a histogram of multiple bands, as well, which is quite neat:"
      ]
    },
    {
      "cell_type": "code",
      "metadata": {
        "id": "uADDO5_vYumd"
      },
      "source": [
        "#generate a histogram from multiple bands from the uint16 original image\n",
        "trueColour = rasterio.open('/content/drive/My Drive/practicals20-21/Sentinel-2_TrueColour.tiff')\n",
        "plot.show_hist(trueColour, bins=50, lw=0.0, stacked=False, alpha=0.3, \n",
        "               histtype='stepfilled', title=\"Histogram\")\n",
        "trueColour.close()"
      ],
      "execution_count": null,
      "outputs": []
    },
    {
      "cell_type": "code",
      "metadata": {
        "id": "wPp6LRCBfFsL"
      },
      "source": [
        "#and from the uint8 image\n",
        "trueColour = rasterio.open('/content/drive/My Drive/practicals20-21/Sentinel-2_TrueColour_uint8.tiff')\n",
        "plot.show_hist(trueColour, bins=50, lw=0.0, stacked=False, alpha=0.3, \n",
        "               histtype='stepfilled', title=\"Histogram\")\n",
        "trueColour.close()"
      ],
      "execution_count": null,
      "outputs": []
    },
    {
      "cell_type": "markdown",
      "metadata": {
        "id": "so1ijSaKBwTw"
      },
      "source": [
        "You can see the difference in the range of values on the x axis between the uint16 and uint8 number format.\n",
        "\n",
        "Another common way of visualising satellite images is as a False Colour Composite:"
      ]
    },
    {
      "cell_type": "code",
      "metadata": {
        "id": "qE0vvPsdYtBV"
      },
      "source": [
        "#export a false colour composite image\n",
        "falseColour = rasterio.open('/content/drive/My Drive/practicals20-21/Sentinel-2_FalseColour_uint8.tiff',\n",
        "                           'w', driver='Gtiff', width=band2.width, height=band2.height,\n",
        "                           count=3, crs=band2.crs, transform=band2.transform,\n",
        "                           dtype=np.uint8)\n",
        "falseColour.write(b3uint8,3) # show Green reflectance as Blue colour on screen\n",
        "falseColour.write(b4uint8,2) # show Red reflectance as Green colour on screen\n",
        "falseColour.write(b8uint8,1) # show NIR reflectance as Red colour on screen\n",
        "falseColour.close()\n",
        "\n",
        "# plot the uint8 false colour composite image\n",
        "imgfile = rasterio.open(r'/content/drive/My Drive/practicals20-21/Sentinel-2_FalseColour_uint8.tiff', count=3)\n",
        "plot.show(imgfile)\n",
        "\n",
        "# zoom in to an area of interest\n",
        "plt.xlim(640000,650000)\n",
        "plt.ylim(5840000,5850000)\n",
        "plot.show(imgfile)\n",
        "\n",
        "imgfile.close()"
      ],
      "execution_count": null,
      "outputs": []
    },
    {
      "cell_type": "markdown",
      "metadata": {
        "id": "JurF-Tzf-YeH"
      },
      "source": [
        "# And that is the end of this week's practical."
      ]
    }
  ]
}